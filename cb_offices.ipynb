{
 "cells": [
  {
   "cell_type": "markdown",
   "metadata": {},
   "source": [
    "# Explore the effects of office location and year founded"
   ]
  },
  {
   "cell_type": "code",
   "execution_count": 1,
   "metadata": {
    "collapsed": true
   },
   "outputs": [],
   "source": [
    "from modules import *"
   ]
  },
  {
   "cell_type": "code",
   "execution_count": 2,
   "metadata": {
    "collapsed": true
   },
   "outputs": [],
   "source": [
    "%matplotlib inline\n",
    "import matplotlib.pyplot as plt\n",
    "import seaborn as sns\n",
    "import numpy as np\n",
    "import pandas as pd\n",
    "\n",
    "plt.style.use('seaborn-dark')\n",
    "plt.rcParams['figure.figsize'] = (10, 6)"
   ]
  },
  {
   "cell_type": "code",
   "execution_count": 3,
   "metadata": {
    "collapsed": true
   },
   "outputs": [],
   "source": [
    "# connect to mysql db, read cb_offices table as dataframe, disconnect\n",
    "conn = dbConnect()\n",
    "offices = dbTableToDataFrame(conn, 'cb_offices')\n",
    "ipos = dbTableToDataFrame(conn, 'cb_ipos')\n",
    "conn.close()"
   ]
  },
  {
   "cell_type": "markdown",
   "metadata": {},
   "source": [
    "#### Look at offices and ipos dataframes & merge them"
   ]
  },
  {
   "cell_type": "code",
   "execution_count": 4,
   "metadata": {},
   "outputs": [
    {
     "data": {
      "text/html": [
       "<div>\n",
       "<style>\n",
       "    .dataframe thead tr:only-child th {\n",
       "        text-align: right;\n",
       "    }\n",
       "\n",
       "    .dataframe thead th {\n",
       "        text-align: left;\n",
       "    }\n",
       "\n",
       "    .dataframe tbody tr th {\n",
       "        vertical-align: top;\n",
       "    }\n",
       "</style>\n",
       "<table border=\"1\" class=\"dataframe\">\n",
       "  <thead>\n",
       "    <tr style=\"text-align: right;\">\n",
       "      <th></th>\n",
       "      <th>address1</th>\n",
       "      <th>address2</th>\n",
       "      <th>city</th>\n",
       "      <th>country_code</th>\n",
       "      <th>created_at</th>\n",
       "      <th>description</th>\n",
       "      <th>id</th>\n",
       "      <th>latitude</th>\n",
       "      <th>longitude</th>\n",
       "      <th>object_id</th>\n",
       "      <th>office_id</th>\n",
       "      <th>region</th>\n",
       "      <th>state_code</th>\n",
       "      <th>updated_at</th>\n",
       "      <th>zip_code</th>\n",
       "    </tr>\n",
       "  </thead>\n",
       "  <tbody>\n",
       "    <tr>\n",
       "      <th>0</th>\n",
       "      <td>710 - 2nd Avenue</td>\n",
       "      <td>Suite 1100</td>\n",
       "      <td>Seattle</td>\n",
       "      <td>USA</td>\n",
       "      <td>None</td>\n",
       "      <td></td>\n",
       "      <td>1</td>\n",
       "      <td>47.6031220000</td>\n",
       "      <td>-122.3332530000</td>\n",
       "      <td>c:1</td>\n",
       "      <td>1</td>\n",
       "      <td>Seattle</td>\n",
       "      <td>WA</td>\n",
       "      <td>None</td>\n",
       "      <td>98104</td>\n",
       "    </tr>\n",
       "    <tr>\n",
       "      <th>1</th>\n",
       "      <td>4900 Hopyard Rd</td>\n",
       "      <td>Suite 310</td>\n",
       "      <td>Pleasanton</td>\n",
       "      <td>USA</td>\n",
       "      <td>None</td>\n",
       "      <td>Headquarters</td>\n",
       "      <td>2</td>\n",
       "      <td>37.6929340000</td>\n",
       "      <td>-121.9049450000</td>\n",
       "      <td>c:3</td>\n",
       "      <td>3</td>\n",
       "      <td>SF Bay</td>\n",
       "      <td>CA</td>\n",
       "      <td>None</td>\n",
       "      <td>94588</td>\n",
       "    </tr>\n",
       "    <tr>\n",
       "      <th>2</th>\n",
       "      <td>135 Mississippi St</td>\n",
       "      <td>None</td>\n",
       "      <td>San Francisco</td>\n",
       "      <td>USA</td>\n",
       "      <td>None</td>\n",
       "      <td>None</td>\n",
       "      <td>3</td>\n",
       "      <td>37.7647260000</td>\n",
       "      <td>-122.3945230000</td>\n",
       "      <td>c:4</td>\n",
       "      <td>4</td>\n",
       "      <td>SF Bay</td>\n",
       "      <td>CA</td>\n",
       "      <td>None</td>\n",
       "      <td>94107</td>\n",
       "    </tr>\n",
       "    <tr>\n",
       "      <th>3</th>\n",
       "      <td>1601 Willow Road</td>\n",
       "      <td>None</td>\n",
       "      <td>Menlo Park</td>\n",
       "      <td>USA</td>\n",
       "      <td>None</td>\n",
       "      <td>Headquarters</td>\n",
       "      <td>4</td>\n",
       "      <td>37.4160500000</td>\n",
       "      <td>-122.1518010000</td>\n",
       "      <td>c:5</td>\n",
       "      <td>5</td>\n",
       "      <td>SF Bay</td>\n",
       "      <td>CA</td>\n",
       "      <td>None</td>\n",
       "      <td>94025</td>\n",
       "    </tr>\n",
       "    <tr>\n",
       "      <th>4</th>\n",
       "      <td>Suite 200</td>\n",
       "      <td>654 High Street</td>\n",
       "      <td>Palo Alto</td>\n",
       "      <td>ISR</td>\n",
       "      <td>None</td>\n",
       "      <td></td>\n",
       "      <td>5</td>\n",
       "      <td>None</td>\n",
       "      <td>None</td>\n",
       "      <td>c:7</td>\n",
       "      <td>7</td>\n",
       "      <td>SF Bay</td>\n",
       "      <td>CA</td>\n",
       "      <td>None</td>\n",
       "      <td>94301</td>\n",
       "    </tr>\n",
       "  </tbody>\n",
       "</table>\n",
       "</div>"
      ],
      "text/plain": [
       "             address1         address2           city country_code created_at  \\\n",
       "0    710 - 2nd Avenue       Suite 1100        Seattle          USA       None   \n",
       "1     4900 Hopyard Rd        Suite 310     Pleasanton          USA       None   \n",
       "2  135 Mississippi St             None  San Francisco          USA       None   \n",
       "3    1601 Willow Road             None     Menlo Park          USA       None   \n",
       "4           Suite 200  654 High Street      Palo Alto          ISR       None   \n",
       "\n",
       "    description  id       latitude        longitude object_id  office_id  \\\n",
       "0                 1  47.6031220000  -122.3332530000       c:1          1   \n",
       "1  Headquarters   2  37.6929340000  -121.9049450000       c:3          3   \n",
       "2          None   3  37.7647260000  -122.3945230000       c:4          4   \n",
       "3  Headquarters   4  37.4160500000  -122.1518010000       c:5          5   \n",
       "4                 5           None             None       c:7          7   \n",
       "\n",
       "    region state_code updated_at zip_code  \n",
       "0  Seattle         WA       None    98104  \n",
       "1   SF Bay         CA       None    94588  \n",
       "2   SF Bay         CA       None    94107  \n",
       "3   SF Bay         CA       None    94025  \n",
       "4   SF Bay         CA       None    94301  "
      ]
     },
     "execution_count": 4,
     "metadata": {},
     "output_type": "execute_result"
    }
   ],
   "source": [
    "offices.head()"
   ]
  },
  {
   "cell_type": "code",
   "execution_count": 5,
   "metadata": {},
   "outputs": [
    {
     "data": {
      "text/html": [
       "<div>\n",
       "<style>\n",
       "    .dataframe thead tr:only-child th {\n",
       "        text-align: right;\n",
       "    }\n",
       "\n",
       "    .dataframe thead th {\n",
       "        text-align: left;\n",
       "    }\n",
       "\n",
       "    .dataframe tbody tr th {\n",
       "        vertical-align: top;\n",
       "    }\n",
       "</style>\n",
       "<table border=\"1\" class=\"dataframe\">\n",
       "  <thead>\n",
       "    <tr style=\"text-align: right;\">\n",
       "      <th></th>\n",
       "      <th>created_at</th>\n",
       "      <th>id</th>\n",
       "      <th>ipo_id</th>\n",
       "      <th>object_id</th>\n",
       "      <th>public_at</th>\n",
       "      <th>raised_amount</th>\n",
       "      <th>raised_currency_code</th>\n",
       "      <th>source_description</th>\n",
       "      <th>source_url</th>\n",
       "      <th>stock_symbol</th>\n",
       "      <th>updated_at</th>\n",
       "      <th>valuation_amount</th>\n",
       "      <th>valuation_currency_code</th>\n",
       "    </tr>\n",
       "  </thead>\n",
       "  <tbody>\n",
       "    <tr>\n",
       "      <th>0</th>\n",
       "      <td>2008-02-09 05:17:45</td>\n",
       "      <td>1</td>\n",
       "      <td>1</td>\n",
       "      <td>c:1654</td>\n",
       "      <td>1980-12-19</td>\n",
       "      <td>None</td>\n",
       "      <td>USD</td>\n",
       "      <td>None</td>\n",
       "      <td>None</td>\n",
       "      <td>NASDAQ:AAPL</td>\n",
       "      <td>2012-04-12 04:02:59</td>\n",
       "      <td>None</td>\n",
       "      <td>USD</td>\n",
       "    </tr>\n",
       "    <tr>\n",
       "      <th>1</th>\n",
       "      <td>2008-02-09 05:25:18</td>\n",
       "      <td>2</td>\n",
       "      <td>2</td>\n",
       "      <td>c:1242</td>\n",
       "      <td>1986-03-13</td>\n",
       "      <td>None</td>\n",
       "      <td>None</td>\n",
       "      <td>None</td>\n",
       "      <td>None</td>\n",
       "      <td>NASDAQ:MSFT</td>\n",
       "      <td>2010-12-11 12:39:46</td>\n",
       "      <td>None</td>\n",
       "      <td>USD</td>\n",
       "    </tr>\n",
       "    <tr>\n",
       "      <th>2</th>\n",
       "      <td>2008-02-09 05:40:32</td>\n",
       "      <td>3</td>\n",
       "      <td>3</td>\n",
       "      <td>c:342</td>\n",
       "      <td>1969-06-09</td>\n",
       "      <td>None</td>\n",
       "      <td>None</td>\n",
       "      <td>None</td>\n",
       "      <td>None</td>\n",
       "      <td>NYSE:DIS</td>\n",
       "      <td>2010-12-23 08:58:16</td>\n",
       "      <td>None</td>\n",
       "      <td>USD</td>\n",
       "    </tr>\n",
       "    <tr>\n",
       "      <th>3</th>\n",
       "      <td>2008-02-10 22:51:24</td>\n",
       "      <td>4</td>\n",
       "      <td>4</td>\n",
       "      <td>c:59</td>\n",
       "      <td>2004-08-25</td>\n",
       "      <td>None</td>\n",
       "      <td>None</td>\n",
       "      <td>None</td>\n",
       "      <td>None</td>\n",
       "      <td>NASDAQ:GOOG</td>\n",
       "      <td>2011-08-01 20:47:08</td>\n",
       "      <td>None</td>\n",
       "      <td>USD</td>\n",
       "    </tr>\n",
       "    <tr>\n",
       "      <th>4</th>\n",
       "      <td>2008-02-10 23:28:09</td>\n",
       "      <td>5</td>\n",
       "      <td>5</td>\n",
       "      <td>c:317</td>\n",
       "      <td>1997-05-01</td>\n",
       "      <td>None</td>\n",
       "      <td>None</td>\n",
       "      <td>None</td>\n",
       "      <td>None</td>\n",
       "      <td>NASDAQ:AMZN</td>\n",
       "      <td>2011-08-01 21:11:22</td>\n",
       "      <td>100000000000</td>\n",
       "      <td>USD</td>\n",
       "    </tr>\n",
       "  </tbody>\n",
       "</table>\n",
       "</div>"
      ],
      "text/plain": [
       "           created_at  id  ipo_id object_id   public_at raised_amount  \\\n",
       "0 2008-02-09 05:17:45   1       1    c:1654  1980-12-19          None   \n",
       "1 2008-02-09 05:25:18   2       2    c:1242  1986-03-13          None   \n",
       "2 2008-02-09 05:40:32   3       3     c:342  1969-06-09          None   \n",
       "3 2008-02-10 22:51:24   4       4      c:59  2004-08-25          None   \n",
       "4 2008-02-10 23:28:09   5       5     c:317  1997-05-01          None   \n",
       "\n",
       "  raised_currency_code source_description source_url stock_symbol  \\\n",
       "0                  USD               None       None  NASDAQ:AAPL   \n",
       "1                 None               None       None  NASDAQ:MSFT   \n",
       "2                 None               None       None     NYSE:DIS   \n",
       "3                 None               None       None  NASDAQ:GOOG   \n",
       "4                 None               None       None  NASDAQ:AMZN   \n",
       "\n",
       "           updated_at valuation_amount valuation_currency_code  \n",
       "0 2012-04-12 04:02:59             None                     USD  \n",
       "1 2010-12-11 12:39:46             None                     USD  \n",
       "2 2010-12-23 08:58:16             None                     USD  \n",
       "3 2011-08-01 20:47:08             None                     USD  \n",
       "4 2011-08-01 21:11:22     100000000000                     USD  "
      ]
     },
     "execution_count": 5,
     "metadata": {},
     "output_type": "execute_result"
    }
   ],
   "source": [
    "ipos.head()"
   ]
  },
  {
   "cell_type": "code",
   "execution_count": 6,
   "metadata": {
    "collapsed": true
   },
   "outputs": [],
   "source": [
    "offices_ipos = pd.merge(offices, ipos, on='object_id')"
   ]
  },
  {
   "cell_type": "code",
   "execution_count": 7,
   "metadata": {},
   "outputs": [
    {
     "data": {
      "text/html": [
       "<div>\n",
       "<style>\n",
       "    .dataframe thead tr:only-child th {\n",
       "        text-align: right;\n",
       "    }\n",
       "\n",
       "    .dataframe thead th {\n",
       "        text-align: left;\n",
       "    }\n",
       "\n",
       "    .dataframe tbody tr th {\n",
       "        vertical-align: top;\n",
       "    }\n",
       "</style>\n",
       "<table border=\"1\" class=\"dataframe\">\n",
       "  <thead>\n",
       "    <tr style=\"text-align: right;\">\n",
       "      <th></th>\n",
       "      <th>address1</th>\n",
       "      <th>address2</th>\n",
       "      <th>city</th>\n",
       "      <th>country_code</th>\n",
       "      <th>created_at_x</th>\n",
       "      <th>description</th>\n",
       "      <th>id_x</th>\n",
       "      <th>latitude</th>\n",
       "      <th>longitude</th>\n",
       "      <th>object_id</th>\n",
       "      <th>...</th>\n",
       "      <th>ipo_id</th>\n",
       "      <th>public_at</th>\n",
       "      <th>raised_amount</th>\n",
       "      <th>raised_currency_code</th>\n",
       "      <th>source_description</th>\n",
       "      <th>source_url</th>\n",
       "      <th>stock_symbol</th>\n",
       "      <th>updated_at_y</th>\n",
       "      <th>valuation_amount</th>\n",
       "      <th>valuation_currency_code</th>\n",
       "    </tr>\n",
       "  </thead>\n",
       "  <tbody>\n",
       "    <tr>\n",
       "      <th>0</th>\n",
       "      <td>1601 Willow Road</td>\n",
       "      <td>None</td>\n",
       "      <td>Menlo Park</td>\n",
       "      <td>USA</td>\n",
       "      <td>None</td>\n",
       "      <td>Headquarters</td>\n",
       "      <td>4</td>\n",
       "      <td>37.4160500000</td>\n",
       "      <td>-122.1518010000</td>\n",
       "      <td>c:5</td>\n",
       "      <td>...</td>\n",
       "      <td>847</td>\n",
       "      <td>2012-05-18</td>\n",
       "      <td>18400000000</td>\n",
       "      <td>USD</td>\n",
       "      <td>Facebook Prices IPO at Record Value</td>\n",
       "      <td>http://online.wsj.com/news/articles/SB10001424...</td>\n",
       "      <td>NASDAQ:FB</td>\n",
       "      <td>2013-11-21 19:40:55</td>\n",
       "      <td>104000000000</td>\n",
       "      <td>USD</td>\n",
       "    </tr>\n",
       "    <tr>\n",
       "      <th>1</th>\n",
       "      <td>None</td>\n",
       "      <td>None</td>\n",
       "      <td>Dublin</td>\n",
       "      <td>IRL</td>\n",
       "      <td>None</td>\n",
       "      <td>Europe HQ</td>\n",
       "      <td>6975</td>\n",
       "      <td>53.3441040000</td>\n",
       "      <td>-6.2674940000</td>\n",
       "      <td>c:5</td>\n",
       "      <td>...</td>\n",
       "      <td>847</td>\n",
       "      <td>2012-05-18</td>\n",
       "      <td>18400000000</td>\n",
       "      <td>USD</td>\n",
       "      <td>Facebook Prices IPO at Record Value</td>\n",
       "      <td>http://online.wsj.com/news/articles/SB10001424...</td>\n",
       "      <td>NASDAQ:FB</td>\n",
       "      <td>2013-11-21 19:40:55</td>\n",
       "      <td>104000000000</td>\n",
       "      <td>USD</td>\n",
       "    </tr>\n",
       "    <tr>\n",
       "      <th>2</th>\n",
       "      <td>340 Madison Ave</td>\n",
       "      <td>None</td>\n",
       "      <td>New York</td>\n",
       "      <td>USA</td>\n",
       "      <td>None</td>\n",
       "      <td>New York</td>\n",
       "      <td>9084</td>\n",
       "      <td>40.7557162000</td>\n",
       "      <td>-73.9792469000</td>\n",
       "      <td>c:5</td>\n",
       "      <td>...</td>\n",
       "      <td>847</td>\n",
       "      <td>2012-05-18</td>\n",
       "      <td>18400000000</td>\n",
       "      <td>USD</td>\n",
       "      <td>Facebook Prices IPO at Record Value</td>\n",
       "      <td>http://online.wsj.com/news/articles/SB10001424...</td>\n",
       "      <td>NASDAQ:FB</td>\n",
       "      <td>2013-11-21 19:40:55</td>\n",
       "      <td>104000000000</td>\n",
       "      <td>USD</td>\n",
       "    </tr>\n",
       "    <tr>\n",
       "      <th>3</th>\n",
       "      <td>1355 Market St.</td>\n",
       "      <td>None</td>\n",
       "      <td>San Francisco</td>\n",
       "      <td>USA</td>\n",
       "      <td>None</td>\n",
       "      <td></td>\n",
       "      <td>10</td>\n",
       "      <td>37.7768052000</td>\n",
       "      <td>-122.4169244000</td>\n",
       "      <td>c:12</td>\n",
       "      <td>...</td>\n",
       "      <td>1310</td>\n",
       "      <td>2013-11-07</td>\n",
       "      <td>1820000000</td>\n",
       "      <td>USD</td>\n",
       "      <td>Twitter Prices IPO Above Estimates At $26 Per ...</td>\n",
       "      <td>http://techcrunch.com/2013/11/06/twitter-price...</td>\n",
       "      <td>NYSE:TWTR</td>\n",
       "      <td>2013-11-07 04:18:48</td>\n",
       "      <td>18100000000</td>\n",
       "      <td>USD</td>\n",
       "    </tr>\n",
       "    <tr>\n",
       "      <th>4</th>\n",
       "      <td>2145 Hamilton Avenue</td>\n",
       "      <td>None</td>\n",
       "      <td>San Jose</td>\n",
       "      <td>USA</td>\n",
       "      <td>None</td>\n",
       "      <td>Headquarters</td>\n",
       "      <td>16</td>\n",
       "      <td>37.2950050000</td>\n",
       "      <td>-121.9300350000</td>\n",
       "      <td>c:20</td>\n",
       "      <td>...</td>\n",
       "      <td>26</td>\n",
       "      <td>1998-10-02</td>\n",
       "      <td>None</td>\n",
       "      <td>USD</td>\n",
       "      <td>None</td>\n",
       "      <td>None</td>\n",
       "      <td>NASDAQ:EBAY</td>\n",
       "      <td>2012-04-12 04:24:15</td>\n",
       "      <td>None</td>\n",
       "      <td>USD</td>\n",
       "    </tr>\n",
       "  </tbody>\n",
       "</table>\n",
       "<p>5 rows × 27 columns</p>\n",
       "</div>"
      ],
      "text/plain": [
       "               address1 address2           city country_code created_at_x  \\\n",
       "0      1601 Willow Road     None     Menlo Park          USA         None   \n",
       "1                  None     None         Dublin          IRL         None   \n",
       "2       340 Madison Ave     None       New York          USA         None   \n",
       "3       1355 Market St.     None  San Francisco          USA         None   \n",
       "4  2145 Hamilton Avenue     None       San Jose          USA         None   \n",
       "\n",
       "    description  id_x       latitude        longitude object_id  \\\n",
       "0  Headquarters     4  37.4160500000  -122.1518010000       c:5   \n",
       "1     Europe HQ  6975  53.3441040000    -6.2674940000       c:5   \n",
       "2      New York  9084  40.7557162000   -73.9792469000       c:5   \n",
       "3                  10  37.7768052000  -122.4169244000      c:12   \n",
       "4  Headquarters    16  37.2950050000  -121.9300350000      c:20   \n",
       "\n",
       "            ...            ipo_id   public_at raised_amount  \\\n",
       "0           ...               847  2012-05-18   18400000000   \n",
       "1           ...               847  2012-05-18   18400000000   \n",
       "2           ...               847  2012-05-18   18400000000   \n",
       "3           ...              1310  2013-11-07    1820000000   \n",
       "4           ...                26  1998-10-02          None   \n",
       "\n",
       "  raised_currency_code                                 source_description  \\\n",
       "0                  USD                Facebook Prices IPO at Record Value   \n",
       "1                  USD                Facebook Prices IPO at Record Value   \n",
       "2                  USD                Facebook Prices IPO at Record Value   \n",
       "3                  USD  Twitter Prices IPO Above Estimates At $26 Per ...   \n",
       "4                  USD                                               None   \n",
       "\n",
       "                                          source_url  stock_symbol  \\\n",
       "0  http://online.wsj.com/news/articles/SB10001424...     NASDAQ:FB   \n",
       "1  http://online.wsj.com/news/articles/SB10001424...     NASDAQ:FB   \n",
       "2  http://online.wsj.com/news/articles/SB10001424...     NASDAQ:FB   \n",
       "3  http://techcrunch.com/2013/11/06/twitter-price...     NYSE:TWTR   \n",
       "4                                               None   NASDAQ:EBAY   \n",
       "\n",
       "         updated_at_y valuation_amount valuation_currency_code  \n",
       "0 2013-11-21 19:40:55     104000000000                     USD  \n",
       "1 2013-11-21 19:40:55     104000000000                     USD  \n",
       "2 2013-11-21 19:40:55     104000000000                     USD  \n",
       "3 2013-11-07 04:18:48      18100000000                     USD  \n",
       "4 2012-04-12 04:24:15             None                     USD  \n",
       "\n",
       "[5 rows x 27 columns]"
      ]
     },
     "execution_count": 7,
     "metadata": {},
     "output_type": "execute_result"
    }
   ],
   "source": [
    "offices_ipos.head()"
   ]
  },
  {
   "cell_type": "markdown",
   "metadata": {},
   "source": [
    "### Look at distribution of valuation amounts where provided"
   ]
  },
  {
   "cell_type": "markdown",
   "metadata": {},
   "source": [
    "The valuations are all 0.2e11 or less except for 3 that are 1e11+."
   ]
  },
  {
   "cell_type": "code",
   "execution_count": 8,
   "metadata": {},
   "outputs": [
    {
     "data": {
      "image/png": "[encoded data removed]",
      "text/plain": [
       "<matplotlib.figure.Figure at 0x107f8a7b8>"
      ]
     },
     "metadata": {},
     "output_type": "display_data"
    }
   ],
   "source": [
    "# plot valuation distribution; include number of companies considering\n",
    "val = pd.to_numeric(offices_ipos[~offices_ipos.valuation_amount.isnull()].valuation_amount)\n",
    "a=sns.distplot(val, rug=True);\n",
    "a.set_title('valuation distribution (N = ' + str(len(val)) + ')');"
   ]
  },
  {
   "cell_type": "markdown",
   "metadata": {},
   "source": [
    "We look at these 3 outliers and see that one is simply because the valuation amount is in JPY (currently 1 JPY = 0.0088 USD). The other two are Facebook and Amazon, which we know to be companies with very high valuationos. We will look at those with valuation_currency_code 'USD' moving forward."
   ]
  },
  {
   "cell_type": "code",
   "execution_count": 9,
   "metadata": {},
   "outputs": [
    {
     "data": {
      "text/html": [
       "<div>\n",
       "<style>\n",
       "    .dataframe thead tr:only-child th {\n",
       "        text-align: right;\n",
       "    }\n",
       "\n",
       "    .dataframe thead th {\n",
       "        text-align: left;\n",
       "    }\n",
       "\n",
       "    .dataframe tbody tr th {\n",
       "        vertical-align: top;\n",
       "    }\n",
       "</style>\n",
       "<table border=\"1\" class=\"dataframe\">\n",
       "  <thead>\n",
       "    <tr style=\"text-align: right;\">\n",
       "      <th></th>\n",
       "      <th>address1</th>\n",
       "      <th>address2</th>\n",
       "      <th>city</th>\n",
       "      <th>country_code</th>\n",
       "      <th>created_at_x</th>\n",
       "      <th>description</th>\n",
       "      <th>id_x</th>\n",
       "      <th>latitude</th>\n",
       "      <th>longitude</th>\n",
       "      <th>object_id</th>\n",
       "      <th>...</th>\n",
       "      <th>ipo_id</th>\n",
       "      <th>public_at</th>\n",
       "      <th>raised_amount</th>\n",
       "      <th>raised_currency_code</th>\n",
       "      <th>source_description</th>\n",
       "      <th>source_url</th>\n",
       "      <th>stock_symbol</th>\n",
       "      <th>updated_at_y</th>\n",
       "      <th>valuation_amount</th>\n",
       "      <th>valuation_currency_code</th>\n",
       "    </tr>\n",
       "  </thead>\n",
       "  <tbody>\n",
       "    <tr>\n",
       "      <th>0</th>\n",
       "      <td>1601 Willow Road</td>\n",
       "      <td>None</td>\n",
       "      <td>Menlo Park</td>\n",
       "      <td>USA</td>\n",
       "      <td>None</td>\n",
       "      <td>Headquarters</td>\n",
       "      <td>4</td>\n",
       "      <td>37.4160500000</td>\n",
       "      <td>-122.1518010000</td>\n",
       "      <td>c:5</td>\n",
       "      <td>...</td>\n",
       "      <td>847</td>\n",
       "      <td>2012-05-18</td>\n",
       "      <td>18400000000</td>\n",
       "      <td>USD</td>\n",
       "      <td>Facebook Prices IPO at Record Value</td>\n",
       "      <td>http://online.wsj.com/news/articles/SB10001424...</td>\n",
       "      <td>NASDAQ:FB</td>\n",
       "      <td>2013-11-21 19:40:55</td>\n",
       "      <td>104000000000</td>\n",
       "      <td>USD</td>\n",
       "    </tr>\n",
       "    <tr>\n",
       "      <th>1</th>\n",
       "      <td>None</td>\n",
       "      <td>None</td>\n",
       "      <td>Dublin</td>\n",
       "      <td>IRL</td>\n",
       "      <td>None</td>\n",
       "      <td>Europe HQ</td>\n",
       "      <td>6975</td>\n",
       "      <td>53.3441040000</td>\n",
       "      <td>-6.2674940000</td>\n",
       "      <td>c:5</td>\n",
       "      <td>...</td>\n",
       "      <td>847</td>\n",
       "      <td>2012-05-18</td>\n",
       "      <td>18400000000</td>\n",
       "      <td>USD</td>\n",
       "      <td>Facebook Prices IPO at Record Value</td>\n",
       "      <td>http://online.wsj.com/news/articles/SB10001424...</td>\n",
       "      <td>NASDAQ:FB</td>\n",
       "      <td>2013-11-21 19:40:55</td>\n",
       "      <td>104000000000</td>\n",
       "      <td>USD</td>\n",
       "    </tr>\n",
       "    <tr>\n",
       "      <th>2</th>\n",
       "      <td>340 Madison Ave</td>\n",
       "      <td>None</td>\n",
       "      <td>New York</td>\n",
       "      <td>USA</td>\n",
       "      <td>None</td>\n",
       "      <td>New York</td>\n",
       "      <td>9084</td>\n",
       "      <td>40.7557162000</td>\n",
       "      <td>-73.9792469000</td>\n",
       "      <td>c:5</td>\n",
       "      <td>...</td>\n",
       "      <td>847</td>\n",
       "      <td>2012-05-18</td>\n",
       "      <td>18400000000</td>\n",
       "      <td>USD</td>\n",
       "      <td>Facebook Prices IPO at Record Value</td>\n",
       "      <td>http://online.wsj.com/news/articles/SB10001424...</td>\n",
       "      <td>NASDAQ:FB</td>\n",
       "      <td>2013-11-21 19:40:55</td>\n",
       "      <td>104000000000</td>\n",
       "      <td>USD</td>\n",
       "    </tr>\n",
       "    <tr>\n",
       "      <th>91</th>\n",
       "      <td>1200 12th Ave</td>\n",
       "      <td>S # 1200</td>\n",
       "      <td>Seattle</td>\n",
       "      <td>USA</td>\n",
       "      <td>None</td>\n",
       "      <td>None</td>\n",
       "      <td>288</td>\n",
       "      <td>47.5923000000</td>\n",
       "      <td>-122.3172950000</td>\n",
       "      <td>c:317</td>\n",
       "      <td>...</td>\n",
       "      <td>5</td>\n",
       "      <td>1997-05-01</td>\n",
       "      <td>None</td>\n",
       "      <td>None</td>\n",
       "      <td>None</td>\n",
       "      <td>None</td>\n",
       "      <td>NASDAQ:AMZN</td>\n",
       "      <td>2011-08-01 21:11:22</td>\n",
       "      <td>100000000000</td>\n",
       "      <td>USD</td>\n",
       "    </tr>\n",
       "    <tr>\n",
       "      <th>360</th>\n",
       "      <td>Roppongi-Hills Mori Tower, 6-10-1, Roppongi</td>\n",
       "      <td>Minato-ku</td>\n",
       "      <td>Tokyo</td>\n",
       "      <td>JPN</td>\n",
       "      <td>None</td>\n",
       "      <td>Headquarters</td>\n",
       "      <td>9085</td>\n",
       "      <td>None</td>\n",
       "      <td>None</td>\n",
       "      <td>c:15609</td>\n",
       "      <td>...</td>\n",
       "      <td>78</td>\n",
       "      <td>2008-12-17</td>\n",
       "      <td>None</td>\n",
       "      <td>None</td>\n",
       "      <td>None</td>\n",
       "      <td>None</td>\n",
       "      <td>3632</td>\n",
       "      <td>2010-10-08 06:47:07</td>\n",
       "      <td>108960000000</td>\n",
       "      <td>JPY</td>\n",
       "    </tr>\n",
       "  </tbody>\n",
       "</table>\n",
       "<p>5 rows × 27 columns</p>\n",
       "</div>"
      ],
      "text/plain": [
       "                                        address1   address2        city  \\\n",
       "0                               1601 Willow Road       None  Menlo Park   \n",
       "1                                           None       None      Dublin   \n",
       "2                                340 Madison Ave       None    New York   \n",
       "91                                 1200 12th Ave   S # 1200     Seattle   \n",
       "360  Roppongi-Hills Mori Tower, 6-10-1, Roppongi  Minato-ku       Tokyo   \n",
       "\n",
       "    country_code created_at_x   description  id_x       latitude  \\\n",
       "0            USA         None  Headquarters     4  37.4160500000   \n",
       "1            IRL         None     Europe HQ  6975  53.3441040000   \n",
       "2            USA         None      New York  9084  40.7557162000   \n",
       "91           USA         None          None   288  47.5923000000   \n",
       "360          JPN         None  Headquarters  9085           None   \n",
       "\n",
       "           longitude object_id           ...            ipo_id   public_at  \\\n",
       "0    -122.1518010000       c:5           ...               847  2012-05-18   \n",
       "1      -6.2674940000       c:5           ...               847  2012-05-18   \n",
       "2     -73.9792469000       c:5           ...               847  2012-05-18   \n",
       "91   -122.3172950000     c:317           ...                 5  1997-05-01   \n",
       "360             None   c:15609           ...                78  2008-12-17   \n",
       "\n",
       "    raised_amount raised_currency_code                   source_description  \\\n",
       "0     18400000000                  USD  Facebook Prices IPO at Record Value   \n",
       "1     18400000000                  USD  Facebook Prices IPO at Record Value   \n",
       "2     18400000000                  USD  Facebook Prices IPO at Record Value   \n",
       "91           None                 None                                 None   \n",
       "360          None                 None                                 None   \n",
       "\n",
       "                                            source_url  stock_symbol  \\\n",
       "0    http://online.wsj.com/news/articles/SB10001424...     NASDAQ:FB   \n",
       "1    http://online.wsj.com/news/articles/SB10001424...     NASDAQ:FB   \n",
       "2    http://online.wsj.com/news/articles/SB10001424...     NASDAQ:FB   \n",
       "91                                                None   NASDAQ:AMZN   \n",
       "360                                               None          3632   \n",
       "\n",
       "           updated_at_y valuation_amount valuation_currency_code  \n",
       "0   2013-11-21 19:40:55     104000000000                     USD  \n",
       "1   2013-11-21 19:40:55     104000000000                     USD  \n",
       "2   2013-11-21 19:40:55     104000000000                     USD  \n",
       "91  2011-08-01 21:11:22     100000000000                     USD  \n",
       "360 2010-10-08 06:47:07     108960000000                     JPY  \n",
       "\n",
       "[5 rows x 27 columns]"
      ]
     },
     "execution_count": 9,
     "metadata": {},
     "output_type": "execute_result"
    }
   ],
   "source": [
    "offices_ipos[pd.to_numeric(offices_ipos.valuation_amount) > 0.8e11]"
   ]
  },
  {
   "cell_type": "markdown",
   "metadata": {},
   "source": [
    "### Look at valuation amount by region"
   ]
  },
  {
   "cell_type": "markdown",
   "metadata": {},
   "source": [
    "We want to determine the effect of location on IPO valuation. In particular, consider the median valuation and number of IPOs by region."
   ]
  },
  {
   "cell_type": "code",
   "execution_count": 10,
   "metadata": {},
   "outputs": [
    {
     "data": {
      "text/html": [
       "<div>\n",
       "<style>\n",
       "    .dataframe thead tr:only-child th {\n",
       "        text-align: right;\n",
       "    }\n",
       "\n",
       "    .dataframe thead th {\n",
       "        text-align: left;\n",
       "    }\n",
       "\n",
       "    .dataframe tbody tr th {\n",
       "        vertical-align: top;\n",
       "    }\n",
       "</style>\n",
       "<table border=\"1\" class=\"dataframe\">\n",
       "  <thead>\n",
       "    <tr style=\"text-align: right;\">\n",
       "      <th></th>\n",
       "      <th>valuation_amount</th>\n",
       "    </tr>\n",
       "  </thead>\n",
       "  <tbody>\n",
       "    <tr>\n",
       "      <th>count</th>\n",
       "      <td>1.670000e+02</td>\n",
       "    </tr>\n",
       "    <tr>\n",
       "      <th>mean</th>\n",
       "      <td>4.417525e+09</td>\n",
       "    </tr>\n",
       "    <tr>\n",
       "      <th>std</th>\n",
       "      <td>1.784308e+10</td>\n",
       "    </tr>\n",
       "    <tr>\n",
       "      <th>min</th>\n",
       "      <td>3.860000e+04</td>\n",
       "    </tr>\n",
       "    <tr>\n",
       "      <th>25%</th>\n",
       "      <td>1.093750e+08</td>\n",
       "    </tr>\n",
       "    <tr>\n",
       "      <th>50%</th>\n",
       "      <td>3.150000e+08</td>\n",
       "    </tr>\n",
       "    <tr>\n",
       "      <th>75%</th>\n",
       "      <td>1.000000e+09</td>\n",
       "    </tr>\n",
       "    <tr>\n",
       "      <th>max</th>\n",
       "      <td>1.089600e+11</td>\n",
       "    </tr>\n",
       "  </tbody>\n",
       "</table>\n",
       "</div>"
      ],
      "text/plain": [
       "       valuation_amount\n",
       "count      1.670000e+02\n",
       "mean       4.417525e+09\n",
       "std        1.784308e+10\n",
       "min        3.860000e+04\n",
       "25%        1.093750e+08\n",
       "50%        3.150000e+08\n",
       "75%        1.000000e+09\n",
       "max        1.089600e+11"
      ]
     },
     "execution_count": 10,
     "metadata": {},
     "output_type": "execute_result"
    }
   ],
   "source": [
    "# look distribution of valuation amounts\n",
    "offices_ipos_us = offices_ipos[offices_ipos.valuation_currency_code == 'USD']\n",
    "val_us = pd.to_numeric(offices_ipos_us[~offices_ipos_us.valuation_amount.isnull()].valuation_amount)\n",
    "region = offices_ipos_us[~offices_ipos_us.valuation_amount.isnull()].region\n",
    "df_region_val = pd.concat([region, val], axis=1)\n",
    "df_region_val.describe()\n",
    "\n",
    "# look at valuation by region\n",
    "#a=sns.boxplot(df_region_val.region, df_region_val.valuation_amount)\n",
    "#a.set_ylabel('valuation amount')\n",
    "#a.set_title('valuation by region')\n",
    "#a.set_xticklabels(labels=df_region_val.region, rotation=90);"
   ]
  },
  {
   "cell_type": "code",
   "execution_count": 11,
   "metadata": {
    "collapsed": true
   },
   "outputs": [],
   "source": [
    "# perform calculations on a per region basis\n",
    "reg = df_region_val.groupby(['region'])"
   ]
  },
  {
   "cell_type": "code",
   "execution_count": 15,
   "metadata": {},
   "outputs": [
    {
     "data": {
      "text/html": [
       "<div>\n",
       "<style>\n",
       "    .dataframe thead tr:only-child th {\n",
       "        text-align: right;\n",
       "    }\n",
       "\n",
       "    .dataframe thead th {\n",
       "        text-align: left;\n",
       "    }\n",
       "\n",
       "    .dataframe tbody tr th {\n",
       "        vertical-align: top;\n",
       "    }\n",
       "</style>\n",
       "<table border=\"1\" class=\"dataframe\">\n",
       "  <thead>\n",
       "    <tr style=\"text-align: right;\">\n",
       "      <th></th>\n",
       "      <th>valuation_amount</th>\n",
       "    </tr>\n",
       "    <tr>\n",
       "      <th>region</th>\n",
       "      <th></th>\n",
       "    </tr>\n",
       "  </thead>\n",
       "  <tbody>\n",
       "    <tr>\n",
       "      <th>Dublin</th>\n",
       "      <td>1.040000e+11</td>\n",
       "    </tr>\n",
       "    <tr>\n",
       "      <th>Shenzhen</th>\n",
       "      <td>1.100000e+10</td>\n",
       "    </tr>\n",
       "    <tr>\n",
       "      <th>Bangalore</th>\n",
       "      <td>9.310000e+09</td>\n",
       "    </tr>\n",
       "    <tr>\n",
       "      <th>Houston</th>\n",
       "      <td>6.000000e+09</td>\n",
       "    </tr>\n",
       "  </tbody>\n",
       "</table>\n",
       "</div>"
      ],
      "text/plain": [
       "           valuation_amount\n",
       "region                     \n",
       "Dublin         1.040000e+11\n",
       "Shenzhen       1.100000e+10\n",
       "Bangalore      9.310000e+09\n",
       "Houston        6.000000e+09"
      ]
     },
     "execution_count": 15,
     "metadata": {},
     "output_type": "execute_result"
    }
   ],
   "source": [
    "# median ipo valuation by region\n",
    "ave = reg.median()\n",
    "ave.sort_values(by='valuation_amount', ascending=False)[0:4]"
   ]
  },
  {
   "cell_type": "markdown",
   "metadata": {},
   "source": [
    "SF Bay has the most IPOs with NY, London, and Seattle following. "
   ]
  },
  {
   "cell_type": "code",
   "execution_count": 19,
   "metadata": {},
   "outputs": [
    {
     "data": {
      "text/html": [
       "<div>\n",
       "<style>\n",
       "    .dataframe thead tr:only-child th {\n",
       "        text-align: right;\n",
       "    }\n",
       "\n",
       "    .dataframe thead th {\n",
       "        text-align: left;\n",
       "    }\n",
       "\n",
       "    .dataframe tbody tr th {\n",
       "        vertical-align: top;\n",
       "    }\n",
       "</style>\n",
       "<table border=\"1\" class=\"dataframe\">\n",
       "  <thead>\n",
       "    <tr style=\"text-align: right;\">\n",
       "      <th></th>\n",
       "      <th>valuation_amount</th>\n",
       "    </tr>\n",
       "    <tr>\n",
       "      <th>region</th>\n",
       "      <th></th>\n",
       "    </tr>\n",
       "  </thead>\n",
       "  <tbody>\n",
       "    <tr>\n",
       "      <th>SF Bay</th>\n",
       "      <td>34</td>\n",
       "    </tr>\n",
       "    <tr>\n",
       "      <th>New York</th>\n",
       "      <td>11</td>\n",
       "    </tr>\n",
       "    <tr>\n",
       "      <th>London</th>\n",
       "      <td>8</td>\n",
       "    </tr>\n",
       "    <tr>\n",
       "      <th>Seattle</th>\n",
       "      <td>7</td>\n",
       "    </tr>\n",
       "    <tr>\n",
       "      <th>Denver</th>\n",
       "      <td>6</td>\n",
       "    </tr>\n",
       "    <tr>\n",
       "      <th>Boston</th>\n",
       "      <td>6</td>\n",
       "    </tr>\n",
       "    <tr>\n",
       "      <th>Los Angeles</th>\n",
       "      <td>6</td>\n",
       "    </tr>\n",
       "    <tr>\n",
       "      <th>Chicago</th>\n",
       "      <td>5</td>\n",
       "    </tr>\n",
       "    <tr>\n",
       "      <th>Beijing</th>\n",
       "      <td>4</td>\n",
       "    </tr>\n",
       "    <tr>\n",
       "      <th>Singapore</th>\n",
       "      <td>3</td>\n",
       "    </tr>\n",
       "  </tbody>\n",
       "</table>\n",
       "</div>"
      ],
      "text/plain": [
       "             valuation_amount\n",
       "region                       \n",
       "SF Bay                     34\n",
       "New York                   11\n",
       "London                      8\n",
       "Seattle                     7\n",
       "Denver                      6\n",
       "Boston                      6\n",
       "Los Angeles                 6\n",
       "Chicago                     5\n",
       "Beijing                     4\n",
       "Singapore                   3"
      ]
     },
     "execution_count": 19,
     "metadata": {},
     "output_type": "execute_result"
    }
   ],
   "source": [
    "# sort regions by number of ipos (that had valutation amount) \n",
    "num = reg.count()\n",
    "num.sort_values(by='valuation_amount', ascending=False)[0:10]"
   ]
  },
  {
   "cell_type": "markdown",
   "metadata": {},
   "source": [
    "### Analysis of number of IPOs over time"
   ]
  },
  {
   "cell_type": "markdown",
   "metadata": {},
   "source": [
    "In addition to looking at the value and region of companies that IPO we also look at historical trends in terms of the number of IPOs over time."
   ]
  },
  {
   "cell_type": "code",
   "execution_count": 20,
   "metadata": {
    "collapsed": true
   },
   "outputs": [],
   "source": [
    "# plot number of ipos by year with different color for each region\n",
    "# now don't filter to ones with valuation amount only\n",
    "dt = pd.to_datetime(offices_ipos.public_at)\n",
    "valAll = pd.to_numeric(offices_ipos.valuation_amount)\n",
    "regionAll = offices_ipos.region"
   ]
  },
  {
   "cell_type": "code",
   "execution_count": 29,
   "metadata": {},
   "outputs": [],
   "source": [
    "df_region_dt = pd.concat([regionAll, dt], axis=1)\n",
    "time = df_region_dt.groupby([dt.dt.year])"
   ]
  },
  {
   "cell_type": "code",
   "execution_count": 30,
   "metadata": {},
   "outputs": [
    {
     "data": {
      "text/html": [
       "<div>\n",
       "<style>\n",
       "    .dataframe thead tr:only-child th {\n",
       "        text-align: right;\n",
       "    }\n",
       "\n",
       "    .dataframe thead th {\n",
       "        text-align: left;\n",
       "    }\n",
       "\n",
       "    .dataframe tbody tr th {\n",
       "        vertical-align: top;\n",
       "    }\n",
       "</style>\n",
       "<table border=\"1\" class=\"dataframe\">\n",
       "  <thead>\n",
       "    <tr style=\"text-align: right;\">\n",
       "      <th></th>\n",
       "      <th>region</th>\n",
       "      <th>public_at</th>\n",
       "    </tr>\n",
       "    <tr>\n",
       "      <th>public_at</th>\n",
       "      <th></th>\n",
       "      <th></th>\n",
       "    </tr>\n",
       "  </thead>\n",
       "  <tbody>\n",
       "    <tr>\n",
       "      <th>2013.0</th>\n",
       "      <td>154</td>\n",
       "      <td>154</td>\n",
       "    </tr>\n",
       "    <tr>\n",
       "      <th>2004.0</th>\n",
       "      <td>88</td>\n",
       "      <td>88</td>\n",
       "    </tr>\n",
       "    <tr>\n",
       "      <th>2011.0</th>\n",
       "      <td>83</td>\n",
       "      <td>83</td>\n",
       "    </tr>\n",
       "    <tr>\n",
       "      <th>2010.0</th>\n",
       "      <td>77</td>\n",
       "      <td>77</td>\n",
       "    </tr>\n",
       "    <tr>\n",
       "      <th>2012.0</th>\n",
       "      <td>51</td>\n",
       "      <td>51</td>\n",
       "    </tr>\n",
       "    <tr>\n",
       "      <th>2009.0</th>\n",
       "      <td>47</td>\n",
       "      <td>47</td>\n",
       "    </tr>\n",
       "    <tr>\n",
       "      <th>1999.0</th>\n",
       "      <td>47</td>\n",
       "      <td>47</td>\n",
       "    </tr>\n",
       "    <tr>\n",
       "      <th>2007.0</th>\n",
       "      <td>46</td>\n",
       "      <td>46</td>\n",
       "    </tr>\n",
       "    <tr>\n",
       "      <th>2008.0</th>\n",
       "      <td>44</td>\n",
       "      <td>44</td>\n",
       "    </tr>\n",
       "    <tr>\n",
       "      <th>2000.0</th>\n",
       "      <td>43</td>\n",
       "      <td>43</td>\n",
       "    </tr>\n",
       "  </tbody>\n",
       "</table>\n",
       "</div>"
      ],
      "text/plain": [
       "           region  public_at\n",
       "public_at                   \n",
       "2013.0        154        154\n",
       "2004.0         88         88\n",
       "2011.0         83         83\n",
       "2010.0         77         77\n",
       "2012.0         51         51\n",
       "2009.0         47         47\n",
       "1999.0         47         47\n",
       "2007.0         46         46\n",
       "2008.0         44         44\n",
       "2000.0         43         43"
      ]
     },
     "execution_count": 30,
     "metadata": {},
     "output_type": "execute_result"
    }
   ],
   "source": [
    "# top counts by year\n",
    "num = time.count()\n",
    "num.sort_values(by='public_at', ascending=False).head(10)"
   ]
  },
  {
   "cell_type": "code",
   "execution_count": 27,
   "metadata": {},
   "outputs": [
    {
     "data": {
      "image/png": "[encoded data removed]",
      "text/plain": [
       "<matplotlib.figure.Figure at 0x115822c50>"
      ]
     },
     "metadata": {},
     "output_type": "display_data"
    }
   ],
   "source": [
    "# barplot showing number of ipos by year\n",
    "a=sns.barplot(num.public_at.index, num.public_at)\n",
    "a.set_ylabel('number of ipos')\n",
    "a.set_xlabel('year')\n",
    "a.set_title('number of ipos by year');\n",
    "a.set_xticklabels(labels=num.public_at.index, rotation=90);"
   ]
  },
  {
   "cell_type": "markdown",
   "metadata": {},
   "source": [
    "### Incorporate cb_ojects into analysis"
   ]
  },
  {
   "cell_type": "markdown",
   "metadata": {},
   "source": [
    "While we had been considering valuation amount from the IPOs data, we ultimately decided to instead consider funding_total_usd for the below analysis because it is a much richer dataset. We have N=27,874 instead of N=167."
   ]
  },
  {
   "cell_type": "code",
   "execution_count": 31,
   "metadata": {
    "collapsed": true
   },
   "outputs": [],
   "source": [
    "conn = dbConnect()\n",
    "objs = dbTableToDataFrame(conn, 'cb_objects')\n",
    "conn.close()"
   ]
  },
  {
   "cell_type": "code",
   "execution_count": 32,
   "metadata": {},
   "outputs": [
    {
     "data": {
      "text/html": [
       "<div>\n",
       "<style>\n",
       "    .dataframe thead tr:only-child th {\n",
       "        text-align: right;\n",
       "    }\n",
       "\n",
       "    .dataframe thead th {\n",
       "        text-align: left;\n",
       "    }\n",
       "\n",
       "    .dataframe tbody tr th {\n",
       "        vertical-align: top;\n",
       "    }\n",
       "</style>\n",
       "<table border=\"1\" class=\"dataframe\">\n",
       "  <thead>\n",
       "    <tr style=\"text-align: right;\">\n",
       "      <th></th>\n",
       "      <th>category_code</th>\n",
       "      <th>city</th>\n",
       "      <th>closed_at</th>\n",
       "      <th>country_code</th>\n",
       "      <th>created_at</th>\n",
       "      <th>created_by</th>\n",
       "      <th>description</th>\n",
       "      <th>domain</th>\n",
       "      <th>entity_id</th>\n",
       "      <th>entity_type</th>\n",
       "      <th>...</th>\n",
       "      <th>parent_id</th>\n",
       "      <th>permalink</th>\n",
       "      <th>region</th>\n",
       "      <th>relationships</th>\n",
       "      <th>short_description</th>\n",
       "      <th>state_code</th>\n",
       "      <th>status</th>\n",
       "      <th>tag_list</th>\n",
       "      <th>twitter_username</th>\n",
       "      <th>updated_at</th>\n",
       "    </tr>\n",
       "  </thead>\n",
       "  <tbody>\n",
       "    <tr>\n",
       "      <th>0</th>\n",
       "      <td>web</td>\n",
       "      <td>Seattle</td>\n",
       "      <td>None</td>\n",
       "      <td>USA</td>\n",
       "      <td>2007-05-25 06:51:27</td>\n",
       "      <td>initial-importer</td>\n",
       "      <td>Technology Platform Company</td>\n",
       "      <td>wetpaint-inc.com</td>\n",
       "      <td>1</td>\n",
       "      <td>Company</td>\n",
       "      <td>...</td>\n",
       "      <td>None</td>\n",
       "      <td>/company/wetpaint</td>\n",
       "      <td>Seattle</td>\n",
       "      <td>17.0</td>\n",
       "      <td>None</td>\n",
       "      <td>WA</td>\n",
       "      <td>operating</td>\n",
       "      <td>wiki, seattle, elowitz, media-industry, media-...</td>\n",
       "      <td>BachelrWetpaint</td>\n",
       "      <td>2013-04-13 03:29:00</td>\n",
       "    </tr>\n",
       "    <tr>\n",
       "      <th>1</th>\n",
       "      <td>games_video</td>\n",
       "      <td>Culver City</td>\n",
       "      <td>None</td>\n",
       "      <td>USA</td>\n",
       "      <td>2007-05-31 21:11:51</td>\n",
       "      <td>initial-importer</td>\n",
       "      <td>None</td>\n",
       "      <td>flektor.com</td>\n",
       "      <td>10</td>\n",
       "      <td>Company</td>\n",
       "      <td>...</td>\n",
       "      <td>None</td>\n",
       "      <td>/company/flektor</td>\n",
       "      <td>Los Angeles</td>\n",
       "      <td>6.0</td>\n",
       "      <td>None</td>\n",
       "      <td>CA</td>\n",
       "      <td>acquired</td>\n",
       "      <td>flektor, photo, video</td>\n",
       "      <td>None</td>\n",
       "      <td>2008-05-23 23:23:14</td>\n",
       "    </tr>\n",
       "    <tr>\n",
       "      <th>2</th>\n",
       "      <td>games_video</td>\n",
       "      <td>San Mateo</td>\n",
       "      <td>None</td>\n",
       "      <td>USA</td>\n",
       "      <td>2007-08-06 23:52:45</td>\n",
       "      <td>initial-importer</td>\n",
       "      <td></td>\n",
       "      <td>there.com</td>\n",
       "      <td>100</td>\n",
       "      <td>Company</td>\n",
       "      <td>...</td>\n",
       "      <td>None</td>\n",
       "      <td>/company/there</td>\n",
       "      <td>SF Bay</td>\n",
       "      <td>12.0</td>\n",
       "      <td>None</td>\n",
       "      <td>CA</td>\n",
       "      <td>acquired</td>\n",
       "      <td>virtualworld, there, teens</td>\n",
       "      <td>None</td>\n",
       "      <td>2013-11-04 02:09:48</td>\n",
       "    </tr>\n",
       "    <tr>\n",
       "      <th>3</th>\n",
       "      <td>network_hosting</td>\n",
       "      <td>None</td>\n",
       "      <td>None</td>\n",
       "      <td>None</td>\n",
       "      <td>2008-08-24 16:51:57</td>\n",
       "      <td>None</td>\n",
       "      <td>None</td>\n",
       "      <td>mywebbo.com</td>\n",
       "      <td>10000</td>\n",
       "      <td>Company</td>\n",
       "      <td>...</td>\n",
       "      <td>None</td>\n",
       "      <td>/company/mywebbo</td>\n",
       "      <td>unknown</td>\n",
       "      <td>NaN</td>\n",
       "      <td>None</td>\n",
       "      <td>None</td>\n",
       "      <td>operating</td>\n",
       "      <td>social-network, new, website, web, friends, ch...</td>\n",
       "      <td>None</td>\n",
       "      <td>2008-09-06 14:19:18</td>\n",
       "    </tr>\n",
       "    <tr>\n",
       "      <th>4</th>\n",
       "      <td>games_video</td>\n",
       "      <td>None</td>\n",
       "      <td>None</td>\n",
       "      <td>None</td>\n",
       "      <td>2008-08-24 17:10:34</td>\n",
       "      <td>None</td>\n",
       "      <td>None</td>\n",
       "      <td>themoviestreamer.com</td>\n",
       "      <td>10001</td>\n",
       "      <td>Company</td>\n",
       "      <td>...</td>\n",
       "      <td>None</td>\n",
       "      <td>/company/the-movie-streamer</td>\n",
       "      <td>unknown</td>\n",
       "      <td>NaN</td>\n",
       "      <td>None</td>\n",
       "      <td>None</td>\n",
       "      <td>operating</td>\n",
       "      <td>watch, full-length, moives, online, for, free,...</td>\n",
       "      <td>None</td>\n",
       "      <td>2008-09-06 14:19:18</td>\n",
       "    </tr>\n",
       "  </tbody>\n",
       "</table>\n",
       "<p>5 rows × 40 columns</p>\n",
       "</div>"
      ],
      "text/plain": [
       "     category_code         city closed_at country_code          created_at  \\\n",
       "0              web      Seattle      None          USA 2007-05-25 06:51:27   \n",
       "1      games_video  Culver City      None          USA 2007-05-31 21:11:51   \n",
       "2      games_video    San Mateo      None          USA 2007-08-06 23:52:45   \n",
       "3  network_hosting         None      None         None 2008-08-24 16:51:57   \n",
       "4      games_video         None      None         None 2008-08-24 17:10:34   \n",
       "\n",
       "         created_by                  description                domain  \\\n",
       "0  initial-importer  Technology Platform Company      wetpaint-inc.com   \n",
       "1  initial-importer                         None           flektor.com   \n",
       "2  initial-importer                                          there.com   \n",
       "3              None                         None           mywebbo.com   \n",
       "4              None                         None  themoviestreamer.com   \n",
       "\n",
       "   entity_id entity_type         ...         parent_id  \\\n",
       "0          1     Company         ...              None   \n",
       "1         10     Company         ...              None   \n",
       "2        100     Company         ...              None   \n",
       "3      10000     Company         ...              None   \n",
       "4      10001     Company         ...              None   \n",
       "\n",
       "                     permalink       region relationships  short_description  \\\n",
       "0            /company/wetpaint      Seattle          17.0               None   \n",
       "1             /company/flektor  Los Angeles           6.0               None   \n",
       "2               /company/there       SF Bay          12.0               None   \n",
       "3             /company/mywebbo      unknown           NaN               None   \n",
       "4  /company/the-movie-streamer      unknown           NaN               None   \n",
       "\n",
       "  state_code     status                                           tag_list  \\\n",
       "0         WA  operating  wiki, seattle, elowitz, media-industry, media-...   \n",
       "1         CA   acquired                              flektor, photo, video   \n",
       "2         CA   acquired                         virtualworld, there, teens   \n",
       "3       None  operating  social-network, new, website, web, friends, ch...   \n",
       "4       None  operating  watch, full-length, moives, online, for, free,...   \n",
       "\n",
       "   twitter_username          updated_at  \n",
       "0   BachelrWetpaint 2013-04-13 03:29:00  \n",
       "1              None 2008-05-23 23:23:14  \n",
       "2              None 2013-11-04 02:09:48  \n",
       "3              None 2008-09-06 14:19:18  \n",
       "4              None 2008-09-06 14:19:18  \n",
       "\n",
       "[5 rows x 40 columns]"
      ]
     },
     "execution_count": 32,
     "metadata": {},
     "output_type": "execute_result"
    }
   ],
   "source": [
    "objs.head()"
   ]
  },
  {
   "cell_type": "code",
   "execution_count": 33,
   "metadata": {},
   "outputs": [
    {
     "data": {
      "text/plain": [
       "Index(['category_code', 'city', 'closed_at', 'country_code', 'created_at',\n",
       "       'created_by', 'description', 'domain', 'entity_id', 'entity_type',\n",
       "       'first_funding_at', 'first_investment_at', 'first_milestone_at',\n",
       "       'founded_at', 'funding_rounds', 'funding_total_usd', 'homepage_url',\n",
       "       'id', 'invested_companies', 'investment_rounds', 'last_funding_at',\n",
       "       'last_investment_at', 'last_milestone_at', 'logo_height', 'logo_url',\n",
       "       'logo_width', 'milestones', 'name', 'normalized_name', 'overview',\n",
       "       'parent_id', 'permalink', 'region', 'relationships',\n",
       "       'short_description', 'state_code', 'status', 'tag_list',\n",
       "       'twitter_username', 'updated_at'],\n",
       "      dtype='object')"
      ]
     },
     "execution_count": 33,
     "metadata": {},
     "output_type": "execute_result"
    }
   ],
   "source": [
    "objs.columns"
   ]
  },
  {
   "cell_type": "code",
   "execution_count": 34,
   "metadata": {},
   "outputs": [
    {
     "data": {
      "text/plain": [
       "27874"
      ]
     },
     "execution_count": 34,
     "metadata": {},
     "output_type": "execute_result"
    }
   ],
   "source": [
    "len(objs.funding_total_usd[~objs.funding_total_usd.isnull()])"
   ]
  },
  {
   "cell_type": "code",
   "execution_count": 37,
   "metadata": {},
   "outputs": [
    {
     "data": {
      "image/png": "[encoded data removed]",
      "text/plain": [
       "<matplotlib.figure.Figure at 0x115707208>"
      ]
     },
     "metadata": {},
     "output_type": "display_data"
    }
   ],
   "source": [
    "# plot mean funding_total_usd by state\n",
    "objs_sorted = objs[~objs.funding_total_usd.isnull()].sort_values(by='funding_total_usd', ascending=False)\n",
    "a=sns.barplot(objs_sorted['state_code'], pd.to_numeric(objs_sorted['funding_total_usd']), ci=False);\n",
    "a.set_xticklabels(objs_sorted['state_code'], rotation=90);"
   ]
  },
  {
   "cell_type": "code",
   "execution_count": 38,
   "metadata": {},
   "outputs": [
    {
     "data": {
      "image/png": "[encoded data removed]",
      "text/plain": [
       "<matplotlib.figure.Figure at 0x1599fbef0>"
      ]
     },
     "metadata": {},
     "output_type": "display_data"
    }
   ],
   "source": [
    "# plot mean funding_total_usd by country\n",
    "objs_sorted = objs[~objs.funding_total_usd.isnull()].sort_values(by='funding_total_usd', ascending=False)\n",
    "a=sns.barplot(objs_sorted['country_code'], pd.to_numeric(objs_sorted['funding_total_usd']), ci=False);\n",
    "a.set_xticklabels(objs_sorted['country_code'], rotation=90);"
   ]
  },
  {
   "cell_type": "code",
   "execution_count": 39,
   "metadata": {
    "collapsed": true
   },
   "outputs": [],
   "source": [
    "# group by date founded to do analysis on the emergence of new companies over time\n",
    "dt = pd.to_datetime(objs.founded_at)\n",
    "df_fund_dt = pd.concat([objs.funding_total_usd, dt], axis=1)\n",
    "founded = df_fund_dt.groupby([dt.dt.year])"
   ]
  },
  {
   "cell_type": "code",
   "execution_count": 45,
   "metadata": {},
   "outputs": [
    {
     "data": {
      "text/plain": [
       "founded_at\n",
       "2011.0    11884\n",
       "2012.0    11158\n",
       "2010.0    10858\n",
       "2009.0     9805\n",
       "2008.0     8502\n",
       "2007.0     6765\n",
       "2013.0     6280\n",
       "2006.0     4689\n",
       "2005.0     3580\n",
       "2004.0     2828\n",
       "Name: founded_at, dtype: int64"
      ]
     },
     "execution_count": 45,
     "metadata": {},
     "output_type": "execute_result"
    }
   ],
   "source": [
    "# top counts by year\n",
    "num_found = founded.count()\n",
    "num_found.sort_values(by='founded_at', ascending=False)['founded_at'].head(10)"
   ]
  },
  {
   "cell_type": "code",
   "execution_count": 27,
   "metadata": {},
   "outputs": [
    {
     "data": {
      "image/png": "[encoded data removed]",
      "text/plain": [
       "<matplotlib.figure.Figure at 0x142401ba8>"
      ]
     },
     "metadata": {},
     "output_type": "display_data"
    }
   ],
   "source": [
    "# plot number of new companies by year\n",
    "a=sns.barplot(num_found.founded_at.index, num_found.founded_at)\n",
    "a.set_ylabel('number of new companies')\n",
    "a.set_xlabel('year')\n",
    "a.set_title('number of new companies by year');\n",
    "a.set_xticklabels(labels=num_found.founded_at.index, rotation=90);"
   ]
  },
  {
   "cell_type": "code",
   "execution_count": 47,
   "metadata": {
    "collapsed": true
   },
   "outputs": [],
   "source": [
    "# company lifespan: closed_at - founded_at\n",
    "start = pd.to_datetime(objs.founded_at)\n",
    "end = pd.to_datetime(objs.closed_at)\n",
    "life = end.dt.year - start.dt.year"
   ]
  },
  {
   "cell_type": "code",
   "execution_count": 50,
   "metadata": {},
   "outputs": [
    {
     "data": {
      "image/png": "[encoded data removed]",
      "text/plain": [
       "<matplotlib.figure.Figure at 0x1395e8f28>"
      ]
     },
     "metadata": {},
     "output_type": "display_data"
    }
   ],
   "source": [
    "a=sns.distplot(life[~life.isnull()]);\n",
    "a.set_xlim(-5, 50);"
   ]
  },
  {
   "cell_type": "code",
   "execution_count": 52,
   "metadata": {},
   "outputs": [
    {
     "data": {
      "text/plain": [
       "count    27.000000\n",
       "mean     -7.851852\n",
       "std      10.614590\n",
       "min     -40.000000\n",
       "25%      -9.500000\n",
       "50%      -3.000000\n",
       "75%      -1.000000\n",
       "max      -1.000000\n",
       "dtype: float64"
      ]
     },
     "execution_count": 52,
     "metadata": {},
     "output_type": "execute_result"
    }
   ],
   "source": [
    "# there are 27 with a life < 0 showing data entry for this data set was flawed. \n",
    "life[life < 0].describe()"
   ]
  },
  {
   "cell_type": "code",
   "execution_count": 53,
   "metadata": {},
   "outputs": [
    {
     "data": {
      "text/plain": [
       "count    2013.000000\n",
       "mean        4.384004\n",
       "std         4.359592\n",
       "min         1.000000\n",
       "25%         2.000000\n",
       "50%         3.000000\n",
       "75%         5.000000\n",
       "max        53.000000\n",
       "dtype: float64"
      ]
     },
     "execution_count": 53,
     "metadata": {},
     "output_type": "execute_result"
    }
   ],
   "source": [
    "# consider those with positive life\n",
    "life_pos = life[life>0]\n",
    "life_pos[~life_pos.isnull()].describe()"
   ]
  },
  {
   "cell_type": "code",
   "execution_count": 54,
   "metadata": {},
   "outputs": [
    {
     "data": {
      "image/png": "[encoded data removed]",
      "text/plain": [
       "<matplotlib.figure.Figure at 0x1186610f0>"
      ]
     },
     "metadata": {},
     "output_type": "display_data"
    }
   ],
   "source": [
    "# see whether companies tend to have longer of shorter lifespans based on when they were founded\n",
    "a=sns.barplot(start[~life.isnull()].dt.year, life[~life.isnull()], ci=None);\n",
    "a.set_xticklabels(start[~life.isnull()].dt.year, rotation=90);"
   ]
  },
  {
   "cell_type": "code",
   "execution_count": 66,
   "metadata": {},
   "outputs": [
    {
     "data": {
      "image/png": "[encoded data removed]",
      "text/plain": [
       "<matplotlib.figure.Figure at 0x114f59e10>"
      ]
     },
     "metadata": {},
     "output_type": "display_data"
    }
   ],
   "source": [
    "# see whether companies tend to have longer or shorter lifespans based on region\n",
    "a=sns.barplot(objs.state_code[~objs.state_code.isnull()], life[~objs.state_code.isnull()], ci=None);\n",
    "a.set_xticklabels(objs.state_code[~objs.state_code.isnull()], rotation=90);"
   ]
  },
  {
   "cell_type": "code",
   "execution_count": null,
   "metadata": {
    "collapsed": true
   },
   "outputs": [],
   "source": []
  }
 ],
 "metadata": {
  "kernelspec": {
   "display_name": "Python 3",
   "language": "python",
   "name": "python3"
  },
  "language_info": {
   "codemirror_mode": {
    "name": "ipython",
    "version": 3
   },
   "file_extension": ".py",
   "mimetype": "text/x-python",
   "name": "python",
   "nbconvert_exporter": "python",
   "pygments_lexer": "ipython3",
   "version": "3.6.1"
  }
 },
 "nbformat": 4,
 "nbformat_minor": 2
}
