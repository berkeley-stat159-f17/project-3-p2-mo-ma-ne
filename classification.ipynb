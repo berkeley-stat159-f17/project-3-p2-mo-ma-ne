{
 "cells": [
  {
   "cell_type": "markdown",
   "metadata": {},
   "source": [
    "# Explore Categorical Variables to Classify Company Status"
   ]
  },
  {
   "cell_type": "code",
   "execution_count": 148,
   "metadata": {
    "collapsed": true
   },
   "outputs": [],
   "source": [
    "from modules import *"
   ]
  },
  {
   "cell_type": "code",
   "execution_count": 149,
   "metadata": {
    "collapsed": true
   },
   "outputs": [],
   "source": [
    "%matplotlib inline\n",
    "import matplotlib.pyplot as plt\n",
    "import seaborn as sns\n",
    "import numpy as np\n",
    "import pandas as pd\n",
    "import sklearn\n",
    "\n",
    "plt.style.use('seaborn-dark')\n",
    "plt.rcParams['figure.figsize'] = (10, 6)"
   ]
  },
  {
   "cell_type": "code",
   "execution_count": 150,
   "metadata": {},
   "outputs": [
    {
     "data": {
      "text/html": [
       "<div>\n",
       "<style>\n",
       "    .dataframe thead tr:only-child th {\n",
       "        text-align: right;\n",
       "    }\n",
       "\n",
       "    .dataframe thead th {\n",
       "        text-align: left;\n",
       "    }\n",
       "\n",
       "    .dataframe tbody tr th {\n",
       "        vertical-align: top;\n",
       "    }\n",
       "</style>\n",
       "<table border=\"1\" class=\"dataframe\">\n",
       "  <thead>\n",
       "    <tr style=\"text-align: right;\">\n",
       "      <th></th>\n",
       "      <th>closed</th>\n",
       "      <th>status</th>\n",
       "      <th>name</th>\n",
       "      <th>category_code</th>\n",
       "      <th>had_funding</th>\n",
       "      <th>num_investment</th>\n",
       "      <th>num_relationships</th>\n",
       "      <th>num_milestones</th>\n",
       "      <th>logo_height</th>\n",
       "      <th>logo_width</th>\n",
       "      <th>region</th>\n",
       "      <th>degree_type</th>\n",
       "      <th>institution</th>\n",
       "      <th>subject</th>\n",
       "      <th>birthplace</th>\n",
       "      <th>first_name</th>\n",
       "      <th>last_name</th>\n",
       "    </tr>\n",
       "  </thead>\n",
       "  <tbody>\n",
       "    <tr>\n",
       "      <th>7</th>\n",
       "      <td>No</td>\n",
       "      <td>operating</td>\n",
       "      <td>Fundable.com</td>\n",
       "      <td>finance</td>\n",
       "      <td>No</td>\n",
       "      <td>3.0</td>\n",
       "      <td>3.0</td>\n",
       "      <td>4.0</td>\n",
       "      <td>120.0</td>\n",
       "      <td>120.0</td>\n",
       "      <td>Columbus</td>\n",
       "      <td>BBA</td>\n",
       "      <td>Ohio State University</td>\n",
       "      <td>Entrepreneurship, Marketing</td>\n",
       "      <td>Ohio</td>\n",
       "      <td>Eric</td>\n",
       "      <td>Corl</td>\n",
       "    </tr>\n",
       "    <tr>\n",
       "      <th>8</th>\n",
       "      <td>No</td>\n",
       "      <td>operating</td>\n",
       "      <td>Wevod</td>\n",
       "      <td>games_video</td>\n",
       "      <td>Yes</td>\n",
       "      <td>0.0</td>\n",
       "      <td>2.0</td>\n",
       "      <td>0.0</td>\n",
       "      <td>89.0</td>\n",
       "      <td>250.0</td>\n",
       "      <td>Paris</td>\n",
       "      <td>MS</td>\n",
       "      <td>EPITECH</td>\n",
       "      <td>computer sciences and technologies</td>\n",
       "      <td>France</td>\n",
       "      <td>Nassim</td>\n",
       "      <td>Ghandour</td>\n",
       "    </tr>\n",
       "    <tr>\n",
       "      <th>11</th>\n",
       "      <td>No</td>\n",
       "      <td>acquired</td>\n",
       "      <td>Jumptap</td>\n",
       "      <td>mobile</td>\n",
       "      <td>Yes</td>\n",
       "      <td>0.0</td>\n",
       "      <td>45.0</td>\n",
       "      <td>3.0</td>\n",
       "      <td>165.0</td>\n",
       "      <td>650.0</td>\n",
       "      <td>Boston</td>\n",
       "      <td>BA</td>\n",
       "      <td>American University</td>\n",
       "      <td>Economics</td>\n",
       "      <td>St. Petersburg, Russia</td>\n",
       "      <td>Veronika</td>\n",
       "      <td>Sonsev</td>\n",
       "    </tr>\n",
       "    <tr>\n",
       "      <th>18</th>\n",
       "      <td>Yes</td>\n",
       "      <td>closed</td>\n",
       "      <td>FairSoftware</td>\n",
       "      <td>web</td>\n",
       "      <td>Yes</td>\n",
       "      <td>0.0</td>\n",
       "      <td>1.0</td>\n",
       "      <td>1.0</td>\n",
       "      <td>67.0</td>\n",
       "      <td>250.0</td>\n",
       "      <td>SF Bay</td>\n",
       "      <td>MS</td>\n",
       "      <td>Supelec</td>\n",
       "      <td>Electrical Engineering</td>\n",
       "      <td>Paris, France</td>\n",
       "      <td>Alain</td>\n",
       "      <td>Raynaud</td>\n",
       "    </tr>\n",
       "    <tr>\n",
       "      <th>22</th>\n",
       "      <td>No</td>\n",
       "      <td>operating</td>\n",
       "      <td>WPP</td>\n",
       "      <td>public_relations</td>\n",
       "      <td>No</td>\n",
       "      <td>21.0</td>\n",
       "      <td>23.0</td>\n",
       "      <td>3.0</td>\n",
       "      <td>59.0</td>\n",
       "      <td>86.0</td>\n",
       "      <td>New York</td>\n",
       "      <td>Degree</td>\n",
       "      <td>University of Kentucky</td>\n",
       "      <td>Degree</td>\n",
       "      <td>Kentucky</td>\n",
       "      <td>Jack</td>\n",
       "      <td>Smith</td>\n",
       "    </tr>\n",
       "  </tbody>\n",
       "</table>\n",
       "</div>"
      ],
      "text/plain": [
       "   closed     status          name     category_code had_funding  \\\n",
       "7      No  operating  Fundable.com           finance          No   \n",
       "8      No  operating         Wevod       games_video         Yes   \n",
       "11     No   acquired       Jumptap            mobile         Yes   \n",
       "18    Yes     closed  FairSoftware               web         Yes   \n",
       "22     No  operating           WPP  public_relations          No   \n",
       "\n",
       "    num_investment  num_relationships  num_milestones  logo_height  \\\n",
       "7              3.0                3.0             4.0        120.0   \n",
       "8              0.0                2.0             0.0         89.0   \n",
       "11             0.0               45.0             3.0        165.0   \n",
       "18             0.0                1.0             1.0         67.0   \n",
       "22            21.0               23.0             3.0         59.0   \n",
       "\n",
       "    logo_width    region degree_type             institution  \\\n",
       "7        120.0  Columbus         BBA   Ohio State University   \n",
       "8        250.0     Paris          MS                 EPITECH   \n",
       "11       650.0    Boston          BA     American University   \n",
       "18       250.0    SF Bay          MS                 Supelec   \n",
       "22        86.0  New York      Degree  University of Kentucky   \n",
       "\n",
       "                               subject              birthplace first_name  \\\n",
       "7          Entrepreneurship, Marketing                    Ohio       Eric   \n",
       "8   computer sciences and technologies                  France     Nassim   \n",
       "11                           Economics  St. Petersburg, Russia   Veronika   \n",
       "18              Electrical Engineering           Paris, France      Alain   \n",
       "22                              Degree                Kentucky       Jack   \n",
       "\n",
       "   last_name  \n",
       "7       Corl  \n",
       "8   Ghandour  \n",
       "11    Sonsev  \n",
       "18   Raynaud  \n",
       "22     Smith  "
      ]
     },
     "execution_count": 150,
     "metadata": {},
     "output_type": "execute_result"
    }
   ],
   "source": [
    "#read in the data from data prep notebook\n",
    "data = pd.read_hdf('results/classification_data.h5', 'classification_data')\n",
    "data.head()"
   ]
  },
  {
   "cell_type": "markdown",
   "metadata": {},
   "source": [
    "Let's examine the data a bit, first the frequency of our response variable."
   ]
  },
  {
   "cell_type": "code",
   "execution_count": 151,
   "metadata": {},
   "outputs": [
    {
     "data": {
      "text/plain": [
       "<matplotlib.axes._subplots.AxesSubplot at 0x11e875ef0>"
      ]
     },
     "execution_count": 151,
     "metadata": {},
     "output_type": "execute_result"
    },
    {
     "data": {
      "image/png": "[encoded data removed]",
      "text/plain": [
       "<matplotlib.figure.Figure at 0x11e875c88>"
      ]
     },
     "metadata": {},
     "output_type": "display_data"
    }
   ],
   "source": [
    "#frequencies of status variables\n",
    "data['status'].value_counts().plot(kind = 'bar')"
   ]
  },
  {
   "cell_type": "code",
   "execution_count": 152,
   "metadata": {},
   "outputs": [
    {
     "data": {
      "text/plain": [
       "<matplotlib.axes._subplots.AxesSubplot at 0x11e6c4da0>"
      ]
     },
     "execution_count": 152,
     "metadata": {},
     "output_type": "execute_result"
    },
    {
     "data": {
      "image/png": "[encoded data removed]",
      "text/plain": [
       "<matplotlib.figure.Figure at 0x11e6f11d0>"
      ]
     },
     "metadata": {},
     "output_type": "display_data"
    }
   ],
   "source": [
    "#frequncies of closed varible\n",
    "data['closed'].value_counts().plot(kind = 'bar')"
   ]
  },
  {
   "cell_type": "markdown",
   "metadata": {},
   "source": [
    "As you can see the vast majority of the data represents companies that are still operating. I am going to start with the easier two class response closed vs not closed, and then move on to the company status. The issue that we have here, and one that we need to keep in mind for our classification models, is that we have a huge difference in our response variable prior probabilities. The issue may arrive when evaluated performance, here is an example of why this may be an issue. Say we are modeling a rare disease where 99.99 percent of our data does not have the disease and 0.01 percent of our data does have the disease. Then a model that just predicts \"no\" every time has an error rate of 0.0001, which is very low, but our model obviously sucks."
   ]
  },
  {
   "cell_type": "markdown",
   "metadata": {},
   "source": [
    "I am going to focus a lot of my attention on random forests. Why? For several reason. For one, I personally like random forests as a classification method compared to older methods like LDA or logistic regreesion. Also, while learning machine learning in r in a different class, I kept seeing comments on stack overflow wondering why anyone would build a random forest NOT using sklean when I googled examples, so I need to know what all the hype is about. More importantly, random forest are great at providing information on variable importance compared to more flexible models like K-Nearest-Neighbors, and my goal is to find company/founder predictors of success and failure."
   ]
  },
  {
   "cell_type": "markdown",
   "metadata": {},
   "source": [
    "I did not realize sklearn's random forest method does not except categorical variables yet. So I'm going to have to convert a bunch of variables into dumby variables. I don't really like this, as an example why, say my 3 levels of a category are 'green', 'red', and 'blue' and an encoder make green = 0, red = 1, blue = 2. Then by this classification red is \"in between\" green and blue, when this is not the case. However, the alternative is create dumby columbs for each category of each variable, and considering some of these categories have a huge number of possible levels, I don't want to go down that road right now."
   ]
  },
  {
   "cell_type": "code",
   "execution_count": 153,
   "metadata": {},
   "outputs": [],
   "source": [
    "from sklearn import preprocessing\n",
    "from sklearn.preprocessing import LabelEncoder"
   ]
  },
  {
   "cell_type": "code",
   "execution_count": 154,
   "metadata": {
    "collapsed": true
   },
   "outputs": [],
   "source": [
    "def transform_dumby(df, preds_index):\n",
    "    \"\"\"\n",
    "    Description: transform a data predictors into dumby variables\n",
    "    \n",
    "    inputs:\n",
    "        df: pandas data frame\n",
    "        preds_index: preds_index: eiter an a two item list consisting of the start and stop column index or tuple of predictors column index or a single integer. If it is a single integer we assume this is the first index and predictors are the rest of the df.\n",
    "    \n",
    "    out: pandas df with encoded variables\n",
    "    \"\"\"\n",
    "    if not isinstance(preds_index, int):\n",
    "        start = preds_index[0]\n",
    "        stop = preds_index[1]\n",
    "        \n",
    "        predictor_list = df.columns.values[start:stop]\n",
    "    else:\n",
    "        predictor_list = df.columns.values[preds_index:]\n",
    "        \n",
    "    for col_name in predictor_list:\n",
    "        col = df[col_name]\n",
    "        if not np.issubdtype(col.dtype, np.number):\n",
    "            label_encoder = preprocessing.LabelEncoder()\n",
    "            label_encoder.fit(col)\n",
    "            new_col = label_encoder.transform(col)\n",
    "            df[col_name] = new_col\n",
    "    return(df)"
   ]
  },
  {
   "cell_type": "code",
   "execution_count": 155,
   "metadata": {},
   "outputs": [
    {
     "data": {
      "text/html": [
       "<div>\n",
       "<style>\n",
       "    .dataframe thead tr:only-child th {\n",
       "        text-align: right;\n",
       "    }\n",
       "\n",
       "    .dataframe thead th {\n",
       "        text-align: left;\n",
       "    }\n",
       "\n",
       "    .dataframe tbody tr th {\n",
       "        vertical-align: top;\n",
       "    }\n",
       "</style>\n",
       "<table border=\"1\" class=\"dataframe\">\n",
       "  <thead>\n",
       "    <tr style=\"text-align: right;\">\n",
       "      <th></th>\n",
       "      <th>closed</th>\n",
       "      <th>status</th>\n",
       "      <th>name</th>\n",
       "      <th>category_code</th>\n",
       "      <th>had_funding</th>\n",
       "      <th>num_investment</th>\n",
       "      <th>num_relationships</th>\n",
       "      <th>num_milestones</th>\n",
       "      <th>logo_height</th>\n",
       "      <th>logo_width</th>\n",
       "      <th>region</th>\n",
       "      <th>degree_type</th>\n",
       "      <th>institution</th>\n",
       "      <th>subject</th>\n",
       "      <th>birthplace</th>\n",
       "      <th>first_name</th>\n",
       "      <th>last_name</th>\n",
       "    </tr>\n",
       "  </thead>\n",
       "  <tbody>\n",
       "    <tr>\n",
       "      <th>7</th>\n",
       "      <td>No</td>\n",
       "      <td>operating</td>\n",
       "      <td>Fundable.com</td>\n",
       "      <td>11</td>\n",
       "      <td>0</td>\n",
       "      <td>3.0</td>\n",
       "      <td>3.0</td>\n",
       "      <td>4.0</td>\n",
       "      <td>120.0</td>\n",
       "      <td>120.0</td>\n",
       "      <td>110</td>\n",
       "      <td>69</td>\n",
       "      <td>701</td>\n",
       "      <td>465</td>\n",
       "      <td>745</td>\n",
       "      <td>344</td>\n",
       "      <td>366</td>\n",
       "    </tr>\n",
       "    <tr>\n",
       "      <th>8</th>\n",
       "      <td>No</td>\n",
       "      <td>operating</td>\n",
       "      <td>Wevod</td>\n",
       "      <td>12</td>\n",
       "      <td>1</td>\n",
       "      <td>0.0</td>\n",
       "      <td>2.0</td>\n",
       "      <td>0.0</td>\n",
       "      <td>89.0</td>\n",
       "      <td>250.0</td>\n",
       "      <td>336</td>\n",
       "      <td>317</td>\n",
       "      <td>273</td>\n",
       "      <td>1116</td>\n",
       "      <td>330</td>\n",
       "      <td>797</td>\n",
       "      <td>634</td>\n",
       "    </tr>\n",
       "    <tr>\n",
       "      <th>11</th>\n",
       "      <td>No</td>\n",
       "      <td>acquired</td>\n",
       "      <td>Jumptap</td>\n",
       "      <td>22</td>\n",
       "      <td>1</td>\n",
       "      <td>0.0</td>\n",
       "      <td>45.0</td>\n",
       "      <td>3.0</td>\n",
       "      <td>165.0</td>\n",
       "      <td>650.0</td>\n",
       "      <td>57</td>\n",
       "      <td>52</td>\n",
       "      <td>26</td>\n",
       "      <td>352</td>\n",
       "      <td>980</td>\n",
       "      <td>1147</td>\n",
       "      <td>1748</td>\n",
       "    </tr>\n",
       "    <tr>\n",
       "      <th>18</th>\n",
       "      <td>Yes</td>\n",
       "      <td>closed</td>\n",
       "      <td>FairSoftware</td>\n",
       "      <td>40</td>\n",
       "      <td>1</td>\n",
       "      <td>0.0</td>\n",
       "      <td>1.0</td>\n",
       "      <td>1.0</td>\n",
       "      <td>67.0</td>\n",
       "      <td>250.0</td>\n",
       "      <td>372</td>\n",
       "      <td>317</td>\n",
       "      <td>894</td>\n",
       "      <td>394</td>\n",
       "      <td>790</td>\n",
       "      <td>29</td>\n",
       "      <td>1508</td>\n",
       "    </tr>\n",
       "    <tr>\n",
       "      <th>22</th>\n",
       "      <td>No</td>\n",
       "      <td>operating</td>\n",
       "      <td>WPP</td>\n",
       "      <td>30</td>\n",
       "      <td>0</td>\n",
       "      <td>21.0</td>\n",
       "      <td>23.0</td>\n",
       "      <td>3.0</td>\n",
       "      <td>59.0</td>\n",
       "      <td>86.0</td>\n",
       "      <td>309</td>\n",
       "      <td>199</td>\n",
       "      <td>1182</td>\n",
       "      <td>310</td>\n",
       "      <td>492</td>\n",
       "      <td>507</td>\n",
       "      <td>1731</td>\n",
       "    </tr>\n",
       "  </tbody>\n",
       "</table>\n",
       "</div>"
      ],
      "text/plain": [
       "   closed     status          name  category_code  had_funding  \\\n",
       "7      No  operating  Fundable.com             11            0   \n",
       "8      No  operating         Wevod             12            1   \n",
       "11     No   acquired       Jumptap             22            1   \n",
       "18    Yes     closed  FairSoftware             40            1   \n",
       "22     No  operating           WPP             30            0   \n",
       "\n",
       "    num_investment  num_relationships  num_milestones  logo_height  \\\n",
       "7              3.0                3.0             4.0        120.0   \n",
       "8              0.0                2.0             0.0         89.0   \n",
       "11             0.0               45.0             3.0        165.0   \n",
       "18             0.0                1.0             1.0         67.0   \n",
       "22            21.0               23.0             3.0         59.0   \n",
       "\n",
       "    logo_width  region  degree_type  institution  subject  birthplace  \\\n",
       "7        120.0     110           69          701      465         745   \n",
       "8        250.0     336          317          273     1116         330   \n",
       "11       650.0      57           52           26      352         980   \n",
       "18       250.0     372          317          894      394         790   \n",
       "22        86.0     309          199         1182      310         492   \n",
       "\n",
       "    first_name  last_name  \n",
       "7          344        366  \n",
       "8          797        634  \n",
       "11        1147       1748  \n",
       "18          29       1508  \n",
       "22         507       1731  "
      ]
     },
     "execution_count": 155,
     "metadata": {},
     "output_type": "execute_result"
    }
   ],
   "source": [
    "data = transform_dumby(data, 3)\n",
    "data.head()"
   ]
  },
  {
   "cell_type": "markdown",
   "metadata": {},
   "source": [
    "Now I need to split into test and training sets."
   ]
  },
  {
   "cell_type": "code",
   "execution_count": 156,
   "metadata": {},
   "outputs": [
    {
     "data": {
      "text/plain": [
       "(2348, 17)"
      ]
     },
     "execution_count": 156,
     "metadata": {},
     "output_type": "execute_result"
    }
   ],
   "source": [
    "data.shape"
   ]
  },
  {
   "cell_type": "code",
   "execution_count": 157,
   "metadata": {},
   "outputs": [
    {
     "data": {
      "text/plain": [
       "(1878, 17)"
      ]
     },
     "execution_count": 157,
     "metadata": {},
     "output_type": "execute_result"
    }
   ],
   "source": [
    "import random\n",
    "#split into test and training set using 80 percent of the data\n",
    "random.seed(100)\n",
    "training = data.sample(frac = 0.8)\n",
    "training.shape"
   ]
  },
  {
   "cell_type": "code",
   "execution_count": 158,
   "metadata": {},
   "outputs": [
    {
     "data": {
      "text/plain": [
       "(470, 17)"
      ]
     },
     "execution_count": 158,
     "metadata": {},
     "output_type": "execute_result"
    }
   ],
   "source": [
    "#get test data being removing the training rows from data\n",
    "training_index = list(training.index)\n",
    "\n",
    "test = data.drop(training_index, axis = 0)\n",
    "test.shape"
   ]
  },
  {
   "cell_type": "markdown",
   "metadata": {},
   "source": [
    "Now I can seperate the predictors and response variables in the training and test data."
   ]
  },
  {
   "cell_type": "code",
   "execution_count": 170,
   "metadata": {},
   "outputs": [],
   "source": [
    "def seperate_preds_response(df, response_var, preds_index):\n",
    "    \"\"\"\n",
    "    decription: function that makes it so I don't have to split into predictors and response for test and traiing data.\n",
    "    \n",
    "    inputs:\n",
    "        df: training or test data frame\n",
    "        response_var: either a string of the name of the response variable or a list of strings for multiple different response variables\n",
    "        preds_index: eiter an a two item list consisting of the start and stop column index or tuple of predictors column index or a single integer. If it is a single integer we assume this is the first index and predictors are the rest of the df.\n",
    "    output:\n",
    "        List of predictors and response. \n",
    "        First item of the list is the data frame of predictors. The rest are the response series.\n",
    "    \"\"\"\n",
    "    if not isinstance(df, pd.core.frame.DataFrame):\n",
    "        raise ValueError(\"df must be Pandas DFs\")\n",
    "        \n",
    "    dfs = []\n",
    "    \n",
    "    if not isinstance(preds_index, int):\n",
    "        start = preds_index[0]\n",
    "        stop = preds_index[1]\n",
    "        \n",
    "        predictor_list = df.columns.values[start:stop]\n",
    "    else:\n",
    "        predictor_list = df.columns.values[preds_index:]\n",
    "        \n",
    "    predictors = df[predictor_list] \n",
    "    \n",
    "    dfs.append(predictors)\n",
    "    \n",
    "    for var in response_var:\n",
    "        if not isinstance(var, str):\n",
    "            raise TypeError(\"columns of response_var must be strings in the data frame\")\n",
    "            \n",
    "        resp = df[var]\n",
    "        dfs.append(resp)\n",
    "        \n",
    "    return(dfs)"
   ]
  },
  {
   "cell_type": "code",
   "execution_count": 171,
   "metadata": {},
   "outputs": [],
   "source": [
    "#seperate predictors and response\n",
    "train_preds, train_closed, train_status = seperate_preds_response(training, ['closed', 'status'], 3)\n",
    "\n",
    "test_preds, test_closed, test_status = seperate_preds_response(test, ['closed', 'status'], 3)"
   ]
  },
  {
   "cell_type": "code",
   "execution_count": 172,
   "metadata": {},
   "outputs": [
    {
     "data": {
      "text/plain": [
       "(1878, 14)"
      ]
     },
     "execution_count": 172,
     "metadata": {},
     "output_type": "execute_result"
    }
   ],
   "source": [
    "train_preds.shape"
   ]
  },
  {
   "cell_type": "code",
   "execution_count": 175,
   "metadata": {},
   "outputs": [
    {
     "data": {
      "text/plain": [
       "(1878,)"
      ]
     },
     "execution_count": 175,
     "metadata": {},
     "output_type": "execute_result"
    }
   ],
   "source": [
    "train_closed.shape"
   ]
  },
  {
   "cell_type": "code",
   "execution_count": 176,
   "metadata": {},
   "outputs": [
    {
     "data": {
      "text/plain": [
       "(1878,)"
      ]
     },
     "execution_count": 176,
     "metadata": {},
     "output_type": "execute_result"
    }
   ],
   "source": [
    "train_status.shape"
   ]
  },
  {
   "cell_type": "code",
   "execution_count": 177,
   "metadata": {},
   "outputs": [
    {
     "data": {
      "text/plain": [
       "(470, 14)"
      ]
     },
     "execution_count": 177,
     "metadata": {},
     "output_type": "execute_result"
    }
   ],
   "source": [
    "test_preds.shape"
   ]
  },
  {
   "cell_type": "code",
   "execution_count": 178,
   "metadata": {},
   "outputs": [
    {
     "data": {
      "text/plain": [
       "(470,)"
      ]
     },
     "execution_count": 178,
     "metadata": {},
     "output_type": "execute_result"
    }
   ],
   "source": [
    "test_closed.shape"
   ]
  },
  {
   "cell_type": "code",
   "execution_count": 179,
   "metadata": {},
   "outputs": [
    {
     "data": {
      "text/plain": [
       "(470,)"
      ]
     },
     "execution_count": 179,
     "metadata": {},
     "output_type": "execute_result"
    }
   ],
   "source": [
    "test_status.shape"
   ]
  },
  {
   "cell_type": "code",
   "execution_count": 208,
   "metadata": {},
   "outputs": [],
   "source": [
    "from sklearn import ensemble\n",
    "from sklearn.ensemble import RandomForestClassifier"
   ]
  },
  {
   "cell_type": "code",
   "execution_count": 209,
   "metadata": {},
   "outputs": [],
   "source": [
    "from sklearn.model_selection import GridSearchCV"
   ]
  },
  {
   "cell_type": "code",
   "execution_count": 210,
   "metadata": {},
   "outputs": [],
   "source": [
    "num_preds = range(1, train_preds.shape[1] + 1)"
   ]
  },
  {
   "cell_type": "code",
   "execution_count": null,
   "metadata": {},
   "outputs": [],
   "source": [
    "params = {'max_features':  num_preds}\n",
    "rcf = RandomForestClassifier(random_state = 100, oob_score = True, n_estimators= 1000)\n",
    "cv_rcf = GridSearchCV(rcf, params)\n",
    "cv_rcf.fit(train_preds, train_closed)"
   ]
  },
  {
   "cell_type": "code",
   "execution_count": 212,
   "metadata": {
    "collapsed": true
   },
   "outputs": [],
   "source": [
    "rcf = RandomForestClassifier(random_state = 100, oob_score = True)"
   ]
  },
  {
   "cell_type": "code",
   "execution_count": 213,
   "metadata": {},
   "outputs": [
    {
     "name": "stderr",
     "output_type": "stream",
     "text": [
      "/Users/jackmoorer/anaconda/lib/python3.6/site-packages/sklearn/ensemble/forest.py:439: UserWarning: Some inputs do not have OOB scores. This probably means too few trees were used to compute any reliable oob estimates.\n",
      "  warn(\"Some inputs do not have OOB scores. \"\n",
      "/Users/jackmoorer/anaconda/lib/python3.6/site-packages/sklearn/ensemble/forest.py:444: RuntimeWarning: invalid value encountered in true_divide\n",
      "  predictions[k].sum(axis=1)[:, np.newaxis])\n"
     ]
    },
    {
     "data": {
      "text/plain": [
       "RandomForestClassifier(bootstrap=True, class_weight=None, criterion='gini',\n",
       "            max_depth=None, max_features='auto', max_leaf_nodes=None,\n",
       "            min_impurity_split=1e-07, min_samples_leaf=1,\n",
       "            min_samples_split=2, min_weight_fraction_leaf=0.0,\n",
       "            n_estimators=10, n_jobs=1, oob_score=True, random_state=100,\n",
       "            verbose=0, warm_start=False)"
      ]
     },
     "execution_count": 213,
     "metadata": {},
     "output_type": "execute_result"
    }
   ],
   "source": [
    "rcf.fit(train_preds, train_closed)"
   ]
  },
  {
   "cell_type": "code",
   "execution_count": 188,
   "metadata": {},
   "outputs": [
    {
     "data": {
      "text/plain": [
       "array([ 0.04538784,  0.0225566 ,  0.00083398,  0.04997741,  0.07272633,\n",
       "        0.08193462,  0.12653428,  0.09733636,  0.07015059,  0.0811354 ,\n",
       "        0.07789595,  0.09213659,  0.10595422,  0.07543983])"
      ]
     },
     "execution_count": 188,
     "metadata": {},
     "output_type": "execute_result"
    }
   ],
   "source": [
    "rcf.feature_importances_"
   ]
  },
  {
   "cell_type": "code",
   "execution_count": null,
   "metadata": {
    "collapsed": true
   },
   "outputs": [],
   "source": [
    "from sklearn.model_selection import KFold"
   ]
  }
 ],
 "metadata": {
  "kernelspec": {
   "display_name": "Python 3",
   "language": "python",
   "name": "python3"
  },
  "language_info": {
   "codemirror_mode": {
    "name": "ipython",
    "version": 3
   },
   "file_extension": ".py",
   "mimetype": "text/x-python",
   "name": "python",
   "nbconvert_exporter": "python",
   "pygments_lexer": "ipython3",
   "version": "3.6.1"
  }
 },
 "nbformat": 4,
 "nbformat_minor": 2
}
