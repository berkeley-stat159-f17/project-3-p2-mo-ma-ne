{
 "cells": [
  {
   "cell_type": "markdown",
   "metadata": {},
   "source": [
    "# Explore Categorical Variables to Classify Company Status"
   ]
  },
  {
   "cell_type": "code",
   "execution_count": 1,
   "metadata": {
    "collapsed": true
   },
   "outputs": [],
   "source": [
    "from modules import *"
   ]
  },
  {
   "cell_type": "code",
   "execution_count": 2,
   "metadata": {
    "collapsed": true
   },
   "outputs": [],
   "source": [
    "%matplotlib inline\n",
    "import matplotlib.pyplot as plt\n",
    "import seaborn as sns\n",
    "import numpy as np\n",
    "import pandas as pd\n",
    "import sklearn\n",
    "\n",
    "plt.style.use('seaborn-dark')\n",
    "plt.rcParams['figure.figsize'] = (10, 6)"
   ]
  },
  {
   "cell_type": "code",
   "execution_count": 3,
   "metadata": {},
   "outputs": [
    {
     "data": {
      "text/html": [
       "<div>\n",
       "<style>\n",
       "    .dataframe thead tr:only-child th {\n",
       "        text-align: right;\n",
       "    }\n",
       "\n",
       "    .dataframe thead th {\n",
       "        text-align: left;\n",
       "    }\n",
       "\n",
       "    .dataframe tbody tr th {\n",
       "        vertical-align: top;\n",
       "    }\n",
       "</style>\n",
       "<table border=\"1\" class=\"dataframe\">\n",
       "  <thead>\n",
       "    <tr style=\"text-align: right;\">\n",
       "      <th></th>\n",
       "      <th>closed</th>\n",
       "      <th>status</th>\n",
       "      <th>name</th>\n",
       "      <th>category_code</th>\n",
       "      <th>had_funding</th>\n",
       "      <th>has_investment</th>\n",
       "      <th>num_relationships</th>\n",
       "      <th>num_milestones</th>\n",
       "      <th>logo_height</th>\n",
       "      <th>logo_width</th>\n",
       "      <th>region</th>\n",
       "      <th>degree_type</th>\n",
       "      <th>institution</th>\n",
       "      <th>subject</th>\n",
       "      <th>birthplace</th>\n",
       "      <th>first_name</th>\n",
       "      <th>last_name</th>\n",
       "    </tr>\n",
       "  </thead>\n",
       "  <tbody>\n",
       "    <tr>\n",
       "      <th>7</th>\n",
       "      <td>No</td>\n",
       "      <td>operating</td>\n",
       "      <td>Fundable.com</td>\n",
       "      <td>finance</td>\n",
       "      <td>No</td>\n",
       "      <td>Yes</td>\n",
       "      <td>3.0</td>\n",
       "      <td>4.0</td>\n",
       "      <td>120.0</td>\n",
       "      <td>120.0</td>\n",
       "      <td>Columbus</td>\n",
       "      <td>BBA</td>\n",
       "      <td>Ohio State University</td>\n",
       "      <td>Entrepreneurship, Marketing</td>\n",
       "      <td>Ohio</td>\n",
       "      <td>Eric</td>\n",
       "      <td>Corl</td>\n",
       "    </tr>\n",
       "    <tr>\n",
       "      <th>8</th>\n",
       "      <td>No</td>\n",
       "      <td>operating</td>\n",
       "      <td>Wevod</td>\n",
       "      <td>games_video</td>\n",
       "      <td>Yes</td>\n",
       "      <td>No</td>\n",
       "      <td>2.0</td>\n",
       "      <td>0.0</td>\n",
       "      <td>89.0</td>\n",
       "      <td>250.0</td>\n",
       "      <td>Paris</td>\n",
       "      <td>MS</td>\n",
       "      <td>EPITECH</td>\n",
       "      <td>computer sciences and technologies</td>\n",
       "      <td>France</td>\n",
       "      <td>Nassim</td>\n",
       "      <td>Ghandour</td>\n",
       "    </tr>\n",
       "    <tr>\n",
       "      <th>11</th>\n",
       "      <td>No</td>\n",
       "      <td>acquired</td>\n",
       "      <td>Jumptap</td>\n",
       "      <td>mobile</td>\n",
       "      <td>Yes</td>\n",
       "      <td>No</td>\n",
       "      <td>45.0</td>\n",
       "      <td>3.0</td>\n",
       "      <td>165.0</td>\n",
       "      <td>650.0</td>\n",
       "      <td>Boston</td>\n",
       "      <td>BA</td>\n",
       "      <td>American University</td>\n",
       "      <td>Economics</td>\n",
       "      <td>St. Petersburg, Russia</td>\n",
       "      <td>Veronika</td>\n",
       "      <td>Sonsev</td>\n",
       "    </tr>\n",
       "    <tr>\n",
       "      <th>18</th>\n",
       "      <td>Yes</td>\n",
       "      <td>closed</td>\n",
       "      <td>FairSoftware</td>\n",
       "      <td>web</td>\n",
       "      <td>Yes</td>\n",
       "      <td>No</td>\n",
       "      <td>1.0</td>\n",
       "      <td>1.0</td>\n",
       "      <td>67.0</td>\n",
       "      <td>250.0</td>\n",
       "      <td>SF Bay</td>\n",
       "      <td>MS</td>\n",
       "      <td>Supelec</td>\n",
       "      <td>Electrical Engineering</td>\n",
       "      <td>Paris, France</td>\n",
       "      <td>Alain</td>\n",
       "      <td>Raynaud</td>\n",
       "    </tr>\n",
       "    <tr>\n",
       "      <th>22</th>\n",
       "      <td>No</td>\n",
       "      <td>operating</td>\n",
       "      <td>WPP</td>\n",
       "      <td>public_relations</td>\n",
       "      <td>No</td>\n",
       "      <td>Yes</td>\n",
       "      <td>23.0</td>\n",
       "      <td>3.0</td>\n",
       "      <td>59.0</td>\n",
       "      <td>86.0</td>\n",
       "      <td>New York</td>\n",
       "      <td>Degree</td>\n",
       "      <td>University of Kentucky</td>\n",
       "      <td>Degree</td>\n",
       "      <td>Kentucky</td>\n",
       "      <td>Jack</td>\n",
       "      <td>Smith</td>\n",
       "    </tr>\n",
       "  </tbody>\n",
       "</table>\n",
       "</div>"
      ],
      "text/plain": [
       "   closed     status          name     category_code had_funding  \\\n",
       "7      No  operating  Fundable.com           finance          No   \n",
       "8      No  operating         Wevod       games_video         Yes   \n",
       "11     No   acquired       Jumptap            mobile         Yes   \n",
       "18    Yes     closed  FairSoftware               web         Yes   \n",
       "22     No  operating           WPP  public_relations          No   \n",
       "\n",
       "   has_investment  num_relationships  num_milestones  logo_height  logo_width  \\\n",
       "7             Yes                3.0             4.0        120.0       120.0   \n",
       "8              No                2.0             0.0         89.0       250.0   \n",
       "11             No               45.0             3.0        165.0       650.0   \n",
       "18             No                1.0             1.0         67.0       250.0   \n",
       "22            Yes               23.0             3.0         59.0        86.0   \n",
       "\n",
       "      region degree_type             institution  \\\n",
       "7   Columbus         BBA   Ohio State University   \n",
       "8      Paris          MS                 EPITECH   \n",
       "11    Boston          BA     American University   \n",
       "18    SF Bay          MS                 Supelec   \n",
       "22  New York      Degree  University of Kentucky   \n",
       "\n",
       "                               subject              birthplace first_name  \\\n",
       "7          Entrepreneurship, Marketing                    Ohio       Eric   \n",
       "8   computer sciences and technologies                  France     Nassim   \n",
       "11                           Economics  St. Petersburg, Russia   Veronika   \n",
       "18              Electrical Engineering           Paris, France      Alain   \n",
       "22                              Degree                Kentucky       Jack   \n",
       "\n",
       "   last_name  \n",
       "7       Corl  \n",
       "8   Ghandour  \n",
       "11    Sonsev  \n",
       "18   Raynaud  \n",
       "22     Smith  "
      ]
     },
     "execution_count": 3,
     "metadata": {},
     "output_type": "execute_result"
    }
   ],
   "source": [
    "#read in the data from data prep notebook\n",
    "data = pd.read_hdf('results/classification_data.h5', 'classification_data')\n",
    "data.head()"
   ]
  },
  {
   "cell_type": "markdown",
   "metadata": {},
   "source": [
    "Let's examine the data a bit, first the frequency of our response variable."
   ]
  },
  {
   "cell_type": "code",
   "execution_count": 4,
   "metadata": {},
   "outputs": [
    {
     "data": {
      "text/plain": [
       "<matplotlib.axes._subplots.AxesSubplot at 0x10ecb25f8>"
      ]
     },
     "execution_count": 4,
     "metadata": {},
     "output_type": "execute_result"
    },
    {
     "data": {
      "image/png": "[encoded data removed]",
      "text/plain": [
       "<matplotlib.figure.Figure at 0x10e706898>"
      ]
     },
     "metadata": {},
     "output_type": "display_data"
    }
   ],
   "source": [
    "#frequencies of status variables\n",
    "data['status'].value_counts().plot(kind = 'bar')"
   ]
  },
  {
   "cell_type": "code",
   "execution_count": 5,
   "metadata": {},
   "outputs": [
    {
     "data": {
      "text/plain": [
       "<matplotlib.axes._subplots.AxesSubplot at 0x10ec59e48>"
      ]
     },
     "execution_count": 5,
     "metadata": {},
     "output_type": "execute_result"
    },
    {
     "data": {
      "image/png": "[encoded data removed]",
      "text/plain": [
       "<matplotlib.figure.Figure at 0x10ec4c198>"
      ]
     },
     "metadata": {},
     "output_type": "display_data"
    }
   ],
   "source": [
    "#frequncies of closed varible\n",
    "data['closed'].value_counts().plot(kind = 'bar')"
   ]
  },
  {
   "cell_type": "markdown",
   "metadata": {},
   "source": [
    "As you can see the vast majority of the data represents companies that are still operating. I am going to start with the easier two class response closed vs not closed, and then move on to the company status. The issue that we have here, and one that we need to keep in mind for our classification models, is that we have a huge difference in our response variable prior probabilities. The issue may arrive when evaluated performance, here is an example of why this may be an issue. Say we are modeling a rare disease where 99.99 percent of our data does not have the disease and 0.01 percent of our data does have the disease. Then a model that just predicts \"no\" every time has an error rate of 0.0001, which is very low, but our model obviously sucks."
   ]
  },
  {
   "cell_type": "markdown",
   "metadata": {},
   "source": [
    "I am going to focus a lot of my attention on random forests. Why? For several reason. For one, I personally like random forests as a classification method compared to older methods like LDA or logistic regreesion. Also, while learning machine learning in r in a different class, I kept seeing comments on stack overflow wondering why anyone would build a random forest NOT using sklean when I googled examples, so I need to know what all the hype is about. More importantly, random forest are great at providing information on variable importance compared to more flexible models like K-Nearest-Neighbors, and my goal is to find company/founder predictors of success and failure."
   ]
  },
  {
   "cell_type": "markdown",
   "metadata": {},
   "source": [
    "Now I can seperate the predictors and response variables."
   ]
  },
  {
   "cell_type": "code",
   "execution_count": 6,
   "metadata": {
    "collapsed": true
   },
   "outputs": [],
   "source": [
    "#get two category response variable\n",
    "closed = data['closed']\n",
    "#get multi-level reponse variable\n",
    "status = data['status']"
   ]
  },
  {
   "cell_type": "code",
   "execution_count": 7,
   "metadata": {
    "collapsed": true
   },
   "outputs": [],
   "source": [
    "#get list of predictor column names\n",
    "predictor_list = data.columns.values[3:]"
   ]
  },
  {
   "cell_type": "code",
   "execution_count": 8,
   "metadata": {},
   "outputs": [
    {
     "data": {
      "text/html": [
       "<div>\n",
       "<style>\n",
       "    .dataframe thead tr:only-child th {\n",
       "        text-align: right;\n",
       "    }\n",
       "\n",
       "    .dataframe thead th {\n",
       "        text-align: left;\n",
       "    }\n",
       "\n",
       "    .dataframe tbody tr th {\n",
       "        vertical-align: top;\n",
       "    }\n",
       "</style>\n",
       "<table border=\"1\" class=\"dataframe\">\n",
       "  <thead>\n",
       "    <tr style=\"text-align: right;\">\n",
       "      <th></th>\n",
       "      <th>category_code</th>\n",
       "      <th>had_funding</th>\n",
       "      <th>has_investment</th>\n",
       "      <th>num_relationships</th>\n",
       "      <th>num_milestones</th>\n",
       "      <th>logo_height</th>\n",
       "      <th>logo_width</th>\n",
       "      <th>region</th>\n",
       "      <th>degree_type</th>\n",
       "      <th>institution</th>\n",
       "      <th>subject</th>\n",
       "      <th>birthplace</th>\n",
       "      <th>first_name</th>\n",
       "      <th>last_name</th>\n",
       "    </tr>\n",
       "  </thead>\n",
       "  <tbody>\n",
       "    <tr>\n",
       "      <th>7</th>\n",
       "      <td>finance</td>\n",
       "      <td>No</td>\n",
       "      <td>Yes</td>\n",
       "      <td>3.0</td>\n",
       "      <td>4.0</td>\n",
       "      <td>120.0</td>\n",
       "      <td>120.0</td>\n",
       "      <td>Columbus</td>\n",
       "      <td>BBA</td>\n",
       "      <td>Ohio State University</td>\n",
       "      <td>Entrepreneurship, Marketing</td>\n",
       "      <td>Ohio</td>\n",
       "      <td>Eric</td>\n",
       "      <td>Corl</td>\n",
       "    </tr>\n",
       "    <tr>\n",
       "      <th>8</th>\n",
       "      <td>games_video</td>\n",
       "      <td>Yes</td>\n",
       "      <td>No</td>\n",
       "      <td>2.0</td>\n",
       "      <td>0.0</td>\n",
       "      <td>89.0</td>\n",
       "      <td>250.0</td>\n",
       "      <td>Paris</td>\n",
       "      <td>MS</td>\n",
       "      <td>EPITECH</td>\n",
       "      <td>computer sciences and technologies</td>\n",
       "      <td>France</td>\n",
       "      <td>Nassim</td>\n",
       "      <td>Ghandour</td>\n",
       "    </tr>\n",
       "    <tr>\n",
       "      <th>11</th>\n",
       "      <td>mobile</td>\n",
       "      <td>Yes</td>\n",
       "      <td>No</td>\n",
       "      <td>45.0</td>\n",
       "      <td>3.0</td>\n",
       "      <td>165.0</td>\n",
       "      <td>650.0</td>\n",
       "      <td>Boston</td>\n",
       "      <td>BA</td>\n",
       "      <td>American University</td>\n",
       "      <td>Economics</td>\n",
       "      <td>St. Petersburg, Russia</td>\n",
       "      <td>Veronika</td>\n",
       "      <td>Sonsev</td>\n",
       "    </tr>\n",
       "    <tr>\n",
       "      <th>18</th>\n",
       "      <td>web</td>\n",
       "      <td>Yes</td>\n",
       "      <td>No</td>\n",
       "      <td>1.0</td>\n",
       "      <td>1.0</td>\n",
       "      <td>67.0</td>\n",
       "      <td>250.0</td>\n",
       "      <td>SF Bay</td>\n",
       "      <td>MS</td>\n",
       "      <td>Supelec</td>\n",
       "      <td>Electrical Engineering</td>\n",
       "      <td>Paris, France</td>\n",
       "      <td>Alain</td>\n",
       "      <td>Raynaud</td>\n",
       "    </tr>\n",
       "    <tr>\n",
       "      <th>22</th>\n",
       "      <td>public_relations</td>\n",
       "      <td>No</td>\n",
       "      <td>Yes</td>\n",
       "      <td>23.0</td>\n",
       "      <td>3.0</td>\n",
       "      <td>59.0</td>\n",
       "      <td>86.0</td>\n",
       "      <td>New York</td>\n",
       "      <td>Degree</td>\n",
       "      <td>University of Kentucky</td>\n",
       "      <td>Degree</td>\n",
       "      <td>Kentucky</td>\n",
       "      <td>Jack</td>\n",
       "      <td>Smith</td>\n",
       "    </tr>\n",
       "  </tbody>\n",
       "</table>\n",
       "</div>"
      ],
      "text/plain": [
       "       category_code had_funding has_investment  num_relationships  \\\n",
       "7            finance          No            Yes                3.0   \n",
       "8        games_video         Yes             No                2.0   \n",
       "11            mobile         Yes             No               45.0   \n",
       "18               web         Yes             No                1.0   \n",
       "22  public_relations          No            Yes               23.0   \n",
       "\n",
       "    num_milestones  logo_height  logo_width    region degree_type  \\\n",
       "7              4.0        120.0       120.0  Columbus         BBA   \n",
       "8              0.0         89.0       250.0     Paris          MS   \n",
       "11             3.0        165.0       650.0    Boston          BA   \n",
       "18             1.0         67.0       250.0    SF Bay          MS   \n",
       "22             3.0         59.0        86.0  New York      Degree   \n",
       "\n",
       "               institution                             subject  \\\n",
       "7    Ohio State University         Entrepreneurship, Marketing   \n",
       "8                  EPITECH  computer sciences and technologies   \n",
       "11     American University                           Economics   \n",
       "18                 Supelec              Electrical Engineering   \n",
       "22  University of Kentucky                              Degree   \n",
       "\n",
       "                birthplace first_name last_name  \n",
       "7                     Ohio       Eric      Corl  \n",
       "8                   France     Nassim  Ghandour  \n",
       "11  St. Petersburg, Russia   Veronika    Sonsev  \n",
       "18           Paris, France      Alain   Raynaud  \n",
       "22                Kentucky       Jack     Smith  "
      ]
     },
     "execution_count": 8,
     "metadata": {},
     "output_type": "execute_result"
    }
   ],
   "source": [
    "#get predictors data frame\n",
    "predictors = data[predictor_list]\n",
    "predictors.head()"
   ]
  },
  {
   "cell_type": "code",
   "execution_count": null,
   "metadata": {
    "collapsed": true
   },
   "outputs": [],
   "source": []
  }
 ],
 "metadata": {
  "kernelspec": {
   "display_name": "Python 3",
   "language": "python",
   "name": "python3"
  },
  "language_info": {
   "codemirror_mode": {
    "name": "ipython",
    "version": 3
   },
   "file_extension": ".py",
   "mimetype": "text/x-python",
   "name": "python",
   "nbconvert_exporter": "python",
   "pygments_lexer": "ipython3",
   "version": "3.6.1"
  }
 },
 "nbformat": 4,
 "nbformat_minor": 2
}
