{
 "cells": [
  {
   "cell_type": "markdown",
   "metadata": {},
   "source": [
    "# Explore Categorical Variables to Classify Company Status"
   ]
  },
  {
   "cell_type": "code",
   "execution_count": 1,
   "metadata": {
    "collapsed": true
   },
   "outputs": [],
   "source": [
    "from modules import *"
   ]
  },
  {
   "cell_type": "code",
   "execution_count": 2,
   "metadata": {
    "collapsed": true
   },
   "outputs": [],
   "source": [
    "%matplotlib inline\n",
    "import matplotlib.pyplot as plt\n",
    "import seaborn as sns\n",
    "import numpy as np\n",
    "import pandas as pd\n",
    "import sklearn\n",
    "\n",
    "plt.style.use('seaborn-dark')\n",
    "plt.rcParams['figure.figsize'] = (10, 6)"
   ]
  },
  {
   "cell_type": "code",
   "execution_count": 3,
   "metadata": {},
   "outputs": [
    {
     "data": {
      "text/html": [
       "<div>\n",
       "<style>\n",
       "    .dataframe thead tr:only-child th {\n",
       "        text-align: right;\n",
       "    }\n",
       "\n",
       "    .dataframe thead th {\n",
       "        text-align: left;\n",
       "    }\n",
       "\n",
       "    .dataframe tbody tr th {\n",
       "        vertical-align: top;\n",
       "    }\n",
       "</style>\n",
       "<table border=\"1\" class=\"dataframe\">\n",
       "  <thead>\n",
       "    <tr style=\"text-align: right;\">\n",
       "      <th></th>\n",
       "      <th>closed</th>\n",
       "      <th>status</th>\n",
       "      <th>name</th>\n",
       "      <th>category_code</th>\n",
       "      <th>had_funding</th>\n",
       "      <th>num_investment</th>\n",
       "      <th>num_relationships</th>\n",
       "      <th>num_milestones</th>\n",
       "      <th>logo_height</th>\n",
       "      <th>logo_width</th>\n",
       "      <th>region</th>\n",
       "      <th>degree_type</th>\n",
       "      <th>institution</th>\n",
       "      <th>subject</th>\n",
       "      <th>birthplace</th>\n",
       "      <th>first_name</th>\n",
       "      <th>last_name</th>\n",
       "    </tr>\n",
       "  </thead>\n",
       "  <tbody>\n",
       "    <tr>\n",
       "      <th>7</th>\n",
       "      <td>No</td>\n",
       "      <td>operating</td>\n",
       "      <td>Fundable.com</td>\n",
       "      <td>finance</td>\n",
       "      <td>No</td>\n",
       "      <td>3.0</td>\n",
       "      <td>3.0</td>\n",
       "      <td>4.0</td>\n",
       "      <td>120.0</td>\n",
       "      <td>120.0</td>\n",
       "      <td>Columbus</td>\n",
       "      <td>BBA</td>\n",
       "      <td>Ohio State University</td>\n",
       "      <td>Entrepreneurship, Marketing</td>\n",
       "      <td>Ohio</td>\n",
       "      <td>Eric</td>\n",
       "      <td>Corl</td>\n",
       "    </tr>\n",
       "    <tr>\n",
       "      <th>8</th>\n",
       "      <td>No</td>\n",
       "      <td>operating</td>\n",
       "      <td>Wevod</td>\n",
       "      <td>games_video</td>\n",
       "      <td>Yes</td>\n",
       "      <td>0.0</td>\n",
       "      <td>2.0</td>\n",
       "      <td>0.0</td>\n",
       "      <td>89.0</td>\n",
       "      <td>250.0</td>\n",
       "      <td>Paris</td>\n",
       "      <td>MS</td>\n",
       "      <td>EPITECH</td>\n",
       "      <td>computer sciences and technologies</td>\n",
       "      <td>France</td>\n",
       "      <td>Nassim</td>\n",
       "      <td>Ghandour</td>\n",
       "    </tr>\n",
       "    <tr>\n",
       "      <th>11</th>\n",
       "      <td>No</td>\n",
       "      <td>acquired</td>\n",
       "      <td>Jumptap</td>\n",
       "      <td>mobile</td>\n",
       "      <td>Yes</td>\n",
       "      <td>0.0</td>\n",
       "      <td>45.0</td>\n",
       "      <td>3.0</td>\n",
       "      <td>165.0</td>\n",
       "      <td>650.0</td>\n",
       "      <td>Boston</td>\n",
       "      <td>BA</td>\n",
       "      <td>American University</td>\n",
       "      <td>Economics</td>\n",
       "      <td>St. Petersburg, Russia</td>\n",
       "      <td>Veronika</td>\n",
       "      <td>Sonsev</td>\n",
       "    </tr>\n",
       "    <tr>\n",
       "      <th>18</th>\n",
       "      <td>Yes</td>\n",
       "      <td>closed</td>\n",
       "      <td>FairSoftware</td>\n",
       "      <td>web</td>\n",
       "      <td>Yes</td>\n",
       "      <td>0.0</td>\n",
       "      <td>1.0</td>\n",
       "      <td>1.0</td>\n",
       "      <td>67.0</td>\n",
       "      <td>250.0</td>\n",
       "      <td>SF Bay</td>\n",
       "      <td>MS</td>\n",
       "      <td>Supelec</td>\n",
       "      <td>Electrical Engineering</td>\n",
       "      <td>Paris, France</td>\n",
       "      <td>Alain</td>\n",
       "      <td>Raynaud</td>\n",
       "    </tr>\n",
       "    <tr>\n",
       "      <th>22</th>\n",
       "      <td>No</td>\n",
       "      <td>operating</td>\n",
       "      <td>WPP</td>\n",
       "      <td>public_relations</td>\n",
       "      <td>No</td>\n",
       "      <td>21.0</td>\n",
       "      <td>23.0</td>\n",
       "      <td>3.0</td>\n",
       "      <td>59.0</td>\n",
       "      <td>86.0</td>\n",
       "      <td>New York</td>\n",
       "      <td>Degree</td>\n",
       "      <td>University of Kentucky</td>\n",
       "      <td>Degree</td>\n",
       "      <td>Kentucky</td>\n",
       "      <td>Jack</td>\n",
       "      <td>Smith</td>\n",
       "    </tr>\n",
       "  </tbody>\n",
       "</table>\n",
       "</div>"
      ],
      "text/plain": [
       "   closed     status          name     category_code had_funding  \\\n",
       "7      No  operating  Fundable.com           finance          No   \n",
       "8      No  operating         Wevod       games_video         Yes   \n",
       "11     No   acquired       Jumptap            mobile         Yes   \n",
       "18    Yes     closed  FairSoftware               web         Yes   \n",
       "22     No  operating           WPP  public_relations          No   \n",
       "\n",
       "    num_investment  num_relationships  num_milestones  logo_height  \\\n",
       "7              3.0                3.0             4.0        120.0   \n",
       "8              0.0                2.0             0.0         89.0   \n",
       "11             0.0               45.0             3.0        165.0   \n",
       "18             0.0                1.0             1.0         67.0   \n",
       "22            21.0               23.0             3.0         59.0   \n",
       "\n",
       "    logo_width    region degree_type             institution  \\\n",
       "7        120.0  Columbus         BBA   Ohio State University   \n",
       "8        250.0     Paris          MS                 EPITECH   \n",
       "11       650.0    Boston          BA     American University   \n",
       "18       250.0    SF Bay          MS                 Supelec   \n",
       "22        86.0  New York      Degree  University of Kentucky   \n",
       "\n",
       "                               subject              birthplace first_name  \\\n",
       "7          Entrepreneurship, Marketing                    Ohio       Eric   \n",
       "8   computer sciences and technologies                  France     Nassim   \n",
       "11                           Economics  St. Petersburg, Russia   Veronika   \n",
       "18              Electrical Engineering           Paris, France      Alain   \n",
       "22                              Degree                Kentucky       Jack   \n",
       "\n",
       "   last_name  \n",
       "7       Corl  \n",
       "8   Ghandour  \n",
       "11    Sonsev  \n",
       "18   Raynaud  \n",
       "22     Smith  "
      ]
     },
     "execution_count": 3,
     "metadata": {},
     "output_type": "execute_result"
    }
   ],
   "source": [
    "#read in the data from data prep notebook\n",
    "data = pd.read_hdf('results/classification_data.h5', 'classification_data')\n",
    "data.head()"
   ]
  },
  {
   "cell_type": "markdown",
   "metadata": {},
   "source": [
    "Let's examine the data a bit, first the frequency of our response variable."
   ]
  },
  {
   "cell_type": "code",
   "execution_count": 4,
   "metadata": {},
   "outputs": [
    {
     "data": {
      "text/plain": [
       "<matplotlib.axes._subplots.AxesSubplot at 0x1163fc160>"
      ]
     },
     "execution_count": 4,
     "metadata": {},
     "output_type": "execute_result"
    },
    {
     "data": {
      "image/png": "[encoded data removed]",
      "text/plain": [
       "<matplotlib.figure.Figure at 0x115e90198>"
      ]
     },
     "metadata": {},
     "output_type": "display_data"
    }
   ],
   "source": [
    "#frequencies of status variables\n",
    "data['status'].value_counts().plot(kind = 'bar')"
   ]
  },
  {
   "cell_type": "code",
   "execution_count": 5,
   "metadata": {},
   "outputs": [
    {
     "data": {
      "text/plain": [
       "<matplotlib.axes._subplots.AxesSubplot at 0x115541dd8>"
      ]
     },
     "execution_count": 5,
     "metadata": {},
     "output_type": "execute_result"
    },
    {
     "data": {
      "image/png": "[encoded data removed]",
      "text/plain": [
       "<matplotlib.figure.Figure at 0x1163234a8>"
      ]
     },
     "metadata": {},
     "output_type": "display_data"
    }
   ],
   "source": [
    "#frequncies of closed varible\n",
    "data['closed'].value_counts().plot(kind = 'bar')"
   ]
  },
  {
   "cell_type": "markdown",
   "metadata": {},
   "source": [
    "As you can see the vast majority of the data represents companies that are still operating. I am going to start with the easier two class response closed vs not closed, and then move on to the company status. The issue that we have here, and one that we need to keep in mind for our classification models, is that we have a huge difference in our response variable prior probabilities. The issue may arrive when evaluated performance, here is an example of why this may be an issue. Say we are modeling a rare disease where 99.99 percent of our data does not have the disease and 0.01 percent of our data does have the disease. Then a model that just predicts \"no\" every time has an error rate of 0.0001, which is very low, but our model obviously sucks."
   ]
  },
  {
   "cell_type": "markdown",
   "metadata": {},
   "source": [
    "I am going to start by using a random forest to classify status of a company. The reason I am going to focus on random forests is that random forests allow us to view the variable importance very easily, allowing us to see what predictors are most impactful in company status. Another reason random forests are nice in this case is that the sklearn RandomForestClassifier allows me to weight the response categories by setting class_weight, reducing the issue I discussed before of unbalanced prior probabilities."
   ]
  },
  {
   "cell_type": "markdown",
   "metadata": {},
   "source": [
    "I did not realize sklearn's random forest method does not except categorical variables yet. So I'm going to have to convert a bunch of variables into dumby variables. I don't really like this, as an example why, say my 3 levels of a category are 'green', 'red', and 'blue' and an encoder make green = 0, red = 1, blue = 2. Then by this classification red is \"in between\" green and blue, when this is not the case. However, the alternative is create dumby columns for each category of each variable, and that would create a huge number of predictors, so for now I am going to go with the more naive approach."
   ]
  },
  {
   "cell_type": "code",
   "execution_count": 6,
   "metadata": {
    "collapsed": true
   },
   "outputs": [],
   "source": [
    "from sklearn import preprocessing\n",
    "from sklearn.preprocessing import LabelEncoder"
   ]
  },
  {
   "cell_type": "code",
   "execution_count": 7,
   "metadata": {
    "collapsed": true
   },
   "outputs": [],
   "source": [
    "#function to transform to encoded numerical variables\n",
    "def transform_dumby(df, preds_index):\n",
    "    \"\"\"\n",
    "    Description: transform a data predictors into dumby variables\n",
    "    \n",
    "    inputs:\n",
    "        df: pandas data frame\n",
    "        preds_index: preds_index: eiter an a two item list consisting of the start and stop column index or tuple of predictors column index or a single integer. If it is a single integer we assume this is the first index and predictors are the rest of the df.\n",
    "    \n",
    "    out: pandas df with encoded variables\n",
    "    \"\"\"\n",
    "    if not isinstance(preds_index, int):\n",
    "        start = preds_index[0]\n",
    "        stop = preds_index[1]\n",
    "        \n",
    "        predictor_list = df.columns.values[start:stop]\n",
    "    else:\n",
    "        predictor_list = df.columns.values[preds_index:]\n",
    "        \n",
    "    for col_name in predictor_list:\n",
    "        col = df[col_name]\n",
    "        if not np.issubdtype(col.dtype, np.number):\n",
    "            label_encoder = preprocessing.LabelEncoder()\n",
    "            label_encoder.fit(col)\n",
    "            new_col = label_encoder.transform(col)\n",
    "            df[col_name] = new_col\n",
    "    return(df)"
   ]
  },
  {
   "cell_type": "code",
   "execution_count": 8,
   "metadata": {},
   "outputs": [
    {
     "data": {
      "text/html": [
       "<div>\n",
       "<style>\n",
       "    .dataframe thead tr:only-child th {\n",
       "        text-align: right;\n",
       "    }\n",
       "\n",
       "    .dataframe thead th {\n",
       "        text-align: left;\n",
       "    }\n",
       "\n",
       "    .dataframe tbody tr th {\n",
       "        vertical-align: top;\n",
       "    }\n",
       "</style>\n",
       "<table border=\"1\" class=\"dataframe\">\n",
       "  <thead>\n",
       "    <tr style=\"text-align: right;\">\n",
       "      <th></th>\n",
       "      <th>closed</th>\n",
       "      <th>status</th>\n",
       "      <th>name</th>\n",
       "      <th>category_code</th>\n",
       "      <th>had_funding</th>\n",
       "      <th>num_investment</th>\n",
       "      <th>num_relationships</th>\n",
       "      <th>num_milestones</th>\n",
       "      <th>logo_height</th>\n",
       "      <th>logo_width</th>\n",
       "      <th>region</th>\n",
       "      <th>degree_type</th>\n",
       "      <th>institution</th>\n",
       "      <th>subject</th>\n",
       "      <th>birthplace</th>\n",
       "      <th>first_name</th>\n",
       "      <th>last_name</th>\n",
       "    </tr>\n",
       "  </thead>\n",
       "  <tbody>\n",
       "    <tr>\n",
       "      <th>7</th>\n",
       "      <td>No</td>\n",
       "      <td>operating</td>\n",
       "      <td>Fundable.com</td>\n",
       "      <td>11</td>\n",
       "      <td>0</td>\n",
       "      <td>3.0</td>\n",
       "      <td>3.0</td>\n",
       "      <td>4.0</td>\n",
       "      <td>120.0</td>\n",
       "      <td>120.0</td>\n",
       "      <td>110</td>\n",
       "      <td>69</td>\n",
       "      <td>701</td>\n",
       "      <td>465</td>\n",
       "      <td>745</td>\n",
       "      <td>344</td>\n",
       "      <td>366</td>\n",
       "    </tr>\n",
       "    <tr>\n",
       "      <th>8</th>\n",
       "      <td>No</td>\n",
       "      <td>operating</td>\n",
       "      <td>Wevod</td>\n",
       "      <td>12</td>\n",
       "      <td>1</td>\n",
       "      <td>0.0</td>\n",
       "      <td>2.0</td>\n",
       "      <td>0.0</td>\n",
       "      <td>89.0</td>\n",
       "      <td>250.0</td>\n",
       "      <td>336</td>\n",
       "      <td>317</td>\n",
       "      <td>273</td>\n",
       "      <td>1116</td>\n",
       "      <td>330</td>\n",
       "      <td>797</td>\n",
       "      <td>634</td>\n",
       "    </tr>\n",
       "    <tr>\n",
       "      <th>11</th>\n",
       "      <td>No</td>\n",
       "      <td>acquired</td>\n",
       "      <td>Jumptap</td>\n",
       "      <td>22</td>\n",
       "      <td>1</td>\n",
       "      <td>0.0</td>\n",
       "      <td>45.0</td>\n",
       "      <td>3.0</td>\n",
       "      <td>165.0</td>\n",
       "      <td>650.0</td>\n",
       "      <td>57</td>\n",
       "      <td>52</td>\n",
       "      <td>26</td>\n",
       "      <td>352</td>\n",
       "      <td>980</td>\n",
       "      <td>1147</td>\n",
       "      <td>1748</td>\n",
       "    </tr>\n",
       "    <tr>\n",
       "      <th>18</th>\n",
       "      <td>Yes</td>\n",
       "      <td>closed</td>\n",
       "      <td>FairSoftware</td>\n",
       "      <td>40</td>\n",
       "      <td>1</td>\n",
       "      <td>0.0</td>\n",
       "      <td>1.0</td>\n",
       "      <td>1.0</td>\n",
       "      <td>67.0</td>\n",
       "      <td>250.0</td>\n",
       "      <td>372</td>\n",
       "      <td>317</td>\n",
       "      <td>894</td>\n",
       "      <td>394</td>\n",
       "      <td>790</td>\n",
       "      <td>29</td>\n",
       "      <td>1508</td>\n",
       "    </tr>\n",
       "    <tr>\n",
       "      <th>22</th>\n",
       "      <td>No</td>\n",
       "      <td>operating</td>\n",
       "      <td>WPP</td>\n",
       "      <td>30</td>\n",
       "      <td>0</td>\n",
       "      <td>21.0</td>\n",
       "      <td>23.0</td>\n",
       "      <td>3.0</td>\n",
       "      <td>59.0</td>\n",
       "      <td>86.0</td>\n",
       "      <td>309</td>\n",
       "      <td>199</td>\n",
       "      <td>1182</td>\n",
       "      <td>310</td>\n",
       "      <td>492</td>\n",
       "      <td>507</td>\n",
       "      <td>1731</td>\n",
       "    </tr>\n",
       "  </tbody>\n",
       "</table>\n",
       "</div>"
      ],
      "text/plain": [
       "   closed     status          name  category_code  had_funding  \\\n",
       "7      No  operating  Fundable.com             11            0   \n",
       "8      No  operating         Wevod             12            1   \n",
       "11     No   acquired       Jumptap             22            1   \n",
       "18    Yes     closed  FairSoftware             40            1   \n",
       "22     No  operating           WPP             30            0   \n",
       "\n",
       "    num_investment  num_relationships  num_milestones  logo_height  \\\n",
       "7              3.0                3.0             4.0        120.0   \n",
       "8              0.0                2.0             0.0         89.0   \n",
       "11             0.0               45.0             3.0        165.0   \n",
       "18             0.0                1.0             1.0         67.0   \n",
       "22            21.0               23.0             3.0         59.0   \n",
       "\n",
       "    logo_width  region  degree_type  institution  subject  birthplace  \\\n",
       "7        120.0     110           69          701      465         745   \n",
       "8        250.0     336          317          273     1116         330   \n",
       "11       650.0      57           52           26      352         980   \n",
       "18       250.0     372          317          894      394         790   \n",
       "22        86.0     309          199         1182      310         492   \n",
       "\n",
       "    first_name  last_name  \n",
       "7          344        366  \n",
       "8          797        634  \n",
       "11        1147       1748  \n",
       "18          29       1508  \n",
       "22         507       1731  "
      ]
     },
     "execution_count": 8,
     "metadata": {},
     "output_type": "execute_result"
    }
   ],
   "source": [
    "#transform the data so random forest can use it\n",
    "dat = transform_dumby(data, 3)\n",
    "dat.head()"
   ]
  },
  {
   "cell_type": "markdown",
   "metadata": {},
   "source": [
    "Now I need to split into test and training sets. One common convention is to use 80 percent of the data as the training set."
   ]
  },
  {
   "cell_type": "code",
   "execution_count": 86,
   "metadata": {},
   "outputs": [
    {
     "data": {
      "text/plain": [
       "(2348, 17)"
      ]
     },
     "execution_count": 86,
     "metadata": {},
     "output_type": "execute_result"
    }
   ],
   "source": [
    "#shape of the data\n",
    "dat.shape"
   ]
  },
  {
   "cell_type": "code",
   "execution_count": 87,
   "metadata": {},
   "outputs": [
    {
     "data": {
      "text/plain": [
       "(1878, 17)"
      ]
     },
     "execution_count": 87,
     "metadata": {},
     "output_type": "execute_result"
    }
   ],
   "source": [
    "import random\n",
    "#split into test and training set using 80 percent of the data\n",
    "training = dat.sample(frac = 0.8, random_state = 1)\n",
    "training.shape"
   ]
  },
  {
   "cell_type": "code",
   "execution_count": 88,
   "metadata": {},
   "outputs": [
    {
     "data": {
      "text/plain": [
       "(470, 17)"
      ]
     },
     "execution_count": 88,
     "metadata": {},
     "output_type": "execute_result"
    }
   ],
   "source": [
    "#get test data being removing the training rows from data\n",
    "training_index = list(training.index)\n",
    "\n",
    "test = dat.drop(training_index, axis = 0)\n",
    "test.shape"
   ]
  },
  {
   "cell_type": "markdown",
   "metadata": {},
   "source": [
    "Now I can seperate the predictors and response variables in the training and test data."
   ]
  },
  {
   "cell_type": "code",
   "execution_count": 93,
   "metadata": {
    "collapsed": true
   },
   "outputs": [],
   "source": [
    "#function to seperate predictors and response in one line\n",
    "def seperate_preds_response(df, response_var, preds_index):\n",
    "    \"\"\"\n",
    "    decription: function that makes it so I don't have to split into predictors and response for test and traiing data.\n",
    "    \n",
    "    inputs:\n",
    "        df: training or test data frame\n",
    "        response_var: either a string of the name of the response variable or a list of strings for multiple different response variables\n",
    "        preds_index: eiter an a two item list consisting of the start and stop column index or tuple of predictors column index or a single integer. If it is a single integer we assume this is the first index and predictors are the rest of the df.\n",
    "    output:\n",
    "        List of predictors and response. \n",
    "        First item of the list is the data frame of predictors. The rest are the response series.\n",
    "    \"\"\"\n",
    "    if not isinstance(df, pd.core.frame.DataFrame):\n",
    "        raise ValueError(\"df must be Pandas DFs\")\n",
    "        \n",
    "    dfs = []\n",
    "    \n",
    "    if not isinstance(preds_index, int):\n",
    "        start = preds_index[0]\n",
    "        stop = preds_index[1]\n",
    "        \n",
    "        predictor_list = df.columns.values[start:stop]\n",
    "    else:\n",
    "        predictor_list = df.columns.values[preds_index:]\n",
    "        \n",
    "    predictors = df[predictor_list] \n",
    "    \n",
    "    dfs.append(predictors)\n",
    "    \n",
    "    for var in response_var:\n",
    "        if not isinstance(var, str):\n",
    "            raise TypeError(\"columns of response_var must be strings in the data frame\")\n",
    "            \n",
    "        resp = df[var]\n",
    "        dfs.append(resp)\n",
    "        \n",
    "    return(dfs)"
   ]
  },
  {
   "cell_type": "code",
   "execution_count": 94,
   "metadata": {
    "collapsed": true
   },
   "outputs": [],
   "source": [
    "#seperate predictors and response\n",
    "train_preds, train_closed, train_status = seperate_preds_response(training, ['closed', 'status'], 3)\n",
    "\n",
    "test_preds, test_closed, test_status = seperate_preds_response(test, ['closed', 'status'], 3)"
   ]
  },
  {
   "cell_type": "code",
   "execution_count": 95,
   "metadata": {},
   "outputs": [
    {
     "data": {
      "text/plain": [
       "(1878, 14)"
      ]
     },
     "execution_count": 95,
     "metadata": {},
     "output_type": "execute_result"
    }
   ],
   "source": [
    "#training shape\n",
    "train_preds.shape"
   ]
  },
  {
   "cell_type": "code",
   "execution_count": 17,
   "metadata": {},
   "outputs": [
    {
     "data": {
      "text/plain": [
       "(470, 14)"
      ]
     },
     "execution_count": 17,
     "metadata": {},
     "output_type": "execute_result"
    }
   ],
   "source": [
    "#test shape\n",
    "test_preds.shape"
   ]
  },
  {
   "cell_type": "markdown",
   "metadata": {},
   "source": [
    "I am now going to fit a random forest classifier on the status of the data."
   ]
  },
  {
   "cell_type": "code",
   "execution_count": 96,
   "metadata": {
    "collapsed": true
   },
   "outputs": [],
   "source": [
    "from sklearn import ensemble\n",
    "from sklearn.ensemble import RandomForestClassifier"
   ]
  },
  {
   "cell_type": "code",
   "execution_count": 97,
   "metadata": {
    "collapsed": true
   },
   "outputs": [],
   "source": [
    "from sklearn.model_selection import GridSearchCV"
   ]
  },
  {
   "cell_type": "markdown",
   "metadata": {},
   "source": [
    "Before I fit the random forest model I am going to use GridSearchCV to perform cross validation in order to tune the hyperparameters of the random forest. In the case of this random forest I am going to tune the number of trees in the random forest 'n_estimators' and the parameter 'max_features'. The 'max_features' parameter is the most important parameter for random forests, and determines the maximum number of predictors to random forest will look at when decided how to best split the data. The reason random forests do not look at all of the predictors in the data when creating splits lies in the bias-variance trade off: the random forest will risk increasing bias while reducing variance in limiting the maximum number of features. This reduces any error causes my highly correlated predictors."
   ]
  },
  {
   "cell_type": "markdown",
   "metadata": {},
   "source": [
    "Cross Validation allows us to tune these hyperparameters. When looking at the predictive power of a learning model, the accuracy of the model in predicting the data used to train it is a dis-honest evaluation of the model. Cross Validation splits the data in k folds, then for each value of the hyperparameters we are looking at it training the model on all but one of the folds at a time, tests the model on each left out fold. The average perforamnce of each of the k folds is used as the estimated performance of the hyperparameters. Using GridSearchCV I can find the best combination of my two hyperparameters. "
   ]
  },
  {
   "cell_type": "code",
   "execution_count": 99,
   "metadata": {
    "collapsed": true
   },
   "outputs": [],
   "source": [
    "#list of number of predictors examined in the CV\n",
    "num_preds = np.arange(2, np.ceil(train_preds.shape[1] / 2)).astype(int)\n",
    "\n",
    "#list of the number of trees used in the CV\n",
    "n_ests = [50, 100, 150, 200, 250]"
   ]
  },
  {
   "cell_type": "code",
   "execution_count": 234,
   "metadata": {},
   "outputs": [
    {
     "data": {
      "text/plain": [
       "GridSearchCV(cv=5, error_score='raise',\n",
       "       estimator=RandomForestClassifier(bootstrap=True, class_weight='balanced',\n",
       "            criterion='gini', max_depth=None, max_features='auto',\n",
       "            max_leaf_nodes=None, min_impurity_split=1e-07,\n",
       "            min_samples_leaf=1, min_samples_split=2,\n",
       "            min_weight_fraction_leaf=0.0, n_estimators=10, n_jobs=1,\n",
       "            oob_score=True, random_state=100, verbose=0, warm_start=False),\n",
       "       fit_params={}, iid=True, n_jobs=1,\n",
       "       param_grid={'max_features': array([2, 3, 4, 5, 6]), 'n_estimators': [50, 100, 150, 200, 250]},\n",
       "       pre_dispatch='2*n_jobs', refit=True, return_train_score=False,\n",
       "       scoring='accuracy', verbose=0)"
      ]
     },
     "execution_count": 234,
     "metadata": {},
     "output_type": "execute_result"
    }
   ],
   "source": [
    "#dictionary of parameters to be tuned\n",
    "params = {'max_features':  num_preds, 'n_estimators': n_ests}\n",
    "\n",
    "#intialize a random forest classifier.\n",
    "#random state sets the random set of the classifier\n",
    "#class_weight = 'balanced_subsample'\n",
    "rcf = RandomForestClassifier(random_state = 100, oob_score = True,\n",
    "                            class_weight = 'balanced')\n",
    "\n",
    "#do 5-fold cross validation the hyperparameters\n",
    "cv_rcf = GridSearchCV(rcf, params, cv = 5, scoring = 'accuracy',\n",
    "                      return_train_score = False)\n",
    "\n",
    "#fit the training data\n",
    "cv_rcf.fit(train_preds, train_status)"
   ]
  },
  {
   "cell_type": "code",
   "execution_count": 235,
   "metadata": {},
   "outputs": [
    {
     "data": {
      "text/html": [
       "<div>\n",
       "<style>\n",
       "    .dataframe thead tr:only-child th {\n",
       "        text-align: right;\n",
       "    }\n",
       "\n",
       "    .dataframe thead th {\n",
       "        text-align: left;\n",
       "    }\n",
       "\n",
       "    .dataframe tbody tr th {\n",
       "        vertical-align: top;\n",
       "    }\n",
       "</style>\n",
       "<table border=\"1\" class=\"dataframe\">\n",
       "  <thead>\n",
       "    <tr style=\"text-align: right;\">\n",
       "      <th></th>\n",
       "      <th>mean_fit_time</th>\n",
       "      <th>mean_score_time</th>\n",
       "      <th>mean_test_score</th>\n",
       "      <th>param_max_features</th>\n",
       "      <th>param_n_estimators</th>\n",
       "      <th>params</th>\n",
       "      <th>rank_test_score</th>\n",
       "      <th>split0_test_score</th>\n",
       "      <th>split1_test_score</th>\n",
       "      <th>split2_test_score</th>\n",
       "      <th>split3_test_score</th>\n",
       "      <th>split4_test_score</th>\n",
       "      <th>std_fit_time</th>\n",
       "      <th>std_score_time</th>\n",
       "      <th>std_test_score</th>\n",
       "    </tr>\n",
       "  </thead>\n",
       "  <tbody>\n",
       "    <tr>\n",
       "      <th>0</th>\n",
       "      <td>0.162062</td>\n",
       "      <td>0.008675</td>\n",
       "      <td>0.857295</td>\n",
       "      <td>2</td>\n",
       "      <td>50</td>\n",
       "      <td>{'max_features': 2, 'n_estimators': 50}</td>\n",
       "      <td>3</td>\n",
       "      <td>0.854111</td>\n",
       "      <td>0.859043</td>\n",
       "      <td>0.856383</td>\n",
       "      <td>0.856</td>\n",
       "      <td>0.860963</td>\n",
       "      <td>0.018887</td>\n",
       "      <td>0.001419</td>\n",
       "      <td>0.002414</td>\n",
       "    </tr>\n",
       "    <tr>\n",
       "      <th>1</th>\n",
       "      <td>0.332536</td>\n",
       "      <td>0.016072</td>\n",
       "      <td>0.857827</td>\n",
       "      <td>2</td>\n",
       "      <td>100</td>\n",
       "      <td>{'max_features': 2, 'n_estimators': 100}</td>\n",
       "      <td>2</td>\n",
       "      <td>0.854111</td>\n",
       "      <td>0.859043</td>\n",
       "      <td>0.859043</td>\n",
       "      <td>0.856</td>\n",
       "      <td>0.860963</td>\n",
       "      <td>0.050794</td>\n",
       "      <td>0.002413</td>\n",
       "      <td>0.002447</td>\n",
       "    </tr>\n",
       "    <tr>\n",
       "      <th>2</th>\n",
       "      <td>0.449464</td>\n",
       "      <td>0.021199</td>\n",
       "      <td>0.857295</td>\n",
       "      <td>2</td>\n",
       "      <td>150</td>\n",
       "      <td>{'max_features': 2, 'n_estimators': 150}</td>\n",
       "      <td>3</td>\n",
       "      <td>0.854111</td>\n",
       "      <td>0.859043</td>\n",
       "      <td>0.856383</td>\n",
       "      <td>0.856</td>\n",
       "      <td>0.860963</td>\n",
       "      <td>0.017749</td>\n",
       "      <td>0.002143</td>\n",
       "      <td>0.002414</td>\n",
       "    </tr>\n",
       "    <tr>\n",
       "      <th>3</th>\n",
       "      <td>0.615088</td>\n",
       "      <td>0.030940</td>\n",
       "      <td>0.857295</td>\n",
       "      <td>2</td>\n",
       "      <td>200</td>\n",
       "      <td>{'max_features': 2, 'n_estimators': 200}</td>\n",
       "      <td>3</td>\n",
       "      <td>0.854111</td>\n",
       "      <td>0.859043</td>\n",
       "      <td>0.856383</td>\n",
       "      <td>0.856</td>\n",
       "      <td>0.860963</td>\n",
       "      <td>0.026830</td>\n",
       "      <td>0.003676</td>\n",
       "      <td>0.002414</td>\n",
       "    </tr>\n",
       "    <tr>\n",
       "      <th>4</th>\n",
       "      <td>0.792293</td>\n",
       "      <td>0.040753</td>\n",
       "      <td>0.857295</td>\n",
       "      <td>2</td>\n",
       "      <td>250</td>\n",
       "      <td>{'max_features': 2, 'n_estimators': 250}</td>\n",
       "      <td>3</td>\n",
       "      <td>0.854111</td>\n",
       "      <td>0.859043</td>\n",
       "      <td>0.856383</td>\n",
       "      <td>0.856</td>\n",
       "      <td>0.860963</td>\n",
       "      <td>0.027019</td>\n",
       "      <td>0.005228</td>\n",
       "      <td>0.002414</td>\n",
       "    </tr>\n",
       "  </tbody>\n",
       "</table>\n",
       "</div>"
      ],
      "text/plain": [
       "   mean_fit_time  mean_score_time  mean_test_score param_max_features  \\\n",
       "0       0.162062         0.008675         0.857295                  2   \n",
       "1       0.332536         0.016072         0.857827                  2   \n",
       "2       0.449464         0.021199         0.857295                  2   \n",
       "3       0.615088         0.030940         0.857295                  2   \n",
       "4       0.792293         0.040753         0.857295                  2   \n",
       "\n",
       "  param_n_estimators                                    params  \\\n",
       "0                 50   {'max_features': 2, 'n_estimators': 50}   \n",
       "1                100  {'max_features': 2, 'n_estimators': 100}   \n",
       "2                150  {'max_features': 2, 'n_estimators': 150}   \n",
       "3                200  {'max_features': 2, 'n_estimators': 200}   \n",
       "4                250  {'max_features': 2, 'n_estimators': 250}   \n",
       "\n",
       "   rank_test_score  split0_test_score  split1_test_score  split2_test_score  \\\n",
       "0                3           0.854111           0.859043           0.856383   \n",
       "1                2           0.854111           0.859043           0.859043   \n",
       "2                3           0.854111           0.859043           0.856383   \n",
       "3                3           0.854111           0.859043           0.856383   \n",
       "4                3           0.854111           0.859043           0.856383   \n",
       "\n",
       "   split3_test_score  split4_test_score  std_fit_time  std_score_time  \\\n",
       "0              0.856           0.860963      0.018887        0.001419   \n",
       "1              0.856           0.860963      0.050794        0.002413   \n",
       "2              0.856           0.860963      0.017749        0.002143   \n",
       "3              0.856           0.860963      0.026830        0.003676   \n",
       "4              0.856           0.860963      0.027019        0.005228   \n",
       "\n",
       "   std_test_score  \n",
       "0        0.002414  \n",
       "1        0.002447  \n",
       "2        0.002414  \n",
       "3        0.002414  \n",
       "4        0.002414  "
      ]
     },
     "execution_count": 235,
     "metadata": {},
     "output_type": "execute_result"
    }
   ],
   "source": [
    "#look at results of the cross validation\n",
    "cv_results = pd.DataFrame(cv_rcf.cv_results_)\n",
    "cv_results.head()"
   ]
  },
  {
   "cell_type": "code",
   "execution_count": 236,
   "metadata": {},
   "outputs": [
    {
     "data": {
      "text/html": [
       "<div>\n",
       "<style>\n",
       "    .dataframe thead tr:only-child th {\n",
       "        text-align: right;\n",
       "    }\n",
       "\n",
       "    .dataframe thead th {\n",
       "        text-align: left;\n",
       "    }\n",
       "\n",
       "    .dataframe tbody tr th {\n",
       "        vertical-align: top;\n",
       "    }\n",
       "</style>\n",
       "<table border=\"1\" class=\"dataframe\">\n",
       "  <thead>\n",
       "    <tr style=\"text-align: right;\">\n",
       "      <th></th>\n",
       "      <th>mean_test_score</th>\n",
       "      <th>param_max_features</th>\n",
       "      <th>param_n_estimators</th>\n",
       "    </tr>\n",
       "  </thead>\n",
       "  <tbody>\n",
       "    <tr>\n",
       "      <th>0</th>\n",
       "      <td>0.857295</td>\n",
       "      <td>2</td>\n",
       "      <td>50</td>\n",
       "    </tr>\n",
       "    <tr>\n",
       "      <th>1</th>\n",
       "      <td>0.857827</td>\n",
       "      <td>2</td>\n",
       "      <td>100</td>\n",
       "    </tr>\n",
       "    <tr>\n",
       "      <th>2</th>\n",
       "      <td>0.857295</td>\n",
       "      <td>2</td>\n",
       "      <td>150</td>\n",
       "    </tr>\n",
       "    <tr>\n",
       "      <th>3</th>\n",
       "      <td>0.857295</td>\n",
       "      <td>2</td>\n",
       "      <td>200</td>\n",
       "    </tr>\n",
       "    <tr>\n",
       "      <th>4</th>\n",
       "      <td>0.857295</td>\n",
       "      <td>2</td>\n",
       "      <td>250</td>\n",
       "    </tr>\n",
       "    <tr>\n",
       "      <th>5</th>\n",
       "      <td>0.857295</td>\n",
       "      <td>3</td>\n",
       "      <td>50</td>\n",
       "    </tr>\n",
       "    <tr>\n",
       "      <th>6</th>\n",
       "      <td>0.857295</td>\n",
       "      <td>3</td>\n",
       "      <td>100</td>\n",
       "    </tr>\n",
       "    <tr>\n",
       "      <th>7</th>\n",
       "      <td>0.857295</td>\n",
       "      <td>3</td>\n",
       "      <td>150</td>\n",
       "    </tr>\n",
       "    <tr>\n",
       "      <th>8</th>\n",
       "      <td>0.857295</td>\n",
       "      <td>3</td>\n",
       "      <td>200</td>\n",
       "    </tr>\n",
       "    <tr>\n",
       "      <th>9</th>\n",
       "      <td>0.857295</td>\n",
       "      <td>3</td>\n",
       "      <td>250</td>\n",
       "    </tr>\n",
       "    <tr>\n",
       "      <th>10</th>\n",
       "      <td>0.856763</td>\n",
       "      <td>4</td>\n",
       "      <td>50</td>\n",
       "    </tr>\n",
       "    <tr>\n",
       "      <th>11</th>\n",
       "      <td>0.857295</td>\n",
       "      <td>4</td>\n",
       "      <td>100</td>\n",
       "    </tr>\n",
       "    <tr>\n",
       "      <th>12</th>\n",
       "      <td>0.855698</td>\n",
       "      <td>4</td>\n",
       "      <td>150</td>\n",
       "    </tr>\n",
       "    <tr>\n",
       "      <th>13</th>\n",
       "      <td>0.856230</td>\n",
       "      <td>4</td>\n",
       "      <td>200</td>\n",
       "    </tr>\n",
       "    <tr>\n",
       "      <th>14</th>\n",
       "      <td>0.856763</td>\n",
       "      <td>4</td>\n",
       "      <td>250</td>\n",
       "    </tr>\n",
       "    <tr>\n",
       "      <th>15</th>\n",
       "      <td>0.857295</td>\n",
       "      <td>5</td>\n",
       "      <td>50</td>\n",
       "    </tr>\n",
       "    <tr>\n",
       "      <th>16</th>\n",
       "      <td>0.857295</td>\n",
       "      <td>5</td>\n",
       "      <td>100</td>\n",
       "    </tr>\n",
       "    <tr>\n",
       "      <th>17</th>\n",
       "      <td>0.858360</td>\n",
       "      <td>5</td>\n",
       "      <td>150</td>\n",
       "    </tr>\n",
       "    <tr>\n",
       "      <th>18</th>\n",
       "      <td>0.856763</td>\n",
       "      <td>5</td>\n",
       "      <td>200</td>\n",
       "    </tr>\n",
       "    <tr>\n",
       "      <th>19</th>\n",
       "      <td>0.856763</td>\n",
       "      <td>5</td>\n",
       "      <td>250</td>\n",
       "    </tr>\n",
       "    <tr>\n",
       "      <th>20</th>\n",
       "      <td>0.855698</td>\n",
       "      <td>6</td>\n",
       "      <td>50</td>\n",
       "    </tr>\n",
       "    <tr>\n",
       "      <th>21</th>\n",
       "      <td>0.855165</td>\n",
       "      <td>6</td>\n",
       "      <td>100</td>\n",
       "    </tr>\n",
       "    <tr>\n",
       "      <th>22</th>\n",
       "      <td>0.855698</td>\n",
       "      <td>6</td>\n",
       "      <td>150</td>\n",
       "    </tr>\n",
       "    <tr>\n",
       "      <th>23</th>\n",
       "      <td>0.854633</td>\n",
       "      <td>6</td>\n",
       "      <td>200</td>\n",
       "    </tr>\n",
       "    <tr>\n",
       "      <th>24</th>\n",
       "      <td>0.856230</td>\n",
       "      <td>6</td>\n",
       "      <td>250</td>\n",
       "    </tr>\n",
       "  </tbody>\n",
       "</table>\n",
       "</div>"
      ],
      "text/plain": [
       "    mean_test_score param_max_features param_n_estimators\n",
       "0          0.857295                  2                 50\n",
       "1          0.857827                  2                100\n",
       "2          0.857295                  2                150\n",
       "3          0.857295                  2                200\n",
       "4          0.857295                  2                250\n",
       "5          0.857295                  3                 50\n",
       "6          0.857295                  3                100\n",
       "7          0.857295                  3                150\n",
       "8          0.857295                  3                200\n",
       "9          0.857295                  3                250\n",
       "10         0.856763                  4                 50\n",
       "11         0.857295                  4                100\n",
       "12         0.855698                  4                150\n",
       "13         0.856230                  4                200\n",
       "14         0.856763                  4                250\n",
       "15         0.857295                  5                 50\n",
       "16         0.857295                  5                100\n",
       "17         0.858360                  5                150\n",
       "18         0.856763                  5                200\n",
       "19         0.856763                  5                250\n",
       "20         0.855698                  6                 50\n",
       "21         0.855165                  6                100\n",
       "22         0.855698                  6                150\n",
       "23         0.854633                  6                200\n",
       "24         0.856230                  6                250"
      ]
     },
     "execution_count": 236,
     "metadata": {},
     "output_type": "execute_result"
    }
   ],
   "source": [
    "#data frame of variables to examine\n",
    "scores = cv_results[['mean_test_score', 'param_max_features', 'param_n_estimators']]\n",
    "scores"
   ]
  },
  {
   "cell_type": "code",
   "execution_count": 237,
   "metadata": {},
   "outputs": [
    {
     "data": {
      "image/png": "[encoded data removed]",
      "text/plain": [
       "<matplotlib.figure.Figure at 0x117c4f550>"
      ]
     },
     "metadata": {},
     "output_type": "display_data"
    }
   ],
   "source": [
    "#plot the results of the cross validation grouping by number of trees\n",
    "ax = plt.subplot()\n",
    "scores.groupby('param_n_estimators').plot(y = 'mean_test_score', x = 'param_max_features',\n",
    "                                              kind = 'line', ax = ax)\n",
    "ax.set_title(\"Cross Validation Results for Random Forest Grouped by Number of Trees\")\n",
    "ax.set_ylabel(\"Mean Accuracy\")\n",
    "ax.set_xlabel(\"max_features\")\n",
    "legend = plt.legend()\n",
    "_ = [plt.setp(item, 'text', T) for item, T in zip(legend.texts, n_ests)]"
   ]
  },
  {
   "cell_type": "code",
   "execution_count": 238,
   "metadata": {},
   "outputs": [
    {
     "data": {
      "image/png": "[encoded data removed]",
      "text/plain": [
       "<matplotlib.figure.Figure at 0x117728c18>"
      ]
     },
     "metadata": {},
     "output_type": "display_data"
    }
   ],
   "source": [
    "#plot the results of the cross validation grouping by max_features\n",
    "ax = plt.subplot()\n",
    "scores.groupby('param_max_features').plot(y = 'mean_test_score', x = 'param_n_estimators',\n",
    "                                              kind = 'line', ax = ax)\n",
    "ax.set_title(\"Cross Validation Results for Random Forest Grouped by Max Features\")\n",
    "ax.set_ylabel(\"Mean Accuracy\")\n",
    "ax.set_xlabel(\"num_estimators\")\n",
    "legend = plt.legend()\n",
    "_ = [plt.setp(item, 'text', T) for item, T in zip(legend.texts, num_preds)]"
   ]
  },
  {
   "cell_type": "markdown",
   "metadata": {},
   "source": [
    "I can now fit a random forest using the best combination of hyperparameters."
   ]
  },
  {
   "cell_type": "code",
   "execution_count": 239,
   "metadata": {},
   "outputs": [
    {
     "data": {
      "text/plain": [
       "RandomForestClassifier(bootstrap=True, class_weight='balanced',\n",
       "            criterion='gini', max_depth=None, max_features=5,\n",
       "            max_leaf_nodes=None, min_impurity_split=1e-07,\n",
       "            min_samples_leaf=1, min_samples_split=2,\n",
       "            min_weight_fraction_leaf=0.0, n_estimators=150, n_jobs=1,\n",
       "            oob_score=True, random_state=100, verbose=0, warm_start=False)"
      ]
     },
     "execution_count": 239,
     "metadata": {},
     "output_type": "execute_result"
    }
   ],
   "source": [
    "#fit the best cross validation random forest\n",
    "best_rcf = cv_rcf.best_estimator_\n",
    "best_rcf.fit(train_preds, train_status)"
   ]
  },
  {
   "cell_type": "markdown",
   "metadata": {},
   "source": [
    "Now I can look at the feature importance of each variable. This is the variable that best splits the data into the status categories."
   ]
  },
  {
   "cell_type": "code",
   "execution_count": 227,
   "metadata": {},
   "outputs": [
    {
     "data": {
      "text/html": [
       "<div>\n",
       "<style>\n",
       "    .dataframe thead tr:only-child th {\n",
       "        text-align: right;\n",
       "    }\n",
       "\n",
       "    .dataframe thead th {\n",
       "        text-align: left;\n",
       "    }\n",
       "\n",
       "    .dataframe tbody tr th {\n",
       "        vertical-align: top;\n",
       "    }\n",
       "</style>\n",
       "<table border=\"1\" class=\"dataframe\">\n",
       "  <thead>\n",
       "    <tr style=\"text-align: right;\">\n",
       "      <th></th>\n",
       "      <th>gini</th>\n",
       "      <th>variable</th>\n",
       "    </tr>\n",
       "  </thead>\n",
       "  <tbody>\n",
       "    <tr>\n",
       "      <th>0</th>\n",
       "      <td>0.060806</td>\n",
       "      <td>category_code</td>\n",
       "    </tr>\n",
       "    <tr>\n",
       "      <th>1</th>\n",
       "      <td>0.046401</td>\n",
       "      <td>had_funding</td>\n",
       "    </tr>\n",
       "    <tr>\n",
       "      <th>2</th>\n",
       "      <td>0.034524</td>\n",
       "      <td>num_investment</td>\n",
       "    </tr>\n",
       "    <tr>\n",
       "      <th>3</th>\n",
       "      <td>0.180875</td>\n",
       "      <td>num_relationships</td>\n",
       "    </tr>\n",
       "    <tr>\n",
       "      <th>4</th>\n",
       "      <td>0.067236</td>\n",
       "      <td>num_milestones</td>\n",
       "    </tr>\n",
       "    <tr>\n",
       "      <th>5</th>\n",
       "      <td>0.075838</td>\n",
       "      <td>logo_height</td>\n",
       "    </tr>\n",
       "    <tr>\n",
       "      <th>6</th>\n",
       "      <td>0.083922</td>\n",
       "      <td>logo_width</td>\n",
       "    </tr>\n",
       "    <tr>\n",
       "      <th>7</th>\n",
       "      <td>0.055345</td>\n",
       "      <td>region</td>\n",
       "    </tr>\n",
       "    <tr>\n",
       "      <th>8</th>\n",
       "      <td>0.044622</td>\n",
       "      <td>degree_type</td>\n",
       "    </tr>\n",
       "    <tr>\n",
       "      <th>9</th>\n",
       "      <td>0.075953</td>\n",
       "      <td>institution</td>\n",
       "    </tr>\n",
       "    <tr>\n",
       "      <th>10</th>\n",
       "      <td>0.059448</td>\n",
       "      <td>subject</td>\n",
       "    </tr>\n",
       "    <tr>\n",
       "      <th>11</th>\n",
       "      <td>0.063189</td>\n",
       "      <td>birthplace</td>\n",
       "    </tr>\n",
       "    <tr>\n",
       "      <th>12</th>\n",
       "      <td>0.076895</td>\n",
       "      <td>first_name</td>\n",
       "    </tr>\n",
       "    <tr>\n",
       "      <th>13</th>\n",
       "      <td>0.074946</td>\n",
       "      <td>last_name</td>\n",
       "    </tr>\n",
       "  </tbody>\n",
       "</table>\n",
       "</div>"
      ],
      "text/plain": [
       "        gini           variable\n",
       "0   0.060806      category_code\n",
       "1   0.046401        had_funding\n",
       "2   0.034524     num_investment\n",
       "3   0.180875  num_relationships\n",
       "4   0.067236     num_milestones\n",
       "5   0.075838        logo_height\n",
       "6   0.083922         logo_width\n",
       "7   0.055345             region\n",
       "8   0.044622        degree_type\n",
       "9   0.075953        institution\n",
       "10  0.059448            subject\n",
       "11  0.063189         birthplace\n",
       "12  0.076895         first_name\n",
       "13  0.074946          last_name"
      ]
     },
     "execution_count": 227,
     "metadata": {},
     "output_type": "execute_result"
    }
   ],
   "source": [
    "#create data frame of variable importance\n",
    "d = {'variable': train_preds.columns.values, 'gini': best_rcf.feature_importances_}\n",
    "feature_imp = pd.DataFrame(d)\n",
    "feature_imp"
   ]
  },
  {
   "cell_type": "code",
   "execution_count": 228,
   "metadata": {},
   "outputs": [
    {
     "data": {
      "image/png": "[encoded data removed]",
      "text/plain": [
       "<matplotlib.figure.Figure at 0x118739978>"
      ]
     },
     "metadata": {},
     "output_type": "display_data"
    }
   ],
   "source": [
    "#plot variable importance\n",
    "imps = best_rcf.feature_importances_\n",
    "x = range(train_preds.shape[1])\n",
    "feature_names = train_preds.columns\n",
    "\n",
    "f, ax = plt.subplots()\n",
    "plt.bar(x, imps, color = 'b', align = 'center')\n",
    "plt.xticks(x, feature_names, rotation='vertical')\n",
    "plt.xlim(-1, train_preds.shape[1])\n",
    "plt.ylabel(\"Importance\")\n",
    "plt.xlabel(\"Variable\")\n",
    "plt.title(\"Variable Importance of Tuned Random Forest\")\n",
    "plt.show()"
   ]
  },
  {
   "cell_type": "markdown",
   "metadata": {},
   "source": [
    "It seems num_relationships best splits our data into the status categories."
   ]
  },
  {
   "cell_type": "markdown",
   "metadata": {},
   "source": [
    "One issue I have with the \"best\" parameters used is how unsually sporatic the perforamce of best number of trees with other values of number of features and vice versa. You can see is the output that the combination of 5 max_features and 150 n_estimatros gave us the best results. Instead it might be nice to look at other combinations of the hyperparameters. For example using 100 for n_estimators and 2 for num_features gave the second best average performance, and both were more stable with other combinations of hyperparamets."
   ]
  },
  {
   "cell_type": "code",
   "execution_count": 187,
   "metadata": {},
   "outputs": [
    {
     "data": {
      "text/plain": [
       "RandomForestClassifier(bootstrap=True, class_weight='balanced',\n",
       "            criterion='gini', max_depth=None, max_features=5,\n",
       "            max_leaf_nodes=None, min_impurity_split=1e-07,\n",
       "            min_samples_leaf=1, min_samples_split=2,\n",
       "            min_weight_fraction_leaf=0.0, n_estimators=10000, n_jobs=1,\n",
       "            oob_score=True, random_state=100, verbose=0, warm_start=False)"
      ]
     },
     "execution_count": 187,
     "metadata": {},
     "output_type": "execute_result"
    }
   ],
   "source": [
    "#look at variable importance and test results of second best hyper paramters\n",
    "feat = 2\n",
    "trees = 100\n",
    "\n",
    "#intialize\n",
    "rcf2 = RandomForestClassifier(n_estimators = 10000, max_features = 5,\n",
    "                             random_state = 100, oob_score = True,\n",
    "                             class_weight = 'balanced')\n",
    "#fit on data\n",
    "rcf2.fit(train_preds, train_status)"
   ]
  },
  {
   "cell_type": "code",
   "execution_count": 188,
   "metadata": {},
   "outputs": [
    {
     "data": {
      "image/png": "[encoded data removed]",
      "text/plain": [
       "<matplotlib.figure.Figure at 0x119641f98>"
      ]
     },
     "metadata": {},
     "output_type": "display_data"
    }
   ],
   "source": [
    "#create data frame of variable importance with new hyperparamers\n",
    "d2 = {'variable': train_preds.columns.values, 'gini': rcf2.feature_importances_}\n",
    "feature_imp2 = pd.DataFrame(d2)\n",
    "\n",
    "#plot variable importance with new hyperparameters\n",
    "imps2 = rcf2.feature_importances_\n",
    "x = range(train_preds.shape[1])\n",
    "feature_names = train_preds.columns\n",
    "\n",
    "f, ax = plt.subplots()\n",
    "plt.bar(x, imps2, color = 'b', align = 'center')\n",
    "plt.xticks(x, feature_names, rotation='vertical')\n",
    "plt.xlim(-1, train_preds.shape[1])\n",
    "plt.ylabel(\"Importance\")\n",
    "plt.xlabel(\"Variable\")\n",
    "plt.title(\"Variable Importance of Random Forest With Stable Hyperparamets\")\n",
    "plt.show()"
   ]
  },
  {
   "cell_type": "markdown",
   "metadata": {},
   "source": [
    "We have pretty similar results in feature importance as our best hyperparameter combination, so there is reason to believe num_relationships is the predictors that best seperates our data into status categories."
   ]
  },
  {
   "cell_type": "markdown",
   "metadata": {},
   "source": [
    "Now I am going to move on to testing. Recall before I mentioned how the issue of class imbalance may effect our learning model. While we were able to find out number of relationships split the data well the status category, we still don't know how well that model predicts unseen data? First let's look at the accuracy of our model."
   ]
  },
  {
   "cell_type": "code",
   "execution_count": 290,
   "metadata": {},
   "outputs": [
    {
     "data": {
      "text/plain": [
       "0.86170212765957444"
      ]
     },
     "execution_count": 290,
     "metadata": {},
     "output_type": "execute_result"
    }
   ],
   "source": [
    "#look at accuracy of the data\n",
    "test_status_score = best_rcf.score(test_preds, test_status)\n",
    "test_status_score"
   ]
  },
  {
   "cell_type": "markdown",
   "metadata": {},
   "source": [
    "Not bad. However, I mentioned before the issue with just looking at accuracy in classification cases like this one. Below I will show the confusion matrix of the predictions our model made. In a confusion matrix, the number in the ith row and jth column is the number of individuals we predicted to be in the \"ith\" class, but is really in the \"jth\" class, based on some ordering. I provide the ordering in a list before the confusion matrix is printed."
   ]
  },
  {
   "cell_type": "code",
   "execution_count": 291,
   "metadata": {},
   "outputs": [
    {
     "name": "stdout",
     "output_type": "stream",
     "text": [
      "['operating', 'closed', 'acquired', 'ipo']\n",
      "[[404   0   0   3]\n",
      " [ 14   0   0   0]\n",
      " [ 35   0   0   0]\n",
      " [ 13   0   0   1]]\n"
     ]
    }
   ],
   "source": [
    "from sklearn.metrics import confusion_matrix\n",
    "#class predictions\n",
    "preds_status_forest = best_rcf.predict(test_preds)\n",
    "#confusion matrix\n",
    "labs = list(set(test_status))\n",
    "print(labs)\n",
    "cf = confusion_matrix(test_status, preds_status_forest, labels = labs)\n",
    "print(cf)"
   ]
  },
  {
   "cell_type": "markdown",
   "metadata": {},
   "source": [
    "As you can see, the model did not do very well. Only 4 cases in the test sample were predicted to be not 'operating', showing the model really did not do well. I thought that possibilty changing the scoring attribute of GridSearchCV to something based on an f1 score or precion could help, however, the results of the final confusion matrix in generally remained the same no matter the hyperparameters. Based on what I found online, it turns out sklearn is still not so great with really inbalanced data sets like the one I am working with. In theory, I could have used an f1 score, however, that still wasn't working once a fit the data. I saw some pretty heated people talking on stack overflow about this issue, and it seemed even the class_weight attribute could not help me here. Basically, because sklearn's fit method optimized by accuracy. I was unable to find a solution to this. Instead I am going to use the probabilities an individual is of an unrepresented class and manually predict that class if the probability is over a tuned lower threshold.\n",
    "\n",
    "To make matters easier I am going to move on to the two category 'closed' response variable. After fitting the model, instead of using the predict method I am going to define my own prediction based on prediction probabilites. Random Forest classify a row to the class it has the highest probability of being a part of, but instead I can predict a row to be closed based on a tuned decion boundary."
   ]
  },
  {
   "cell_type": "markdown",
   "metadata": {},
   "source": [
    "# Closed"
   ]
  },
  {
   "cell_type": "markdown",
   "metadata": {},
   "source": [
    "First, I tried to pick hyper parameters for my random forest for the closed response variable, however, I was getting consistantly the same error rate no matter what parameter I used. That was because one again, and this was the case even after I tried chaning hyperparameters to be tuned or changed the scoring metric, I was constantly getting models that only predicted no. Instead, what I am going to do is just use the hyperparameters from before, and then work from there. This is not good practise, however, the closed variable is just a dumby indicator for the closed column from my previous model."
   ]
  },
  {
   "cell_type": "code",
   "execution_count": 295,
   "metadata": {},
   "outputs": [
    {
     "data": {
      "text/plain": [
       "GridSearchCV(cv=5, error_score='raise',\n",
       "       estimator=RandomForestClassifier(bootstrap=True, class_weight='balanced',\n",
       "            criterion='gini', max_depth=None, max_features='auto',\n",
       "            max_leaf_nodes=None, min_impurity_split=1e-07,\n",
       "            min_samples_leaf=1, min_samples_split=2,\n",
       "            min_weight_fraction_leaf=0.0, n_estimators=10, n_jobs=1,\n",
       "            oob_score=True, random_state=100, verbose=0, warm_start=False),\n",
       "       fit_params={}, iid=True, n_jobs=1,\n",
       "       param_grid={'max_features': array([2, 3, 4, 5, 6]), 'n_estimators': [50, 100, 150, 200, 250]},\n",
       "       pre_dispatch='2*n_jobs', refit=True, return_train_score=False,\n",
       "       scoring='accuracy', verbose=0)"
      ]
     },
     "execution_count": 295,
     "metadata": {},
     "output_type": "execute_result"
    }
   ],
   "source": [
    "#make closed model\n",
    "params = {'max_features':  num_preds, 'n_estimators': n_ests}\n",
    "\n",
    "rcf_closed = RandomForestClassifier(random_state = 100, oob_score = True,\n",
    "                             class_weight = 'balanced')\n",
    "\n",
    "cv_rcf_closed = GridSearchCV(rcf, params, cv = 5, scoring = 'accuracy',\n",
    "                      return_train_score = False)\n",
    "\n",
    "#cv_rcf.fit(train_preds, train_closed)\n",
    "cv_rcf_closed.fit(train_preds, train_closed)"
   ]
  },
  {
   "cell_type": "code",
   "execution_count": 296,
   "metadata": {},
   "outputs": [
    {
     "data": {
      "image/png": "[encoded data removed]",
      "text/plain": [
       "<matplotlib.figure.Figure at 0x117e9f518>"
      ]
     },
     "metadata": {},
     "output_type": "display_data"
    }
   ],
   "source": [
    "#plot cross validation results, show that there is a serious issue\n",
    "scores_closed = pd.DataFrame(cv_rcf_closed.cv_results_)\n",
    "cv_results_closed = scores_closed[['mean_test_score', 'param_max_features', 'param_n_estimators']]\n",
    "ax = plt.subplot()\n",
    "cv_results_closed.groupby('param_n_estimators').plot(y = 'mean_test_score', x = 'param_max_features',\n",
    "                                              kind = 'line', ax = ax)\n",
    "ax.set_title(\"Cross Validation Results for Random Forest for Closed response variable\")\n",
    "ax.set_ylabel(\"Mean Accuracy\")\n",
    "legend = plt.legend()\n",
    "_ = [plt.setp(item, 'text', T) for item, T in zip(legend.texts, n_ests)]"
   ]
  },
  {
   "cell_type": "code",
   "execution_count": 297,
   "metadata": {},
   "outputs": [
    {
     "data": {
      "text/plain": [
       "RandomForestClassifier(bootstrap=True, class_weight='balanced',\n",
       "            criterion='gini', max_depth=None, max_features=5,\n",
       "            max_leaf_nodes=None, min_impurity_split=1e-07,\n",
       "            min_samples_leaf=1, min_samples_split=2,\n",
       "            min_weight_fraction_leaf=0.0, n_estimators=150, n_jobs=1,\n",
       "            oob_score=True, random_state=100, verbose=0, warm_start=False)"
      ]
     },
     "execution_count": 297,
     "metadata": {},
     "output_type": "execute_result"
    }
   ],
   "source": [
    "#make closed using hyperparameters from before\n",
    "rcf_closed = RandomForestClassifier(random_state = 100, oob_score = True,\n",
    "                                    class_weight = 'balanced', max_features = 5,\n",
    "                                   n_estimators = 150)\n",
    "rcf_closed.fit(train_preds, train_closed)"
   ]
  },
  {
   "cell_type": "code",
   "execution_count": 298,
   "metadata": {},
   "outputs": [
    {
     "data": {
      "image/png": "[encoded data removed]",
      "text/plain": [
       "<matplotlib.figure.Figure at 0x11897db70>"
      ]
     },
     "metadata": {},
     "output_type": "display_data"
    }
   ],
   "source": [
    "#look at variable importance\n",
    "d = {'variable': train_preds.columns.values, 'gini': rcf_closed.feature_importances_}\n",
    "feature_imp_closed = pd.DataFrame(d)\n",
    "imps_closed = rcf_closed.feature_importances_\n",
    "x = range(train_preds.shape[1])\n",
    "feature_names = train_preds.columns\n",
    "\n",
    "f, ax = plt.subplots()\n",
    "plt.bar(x, imps_closed, color = 'b', align = 'center')\n",
    "plt.xticks(x, feature_names, rotation='vertical')\n",
    "plt.xlim(-1, train_preds.shape[1])\n",
    "plt.ylabel(\"Importance\")\n",
    "plt.xlabel(\"Variable\")\n",
    "plt.title(\"Variable Importance of Tuned Random Forest\")\n",
    "plt.show()"
   ]
  },
  {
   "cell_type": "markdown",
   "metadata": {},
   "source": [
    "One interesting thing is that num_relationships is no longer the most important feature here, instead it is had_funding. That does make sense, in that companies that recieved funding are more likely to stay in business than companies that do not. Category code now comes in second, and school subject and institution have moved up in relative importance."
   ]
  },
  {
   "cell_type": "code",
   "execution_count": 299,
   "metadata": {},
   "outputs": [
    {
     "data": {
      "text/plain": [
       "0.97021276595744677"
      ]
     },
     "execution_count": 299,
     "metadata": {},
     "output_type": "execute_result"
    }
   ],
   "source": [
    "#look at test score\n",
    "rcf_closed.score(test_preds, test_closed)"
   ]
  },
  {
   "cell_type": "code",
   "execution_count": 300,
   "metadata": {},
   "outputs": [
    {
     "name": "stdout",
     "output_type": "stream",
     "text": [
      "['No', 'Yes']\n",
      "[[456   0]\n",
      " [ 14   0]]\n"
     ]
    }
   ],
   "source": [
    "#look at test confusion matrix\n",
    "preds_closed_forest = rcf_closed.predict(test_preds)\n",
    "#confusion matrix\n",
    "labs = list(set(test_closed))\n",
    "print(labs)\n",
    "cf_closed = confusion_matrix(test_closed, preds_closed_forest, labels = labs)\n",
    "print(cf_closed)"
   ]
  },
  {
   "cell_type": "markdown",
   "metadata": {},
   "source": [
    "I am going to start by showing how one can lower the tolerance and self make predictions using the test data. I am going to start by saying, if the probability that the individual is closed is greater than the the frequency of closed individuals in the training set, then classify as closed."
   ]
  },
  {
   "cell_type": "code",
   "execution_count": 305,
   "metadata": {},
   "outputs": [],
   "source": [
    "#classify based on very low tolerance\n",
    "new = (clf.predict_proba(test_preds)[:,1] > (list(train_closed.values).count('Yes')/train_closed.size))"
   ]
  },
  {
   "cell_type": "code",
   "execution_count": 306,
   "metadata": {},
   "outputs": [],
   "source": [
    "#Change to form of response variable\n",
    "new_preds = ['Yes' if n else 'No' for n in new]"
   ]
  },
  {
   "cell_type": "code",
   "execution_count": 307,
   "metadata": {},
   "outputs": [
    {
     "name": "stdout",
     "output_type": "stream",
     "text": [
      "['No', 'Yes']\n",
      "[[319 137]\n",
      " [  3  11]]\n"
     ]
    }
   ],
   "source": [
    "#create confusion matrix\n",
    "labs = list(set(test_closed))\n",
    "print(labs)\n",
    "cf_closed_new = confusion_matrix(test_closed, new_preds, labels = labs)\n",
    "print(cf_closed_new)"
   ]
  },
  {
   "cell_type": "markdown",
   "metadata": {},
   "source": [
    "Interestingly, that actually did pretty well. While there is a much greater number of false positive now, the was this data set turned out kind of like data for a predicting if a persion has a rare disease. For those types of classification problems, generally you are ok with a large number of false positve, as opposed to any false negatives."
   ]
  },
  {
   "cell_type": "markdown",
   "metadata": {
    "collapsed": true
   },
   "source": [
    "## Using dumby"
   ]
  },
  {
   "cell_type": "code",
   "execution_count": 97,
   "metadata": {},
   "outputs": [
    {
     "data": {
      "text/html": [
       "<div>\n",
       "<style>\n",
       "    .dataframe thead tr:only-child th {\n",
       "        text-align: right;\n",
       "    }\n",
       "\n",
       "    .dataframe thead th {\n",
       "        text-align: left;\n",
       "    }\n",
       "\n",
       "    .dataframe tbody tr th {\n",
       "        vertical-align: top;\n",
       "    }\n",
       "</style>\n",
       "<table border=\"1\" class=\"dataframe\">\n",
       "  <thead>\n",
       "    <tr style=\"text-align: right;\">\n",
       "      <th></th>\n",
       "      <th>closed</th>\n",
       "      <th>status</th>\n",
       "      <th>name</th>\n",
       "      <th>category_code</th>\n",
       "      <th>had_funding</th>\n",
       "      <th>num_investment</th>\n",
       "      <th>num_relationships</th>\n",
       "      <th>num_milestones</th>\n",
       "      <th>logo_height</th>\n",
       "      <th>logo_width</th>\n",
       "      <th>region</th>\n",
       "      <th>degree_type</th>\n",
       "      <th>institution</th>\n",
       "      <th>subject</th>\n",
       "      <th>birthplace</th>\n",
       "      <th>first_name</th>\n",
       "      <th>last_name</th>\n",
       "    </tr>\n",
       "  </thead>\n",
       "  <tbody>\n",
       "    <tr>\n",
       "      <th>7</th>\n",
       "      <td>No</td>\n",
       "      <td>operating</td>\n",
       "      <td>Fundable.com</td>\n",
       "      <td>finance</td>\n",
       "      <td>No</td>\n",
       "      <td>3.0</td>\n",
       "      <td>3.0</td>\n",
       "      <td>4.0</td>\n",
       "      <td>120.0</td>\n",
       "      <td>120.0</td>\n",
       "      <td>Columbus</td>\n",
       "      <td>BBA</td>\n",
       "      <td>Ohio State University</td>\n",
       "      <td>Entrepreneurship, Marketing</td>\n",
       "      <td>Ohio</td>\n",
       "      <td>Eric</td>\n",
       "      <td>Corl</td>\n",
       "    </tr>\n",
       "    <tr>\n",
       "      <th>8</th>\n",
       "      <td>No</td>\n",
       "      <td>operating</td>\n",
       "      <td>Wevod</td>\n",
       "      <td>games_video</td>\n",
       "      <td>Yes</td>\n",
       "      <td>0.0</td>\n",
       "      <td>2.0</td>\n",
       "      <td>0.0</td>\n",
       "      <td>89.0</td>\n",
       "      <td>250.0</td>\n",
       "      <td>Paris</td>\n",
       "      <td>MS</td>\n",
       "      <td>EPITECH</td>\n",
       "      <td>computer sciences and technologies</td>\n",
       "      <td>France</td>\n",
       "      <td>Nassim</td>\n",
       "      <td>Ghandour</td>\n",
       "    </tr>\n",
       "    <tr>\n",
       "      <th>11</th>\n",
       "      <td>No</td>\n",
       "      <td>acquired</td>\n",
       "      <td>Jumptap</td>\n",
       "      <td>mobile</td>\n",
       "      <td>Yes</td>\n",
       "      <td>0.0</td>\n",
       "      <td>45.0</td>\n",
       "      <td>3.0</td>\n",
       "      <td>165.0</td>\n",
       "      <td>650.0</td>\n",
       "      <td>Boston</td>\n",
       "      <td>BA</td>\n",
       "      <td>American University</td>\n",
       "      <td>Economics</td>\n",
       "      <td>St. Petersburg, Russia</td>\n",
       "      <td>Veronika</td>\n",
       "      <td>Sonsev</td>\n",
       "    </tr>\n",
       "    <tr>\n",
       "      <th>18</th>\n",
       "      <td>Yes</td>\n",
       "      <td>closed</td>\n",
       "      <td>FairSoftware</td>\n",
       "      <td>web</td>\n",
       "      <td>Yes</td>\n",
       "      <td>0.0</td>\n",
       "      <td>1.0</td>\n",
       "      <td>1.0</td>\n",
       "      <td>67.0</td>\n",
       "      <td>250.0</td>\n",
       "      <td>SF Bay</td>\n",
       "      <td>MS</td>\n",
       "      <td>Supelec</td>\n",
       "      <td>Electrical Engineering</td>\n",
       "      <td>Paris, France</td>\n",
       "      <td>Alain</td>\n",
       "      <td>Raynaud</td>\n",
       "    </tr>\n",
       "    <tr>\n",
       "      <th>22</th>\n",
       "      <td>No</td>\n",
       "      <td>operating</td>\n",
       "      <td>WPP</td>\n",
       "      <td>public_relations</td>\n",
       "      <td>No</td>\n",
       "      <td>21.0</td>\n",
       "      <td>23.0</td>\n",
       "      <td>3.0</td>\n",
       "      <td>59.0</td>\n",
       "      <td>86.0</td>\n",
       "      <td>New York</td>\n",
       "      <td>Degree</td>\n",
       "      <td>University of Kentucky</td>\n",
       "      <td>Degree</td>\n",
       "      <td>Kentucky</td>\n",
       "      <td>Jack</td>\n",
       "      <td>Smith</td>\n",
       "    </tr>\n",
       "  </tbody>\n",
       "</table>\n",
       "</div>"
      ],
      "text/plain": [
       "   closed     status          name     category_code had_funding  \\\n",
       "7      No  operating  Fundable.com           finance          No   \n",
       "8      No  operating         Wevod       games_video         Yes   \n",
       "11     No   acquired       Jumptap            mobile         Yes   \n",
       "18    Yes     closed  FairSoftware               web         Yes   \n",
       "22     No  operating           WPP  public_relations          No   \n",
       "\n",
       "    num_investment  num_relationships  num_milestones  logo_height  \\\n",
       "7              3.0                3.0             4.0        120.0   \n",
       "8              0.0                2.0             0.0         89.0   \n",
       "11             0.0               45.0             3.0        165.0   \n",
       "18             0.0                1.0             1.0         67.0   \n",
       "22            21.0               23.0             3.0         59.0   \n",
       "\n",
       "    logo_width    region degree_type             institution  \\\n",
       "7        120.0  Columbus         BBA   Ohio State University   \n",
       "8        250.0     Paris          MS                 EPITECH   \n",
       "11       650.0    Boston          BA     American University   \n",
       "18       250.0    SF Bay          MS                 Supelec   \n",
       "22        86.0  New York      Degree  University of Kentucky   \n",
       "\n",
       "                               subject              birthplace first_name  \\\n",
       "7          Entrepreneurship, Marketing                    Ohio       Eric   \n",
       "8   computer sciences and technologies                  France     Nassim   \n",
       "11                           Economics  St. Petersburg, Russia   Veronika   \n",
       "18              Electrical Engineering           Paris, France      Alain   \n",
       "22                              Degree                Kentucky       Jack   \n",
       "\n",
       "   last_name  \n",
       "7       Corl  \n",
       "8   Ghandour  \n",
       "11    Sonsev  \n",
       "18   Raynaud  \n",
       "22     Smith  "
      ]
     },
     "execution_count": 97,
     "metadata": {},
     "output_type": "execute_result"
    }
   ],
   "source": [
    "long = pd.read_hdf('results/classification_data.h5', 'classification_data')\n",
    "long.head()"
   ]
  },
  {
   "cell_type": "code",
   "execution_count": 99,
   "metadata": {},
   "outputs": [
    {
     "data": {
      "text/html": [
       "<div>\n",
       "<style>\n",
       "    .dataframe thead tr:only-child th {\n",
       "        text-align: right;\n",
       "    }\n",
       "\n",
       "    .dataframe thead th {\n",
       "        text-align: left;\n",
       "    }\n",
       "\n",
       "    .dataframe tbody tr th {\n",
       "        vertical-align: top;\n",
       "    }\n",
       "</style>\n",
       "<table border=\"1\" class=\"dataframe\">\n",
       "  <thead>\n",
       "    <tr style=\"text-align: right;\">\n",
       "      <th></th>\n",
       "      <th>num_investment</th>\n",
       "      <th>num_relationships</th>\n",
       "      <th>num_milestones</th>\n",
       "      <th>logo_height</th>\n",
       "      <th>logo_width</th>\n",
       "      <th>closed_No</th>\n",
       "      <th>closed_Yes</th>\n",
       "      <th>status_acquired</th>\n",
       "      <th>status_closed</th>\n",
       "      <th>status_ipo</th>\n",
       "      <th>...</th>\n",
       "      <th>last_name_paunikar</th>\n",
       "      <th>last_name_raj</th>\n",
       "      <th>last_name_rokade</th>\n",
       "      <th>last_name_seo</th>\n",
       "      <th>last_name_sk</th>\n",
       "      <th>last_name_termini</th>\n",
       "      <th>last_name_van Apeldoorn</th>\n",
       "      <th>last_name_van Loo</th>\n",
       "      <th>last_name_van der Chijs</th>\n",
       "      <th>last_name_von Wallenstein</th>\n",
       "    </tr>\n",
       "  </thead>\n",
       "  <tbody>\n",
       "    <tr>\n",
       "      <th>7</th>\n",
       "      <td>3.0</td>\n",
       "      <td>3.0</td>\n",
       "      <td>4.0</td>\n",
       "      <td>120.0</td>\n",
       "      <td>120.0</td>\n",
       "      <td>1</td>\n",
       "      <td>0</td>\n",
       "      <td>0</td>\n",
       "      <td>0</td>\n",
       "      <td>0</td>\n",
       "      <td>...</td>\n",
       "      <td>0</td>\n",
       "      <td>0</td>\n",
       "      <td>0</td>\n",
       "      <td>0</td>\n",
       "      <td>0</td>\n",
       "      <td>0</td>\n",
       "      <td>0</td>\n",
       "      <td>0</td>\n",
       "      <td>0</td>\n",
       "      <td>0</td>\n",
       "    </tr>\n",
       "    <tr>\n",
       "      <th>8</th>\n",
       "      <td>0.0</td>\n",
       "      <td>2.0</td>\n",
       "      <td>0.0</td>\n",
       "      <td>89.0</td>\n",
       "      <td>250.0</td>\n",
       "      <td>1</td>\n",
       "      <td>0</td>\n",
       "      <td>0</td>\n",
       "      <td>0</td>\n",
       "      <td>0</td>\n",
       "      <td>...</td>\n",
       "      <td>0</td>\n",
       "      <td>0</td>\n",
       "      <td>0</td>\n",
       "      <td>0</td>\n",
       "      <td>0</td>\n",
       "      <td>0</td>\n",
       "      <td>0</td>\n",
       "      <td>0</td>\n",
       "      <td>0</td>\n",
       "      <td>0</td>\n",
       "    </tr>\n",
       "    <tr>\n",
       "      <th>11</th>\n",
       "      <td>0.0</td>\n",
       "      <td>45.0</td>\n",
       "      <td>3.0</td>\n",
       "      <td>165.0</td>\n",
       "      <td>650.0</td>\n",
       "      <td>1</td>\n",
       "      <td>0</td>\n",
       "      <td>1</td>\n",
       "      <td>0</td>\n",
       "      <td>0</td>\n",
       "      <td>...</td>\n",
       "      <td>0</td>\n",
       "      <td>0</td>\n",
       "      <td>0</td>\n",
       "      <td>0</td>\n",
       "      <td>0</td>\n",
       "      <td>0</td>\n",
       "      <td>0</td>\n",
       "      <td>0</td>\n",
       "      <td>0</td>\n",
       "      <td>0</td>\n",
       "    </tr>\n",
       "    <tr>\n",
       "      <th>18</th>\n",
       "      <td>0.0</td>\n",
       "      <td>1.0</td>\n",
       "      <td>1.0</td>\n",
       "      <td>67.0</td>\n",
       "      <td>250.0</td>\n",
       "      <td>0</td>\n",
       "      <td>1</td>\n",
       "      <td>0</td>\n",
       "      <td>1</td>\n",
       "      <td>0</td>\n",
       "      <td>...</td>\n",
       "      <td>0</td>\n",
       "      <td>0</td>\n",
       "      <td>0</td>\n",
       "      <td>0</td>\n",
       "      <td>0</td>\n",
       "      <td>0</td>\n",
       "      <td>0</td>\n",
       "      <td>0</td>\n",
       "      <td>0</td>\n",
       "      <td>0</td>\n",
       "    </tr>\n",
       "    <tr>\n",
       "      <th>22</th>\n",
       "      <td>21.0</td>\n",
       "      <td>23.0</td>\n",
       "      <td>3.0</td>\n",
       "      <td>59.0</td>\n",
       "      <td>86.0</td>\n",
       "      <td>1</td>\n",
       "      <td>0</td>\n",
       "      <td>0</td>\n",
       "      <td>0</td>\n",
       "      <td>0</td>\n",
       "      <td>...</td>\n",
       "      <td>0</td>\n",
       "      <td>0</td>\n",
       "      <td>0</td>\n",
       "      <td>0</td>\n",
       "      <td>0</td>\n",
       "      <td>0</td>\n",
       "      <td>0</td>\n",
       "      <td>0</td>\n",
       "      <td>0</td>\n",
       "      <td>0</td>\n",
       "    </tr>\n",
       "  </tbody>\n",
       "</table>\n",
       "<p>5 rows × 10348 columns</p>\n",
       "</div>"
      ],
      "text/plain": [
       "    num_investment  num_relationships  num_milestones  logo_height  \\\n",
       "7              3.0                3.0             4.0        120.0   \n",
       "8              0.0                2.0             0.0         89.0   \n",
       "11             0.0               45.0             3.0        165.0   \n",
       "18             0.0                1.0             1.0         67.0   \n",
       "22            21.0               23.0             3.0         59.0   \n",
       "\n",
       "    logo_width  closed_No  closed_Yes  status_acquired  status_closed  \\\n",
       "7        120.0          1           0                0              0   \n",
       "8        250.0          1           0                0              0   \n",
       "11       650.0          1           0                1              0   \n",
       "18       250.0          0           1                0              1   \n",
       "22        86.0          1           0                0              0   \n",
       "\n",
       "    status_ipo            ...              last_name_paunikar  last_name_raj  \\\n",
       "7            0            ...                               0              0   \n",
       "8            0            ...                               0              0   \n",
       "11           0            ...                               0              0   \n",
       "18           0            ...                               0              0   \n",
       "22           0            ...                               0              0   \n",
       "\n",
       "    last_name_rokade  last_name_seo  last_name_sk  last_name_termini  \\\n",
       "7                  0              0             0                  0   \n",
       "8                  0              0             0                  0   \n",
       "11                 0              0             0                  0   \n",
       "18                 0              0             0                  0   \n",
       "22                 0              0             0                  0   \n",
       "\n",
       "    last_name_van Apeldoorn  last_name_van Loo  last_name_van der Chijs  \\\n",
       "7                         0                  0                        0   \n",
       "8                         0                  0                        0   \n",
       "11                        0                  0                        0   \n",
       "18                        0                  0                        0   \n",
       "22                        0                  0                        0   \n",
       "\n",
       "    last_name_von Wallenstein  \n",
       "7                           0  \n",
       "8                           0  \n",
       "11                          0  \n",
       "18                          0  \n",
       "22                          0  \n",
       "\n",
       "[5 rows x 10348 columns]"
      ]
     },
     "execution_count": 99,
     "metadata": {},
     "output_type": "execute_result"
    }
   ],
   "source": [
    "l = pd.get_dummies(long)\n",
    "l.head()"
   ]
  },
  {
   "cell_type": "code",
   "execution_count": 100,
   "metadata": {},
   "outputs": [
    {
     "data": {
      "text/html": [
       "<div>\n",
       "<style>\n",
       "    .dataframe thead tr:only-child th {\n",
       "        text-align: right;\n",
       "    }\n",
       "\n",
       "    .dataframe thead th {\n",
       "        text-align: left;\n",
       "    }\n",
       "\n",
       "    .dataframe tbody tr th {\n",
       "        vertical-align: top;\n",
       "    }\n",
       "</style>\n",
       "<table border=\"1\" class=\"dataframe\">\n",
       "  <thead>\n",
       "    <tr style=\"text-align: right;\">\n",
       "      <th></th>\n",
       "      <th>category_code</th>\n",
       "      <th>had_funding</th>\n",
       "      <th>num_investment</th>\n",
       "      <th>num_relationships</th>\n",
       "      <th>num_milestones</th>\n",
       "      <th>logo_height</th>\n",
       "      <th>logo_width</th>\n",
       "      <th>region</th>\n",
       "      <th>degree_type</th>\n",
       "      <th>institution</th>\n",
       "      <th>subject</th>\n",
       "      <th>birthplace</th>\n",
       "      <th>first_name</th>\n",
       "      <th>last_name</th>\n",
       "    </tr>\n",
       "  </thead>\n",
       "  <tbody>\n",
       "    <tr>\n",
       "      <th>7</th>\n",
       "      <td>finance</td>\n",
       "      <td>No</td>\n",
       "      <td>3.0</td>\n",
       "      <td>3.0</td>\n",
       "      <td>4.0</td>\n",
       "      <td>120.0</td>\n",
       "      <td>120.0</td>\n",
       "      <td>Columbus</td>\n",
       "      <td>BBA</td>\n",
       "      <td>Ohio State University</td>\n",
       "      <td>Entrepreneurship, Marketing</td>\n",
       "      <td>Ohio</td>\n",
       "      <td>Eric</td>\n",
       "      <td>Corl</td>\n",
       "    </tr>\n",
       "    <tr>\n",
       "      <th>8</th>\n",
       "      <td>games_video</td>\n",
       "      <td>Yes</td>\n",
       "      <td>0.0</td>\n",
       "      <td>2.0</td>\n",
       "      <td>0.0</td>\n",
       "      <td>89.0</td>\n",
       "      <td>250.0</td>\n",
       "      <td>Paris</td>\n",
       "      <td>MS</td>\n",
       "      <td>EPITECH</td>\n",
       "      <td>computer sciences and technologies</td>\n",
       "      <td>France</td>\n",
       "      <td>Nassim</td>\n",
       "      <td>Ghandour</td>\n",
       "    </tr>\n",
       "    <tr>\n",
       "      <th>11</th>\n",
       "      <td>mobile</td>\n",
       "      <td>Yes</td>\n",
       "      <td>0.0</td>\n",
       "      <td>45.0</td>\n",
       "      <td>3.0</td>\n",
       "      <td>165.0</td>\n",
       "      <td>650.0</td>\n",
       "      <td>Boston</td>\n",
       "      <td>BA</td>\n",
       "      <td>American University</td>\n",
       "      <td>Economics</td>\n",
       "      <td>St. Petersburg, Russia</td>\n",
       "      <td>Veronika</td>\n",
       "      <td>Sonsev</td>\n",
       "    </tr>\n",
       "    <tr>\n",
       "      <th>18</th>\n",
       "      <td>web</td>\n",
       "      <td>Yes</td>\n",
       "      <td>0.0</td>\n",
       "      <td>1.0</td>\n",
       "      <td>1.0</td>\n",
       "      <td>67.0</td>\n",
       "      <td>250.0</td>\n",
       "      <td>SF Bay</td>\n",
       "      <td>MS</td>\n",
       "      <td>Supelec</td>\n",
       "      <td>Electrical Engineering</td>\n",
       "      <td>Paris, France</td>\n",
       "      <td>Alain</td>\n",
       "      <td>Raynaud</td>\n",
       "    </tr>\n",
       "    <tr>\n",
       "      <th>22</th>\n",
       "      <td>public_relations</td>\n",
       "      <td>No</td>\n",
       "      <td>21.0</td>\n",
       "      <td>23.0</td>\n",
       "      <td>3.0</td>\n",
       "      <td>59.0</td>\n",
       "      <td>86.0</td>\n",
       "      <td>New York</td>\n",
       "      <td>Degree</td>\n",
       "      <td>University of Kentucky</td>\n",
       "      <td>Degree</td>\n",
       "      <td>Kentucky</td>\n",
       "      <td>Jack</td>\n",
       "      <td>Smith</td>\n",
       "    </tr>\n",
       "  </tbody>\n",
       "</table>\n",
       "</div>"
      ],
      "text/plain": [
       "       category_code had_funding  num_investment  num_relationships  \\\n",
       "7            finance          No             3.0                3.0   \n",
       "8        games_video         Yes             0.0                2.0   \n",
       "11            mobile         Yes             0.0               45.0   \n",
       "18               web         Yes             0.0                1.0   \n",
       "22  public_relations          No            21.0               23.0   \n",
       "\n",
       "    num_milestones  logo_height  logo_width    region degree_type  \\\n",
       "7              4.0        120.0       120.0  Columbus         BBA   \n",
       "8              0.0         89.0       250.0     Paris          MS   \n",
       "11             3.0        165.0       650.0    Boston          BA   \n",
       "18             1.0         67.0       250.0    SF Bay          MS   \n",
       "22             3.0         59.0        86.0  New York      Degree   \n",
       "\n",
       "               institution                             subject  \\\n",
       "7    Ohio State University         Entrepreneurship, Marketing   \n",
       "8                  EPITECH  computer sciences and technologies   \n",
       "11     American University                           Economics   \n",
       "18                 Supelec              Electrical Engineering   \n",
       "22  University of Kentucky                              Degree   \n",
       "\n",
       "                birthplace first_name last_name  \n",
       "7                     Ohio       Eric      Corl  \n",
       "8                   France     Nassim  Ghandour  \n",
       "11  St. Petersburg, Russia   Veronika    Sonsev  \n",
       "18           Paris, France      Alain   Raynaud  \n",
       "22                Kentucky       Jack     Smith  "
      ]
     },
     "execution_count": 100,
     "metadata": {},
     "output_type": "execute_result"
    }
   ],
   "source": [
    "long_preds, long_closed, long_status = seperate_preds_response(long, ['closed', 'status'], 3)\n",
    "long_preds.head()"
   ]
  },
  {
   "cell_type": "code",
   "execution_count": null,
   "metadata": {
    "collapsed": true
   },
   "outputs": [],
   "source": [
    "long_preds = pd.get_dummies(long_preds)\n",
    "long_preds.head()"
   ]
  },
  {
   "cell_type": "code",
   "execution_count": null,
   "metadata": {
    "collapsed": true
   },
   "outputs": [],
   "source": [
    "num_preds = np.arange(2, np.ceil(np.sqrt(long_preds.shape[1])) + 1, step = ).astype(int)"
   ]
  },
  {
   "cell_type": "code",
   "execution_count": null,
   "metadata": {
    "collapsed": true
   },
   "outputs": [],
   "source": [
    "params = {'max_features':  num_preds, 'n_estimators': n_ests}\n",
    "rcf_long = RandomForestClassifier(random_state = 100,\n",
    "                             class_weight = 'balanced')\n",
    "cv_rcf_long = GridSearchCV(rcf_long, params, cv = 5, scoring = 'accuracy',\n",
    "                      return_train_score = False)\n",
    "\n",
    "cv_rcf_long.fit(long_preds, long_status)"
   ]
  },
  {
   "cell_type": "code",
   "execution_count": null,
   "metadata": {
    "collapsed": true
   },
   "outputs": [],
   "source": [
    "scores = [x[1] for x in cv_rcf_long.grid_scores_]\n",
    "scores = pd.DataFrame(cv_rcf_long.cv_results_)\n",
    "scores"
   ]
  }
 ],
 "metadata": {
  "kernelspec": {
   "display_name": "Python 3",
   "language": "python",
   "name": "python3"
  },
  "language_info": {
   "codemirror_mode": {
    "name": "ipython",
    "version": 3
   },
   "file_extension": ".py",
   "mimetype": "text/x-python",
   "name": "python",
   "nbconvert_exporter": "python",
   "pygments_lexer": "ipython3",
   "version": "3.6.1"
  }
 },
 "nbformat": 4,
 "nbformat_minor": 2
}
