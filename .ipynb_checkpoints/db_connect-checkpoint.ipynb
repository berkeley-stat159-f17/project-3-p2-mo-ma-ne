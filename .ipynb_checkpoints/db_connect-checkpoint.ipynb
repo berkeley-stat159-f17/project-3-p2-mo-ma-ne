{
 "cells": [
  {
   "cell_type": "code",
   "execution_count": 5,
   "metadata": {},
   "outputs": [],
   "source": [
    "import MySQLdb"
   ]
  },
  {
   "cell_type": "code",
   "execution_count": 6,
   "metadata": {
    "collapsed": true
   },
   "outputs": [],
   "source": [
    "# variables for database connection\n",
    "dsn_database = \"p3\"   \n",
    "dsn_uid = \"root\"             \n",
    "dsn_pwd = \"\"            "
   ]
  },
  {
   "cell_type": "code",
   "execution_count": 7,
   "metadata": {
    "collapsed": true
   },
   "outputs": [],
   "source": [
    "# connect to database\n",
    "conn = MySQLdb.connect(user=dsn_uid, passwd=dsn_pwd, db=dsn_database)"
   ]
  },
  {
   "cell_type": "code",
   "execution_count": 9,
   "metadata": {},
   "outputs": [
    {
     "name": "stdout",
     "output_type": "stream",
     "text": [
      "(1, 1, 'c:11', 'c:10', None, Decimal('20000000'), 'USD', datetime.date(2007, 5, 30), 'http://venturebeat.com/2007/05/30/fox-interactive-confirms-purchase-of-photobucket-and-flektor/', 'Fox Interactive confirms purchase of Photobucket and Flektor', datetime.datetime(2007, 5, 31, 22, 19, 54), datetime.datetime(2008, 5, 21, 19, 23, 44))\n"
     ]
    }
   ],
   "source": [
    "# make sure connection worked\n",
    "cursor=conn.cursor()\n",
    "cursor.execute(\"\"\"SELECT * FROM cb_acquisitions\"\"\")\n",
    "one = cursor.fetchone()\n",
    "print(one)"
   ]
  },
  {
   "cell_type": "code",
   "execution_count": null,
   "metadata": {
    "collapsed": true
   },
   "outputs": [],
   "source": [
    "# close connection\n",
    "conn.close()"
   ]
  }
 ],
 "metadata": {
  "kernelspec": {
   "display_name": "Python 3",
   "language": "python",
   "name": "python3"
  },
  "language_info": {
   "codemirror_mode": {
    "name": "ipython",
    "version": 3
   },
   "file_extension": ".py",
   "mimetype": "text/x-python",
   "name": "python",
   "nbconvert_exporter": "python",
   "pygments_lexer": "ipython3",
   "version": "3.6.1"
  }
 },
 "nbformat": 4,
 "nbformat_minor": 2
}
