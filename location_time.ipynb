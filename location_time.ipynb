{
 "cells": [
  {
   "cell_type": "markdown",
   "metadata": {},
   "source": [
    "# Explore the effects of office location and year founded"
   ]
  },
  {
   "cell_type": "code",
   "execution_count": 1,
   "metadata": {
    "collapsed": false
   },
   "outputs": [
    {
     "ename": "ModuleNotFoundError",
     "evalue": "No module named 'modules_mitch'",
     "output_type": "error",
     "traceback": [
      "\u001b[0;31m---------------------------------------------------------------------------\u001b[0m",
      "\u001b[0;31mModuleNotFoundError\u001b[0m                       Traceback (most recent call last)",
      "\u001b[0;32m<ipython-input-1-522834e78231>\u001b[0m in \u001b[0;36m<module>\u001b[0;34m()\u001b[0m\n\u001b[0;32m----> 1\u001b[0;31m \u001b[0;32mfrom\u001b[0m \u001b[0mmodules_mitch\u001b[0m \u001b[0;32mimport\u001b[0m \u001b[0;34m*\u001b[0m\u001b[0;34m\u001b[0m\u001b[0m\n\u001b[0m",
      "\u001b[0;31mModuleNotFoundError\u001b[0m: No module named 'modules_mitch'"
     ]
    }
   ],
   "source": [
    "from modules_mitch import *"
   ]
  },
  {
   "cell_type": "code",
   "execution_count": null,
   "metadata": {
    "collapsed": true
   },
   "outputs": [],
   "source": [
    "%matplotlib inline\n",
    "import matplotlib.pyplot as plt\n",
    "import seaborn as sns\n",
    "import numpy as np\n",
    "import pandas as pd\n",
    "\n",
    "plt.style.use('seaborn-dark')\n",
    "plt.rcParams['figure.figsize'] = (10, 6)"
   ]
  },
  {
   "cell_type": "code",
   "execution_count": null,
   "metadata": {
    "collapsed": false
   },
   "outputs": [],
   "source": [
    "# connect to mysql db, read cb_offices table as dataframe, disconnect\n",
    "conn = dbConnect()\n",
    "offices = dbTableToDataFrame(conn, 'cb_offices')\n",
    "ipos = dbTableToDataFrame(conn, 'cb_ipos')\n",
    "conn.close()"
   ]
  },
  {
   "cell_type": "markdown",
   "metadata": {},
   "source": [
    "#### Look at offices and ipos dataframes & merge them"
   ]
  },
  {
   "cell_type": "code",
   "execution_count": null,
   "metadata": {
    "collapsed": false
   },
   "outputs": [],
   "source": [
    "offices.head()"
   ]
  },
  {
   "cell_type": "code",
   "execution_count": null,
   "metadata": {
    "collapsed": false
   },
   "outputs": [],
   "source": [
    "ipos.head()"
   ]
  },
  {
   "cell_type": "code",
   "execution_count": null,
   "metadata": {
    "collapsed": true
   },
   "outputs": [],
   "source": [
    "offices_ipos = pd.merge(offices, ipos, on='object_id')"
   ]
  },
  {
   "cell_type": "code",
   "execution_count": null,
   "metadata": {
    "collapsed": false
   },
   "outputs": [],
   "source": [
    "offices_ipos.head()"
   ]
  },
  {
   "cell_type": "markdown",
   "metadata": {},
   "source": [
    "### Look at distribution of valuation amounts where provided"
   ]
  },
  {
   "cell_type": "markdown",
   "metadata": {},
   "source": [
    "The valuations are all 0.2e11 or less except for 3 that are 1e11+."
   ]
  },
  {
   "cell_type": "code",
   "execution_count": null,
   "metadata": {
    "collapsed": false
   },
   "outputs": [],
   "source": [
    "# plot valuation distribution; include number of companies considering\n",
    "val = pd.to_numeric(offices_ipos[~offices_ipos.valuation_amount.isnull()].valuation_amount)\n",
    "a=sns.distplot(val, rug=True);\n",
    "a.set_title('valuation distribution (N = ' + str(len(val)) + ')');"
   ]
  },
  {
   "cell_type": "markdown",
   "metadata": {},
   "source": [
    "We look at these 3 outliers and see that one is simply because the valuation amount is in JPY (currently 1 JPY = 0.0088 USD). The other two are Facebook and Amazon, which we know to be companies with very high valuationos. We will look at those with valuation_currency_code 'USD' moving forward."
   ]
  },
  {
   "cell_type": "code",
   "execution_count": null,
   "metadata": {
    "collapsed": false
   },
   "outputs": [],
   "source": [
    "offices_ipos[pd.to_numeric(offices_ipos.valuation_amount) > 0.8e11]"
   ]
  },
  {
   "cell_type": "markdown",
   "metadata": {},
   "source": [
    "### Look at valuation amount by region"
   ]
  },
  {
   "cell_type": "markdown",
   "metadata": {},
   "source": [
    "We want to determine the effect of location on IPO valuation. In particular, consider the median valuation and number of IPOs by region."
   ]
  },
  {
   "cell_type": "code",
   "execution_count": null,
   "metadata": {
    "collapsed": false
   },
   "outputs": [],
   "source": [
    "# look distribution of valuation amounts\n",
    "offices_ipos_us = offices_ipos[offices_ipos.valuation_currency_code == 'USD']\n",
    "val_us = pd.to_numeric(offices_ipos_us[~offices_ipos_us.valuation_amount.isnull()].valuation_amount)\n",
    "region = offices_ipos_us[~offices_ipos_us.valuation_amount.isnull()].region\n",
    "df_region_val = pd.concat([region, val], axis=1)\n",
    "df_region_val.describe()\n",
    "\n",
    "# look at valuation by region\n",
    "#a=sns.boxplot(df_region_val.region, df_region_val.valuation_amount)\n",
    "#a.set_ylabel('valuation amount')\n",
    "#a.set_title('valuation by region')\n",
    "#a.set_xticklabels(labels=df_region_val.region, rotation=90);"
   ]
  },
  {
   "cell_type": "code",
   "execution_count": null,
   "metadata": {
    "collapsed": true
   },
   "outputs": [],
   "source": [
    "# perform calculations on a per region basis\n",
    "reg = df_region_val.groupby(['region'])"
   ]
  },
  {
   "cell_type": "code",
   "execution_count": null,
   "metadata": {
    "collapsed": false
   },
   "outputs": [],
   "source": [
    "# median ipo valuation by region\n",
    "ave = reg.median()\n",
    "ave.sort_values(by='valuation_amount', ascending=False)[0:4]"
   ]
  },
  {
   "cell_type": "markdown",
   "metadata": {},
   "source": [
    "SF Bay has the most IPOs with NY, London, and Seattle following. "
   ]
  },
  {
   "cell_type": "code",
   "execution_count": null,
   "metadata": {
    "collapsed": false
   },
   "outputs": [],
   "source": [
    "# sort regions by number of ipos (that had valutation amount) \n",
    "num = reg.count()\n",
    "num.sort_values(by='valuation_amount', ascending=False)[0:10]"
   ]
  },
  {
   "cell_type": "markdown",
   "metadata": {},
   "source": [
    "### Analysis of number of IPOs over time"
   ]
  },
  {
   "cell_type": "markdown",
   "metadata": {},
   "source": [
    "In addition to looking at the value and region of companies that IPO we also look at historical trends in terms of the number of IPOs over time."
   ]
  },
  {
   "cell_type": "code",
   "execution_count": null,
   "metadata": {
    "collapsed": true
   },
   "outputs": [],
   "source": [
    "# plot number of ipos by year with different color for each region\n",
    "# now don't filter to ones with valuation amount only\n",
    "dt = pd.to_datetime(offices_ipos.public_at)\n",
    "valAll = pd.to_numeric(offices_ipos.valuation_amount)\n",
    "regionAll = offices_ipos.region"
   ]
  },
  {
   "cell_type": "code",
   "execution_count": null,
   "metadata": {
    "collapsed": true
   },
   "outputs": [],
   "source": [
    "df_region_dt = pd.concat([regionAll, dt], axis=1)\n",
    "time = df_region_dt.groupby([dt.dt.year])"
   ]
  },
  {
   "cell_type": "code",
   "execution_count": null,
   "metadata": {
    "collapsed": false
   },
   "outputs": [],
   "source": [
    "# top counts by year\n",
    "num = time.count()\n",
    "num.sort_values(by='public_at', ascending=False).head(10)"
   ]
  },
  {
   "cell_type": "code",
   "execution_count": null,
   "metadata": {
    "collapsed": false
   },
   "outputs": [],
   "source": [
    "# barplot showing number of ipos by year\n",
    "a=sns.barplot(num.public_at.index, num.public_at)\n",
    "a.set_ylabel('number of ipos')\n",
    "a.set_xlabel('year')\n",
    "a.set_title('number of ipos by year');\n",
    "a.set_xticklabels(labels=num.public_at.index, rotation=90);"
   ]
  },
  {
   "cell_type": "markdown",
   "metadata": {},
   "source": [
    "### Incorporate cb_ojects into analysis"
   ]
  },
  {
   "cell_type": "markdown",
   "metadata": {},
   "source": [
    "While we had been considering valuation amount from the IPOs data, we ultimately decided to instead consider funding_total_usd for the below analysis because it is a much richer dataset. We have N=27,874 instead of N=167."
   ]
  },
  {
   "cell_type": "code",
   "execution_count": null,
   "metadata": {
    "collapsed": true
   },
   "outputs": [],
   "source": [
    "conn = dbConnect()\n",
    "objs = dbTableToDataFrame(conn, 'cb_objects')\n",
    "conn.close()"
   ]
  },
  {
   "cell_type": "code",
   "execution_count": null,
   "metadata": {
    "collapsed": false
   },
   "outputs": [],
   "source": [
    "objs.head()"
   ]
  },
  {
   "cell_type": "code",
   "execution_count": null,
   "metadata": {
    "collapsed": false
   },
   "outputs": [],
   "source": [
    "objs.columns"
   ]
  },
  {
   "cell_type": "code",
   "execution_count": null,
   "metadata": {
    "collapsed": false
   },
   "outputs": [],
   "source": [
    "objs.shape"
   ]
  },
  {
   "cell_type": "code",
   "execution_count": null,
   "metadata": {
    "collapsed": false
   },
   "outputs": [],
   "source": [
    "len(objs.funding_total_usd[~objs.funding_total_usd.isnull()])"
   ]
  },
  {
   "cell_type": "code",
   "execution_count": null,
   "metadata": {
    "collapsed": false
   },
   "outputs": [],
   "source": [
    "# plot mean funding_total_usd by state\n",
    "objs_sorted = objs[~objs.funding_total_usd.isnull()].sort_values(by='funding_total_usd', ascending=False)\n",
    "a=sns.barplot(objs_sorted['state_code'], pd.to_numeric(objs_sorted['funding_total_usd']), ci=False);\n",
    "a.set_xticklabels(objs_sorted['state_code'], rotation=90);"
   ]
  },
  {
   "cell_type": "code",
   "execution_count": null,
   "metadata": {
    "collapsed": false
   },
   "outputs": [],
   "source": [
    "# plot mean funding_total_usd by country\n",
    "objs_sorted = objs[~objs.funding_total_usd.isnull()].sort_values(by='funding_total_usd', ascending=False)\n",
    "a=sns.barplot(objs_sorted['country_code'], pd.to_numeric(objs_sorted['funding_total_usd']), ci=False);\n",
    "a.set_xticklabels(objs_sorted['country_code'], rotation=90);"
   ]
  },
  {
   "cell_type": "code",
   "execution_count": null,
   "metadata": {
    "collapsed": true
   },
   "outputs": [],
   "source": [
    "# group by date founded to do analysis on the emergence of new companies over time\n",
    "dt = pd.to_datetime(objs.founded_at)\n",
    "df_fund_dt = pd.concat([objs.funding_total_usd, dt], axis=1)\n",
    "founded = df_fund_dt.groupby([dt.dt.year])"
   ]
  },
  {
   "cell_type": "code",
   "execution_count": null,
   "metadata": {
    "collapsed": false
   },
   "outputs": [],
   "source": [
    "# top counts by year\n",
    "num_found = founded.count()\n",
    "num_found.sort_values(by='founded_at', ascending=False)['founded_at'].head(10)"
   ]
  },
  {
   "cell_type": "code",
   "execution_count": null,
   "metadata": {
    "collapsed": false
   },
   "outputs": [],
   "source": [
    "# plot number of new companies by year\n",
    "a=sns.barplot(num_found.founded_at.index, num_found.founded_at)\n",
    "a.set_ylabel('number of new companies')\n",
    "a.set_xlabel('year')\n",
    "a.set_title('number of new companies by year');\n",
    "a.set_xticklabels(labels=num_found.founded_at.index, rotation=90);"
   ]
  },
  {
   "cell_type": "code",
   "execution_count": null,
   "metadata": {
    "collapsed": true
   },
   "outputs": [],
   "source": [
    "# company lifespan: closed_at - founded_at\n",
    "start = pd.to_datetime(objs.founded_at)\n",
    "end = pd.to_datetime(objs.closed_at)\n",
    "life = end.dt.year - start.dt.year"
   ]
  },
  {
   "cell_type": "code",
   "execution_count": null,
   "metadata": {
    "collapsed": false
   },
   "outputs": [],
   "source": [
    "a=sns.distplot(life[~life.isnull()]);\n",
    "a.set_xlim(-5, 50);"
   ]
  },
  {
   "cell_type": "code",
   "execution_count": null,
   "metadata": {
    "collapsed": false
   },
   "outputs": [],
   "source": [
    "# there are 27 with a life < 0 showing data entry for this data set was flawed. \n",
    "life[life < 0].describe()"
   ]
  },
  {
   "cell_type": "code",
   "execution_count": null,
   "metadata": {
    "collapsed": false
   },
   "outputs": [],
   "source": [
    "# consider those with positive life\n",
    "life_pos = life[life>0]\n",
    "life_pos[~life_pos.isnull()].describe()"
   ]
  },
  {
   "cell_type": "code",
   "execution_count": null,
   "metadata": {
    "collapsed": false
   },
   "outputs": [],
   "source": [
    "# see whether companies tend to have longer of shorter lifespans based on when they were founded\n",
    "a=sns.barplot(start[~life.isnull()].dt.year, life[~life.isnull()], ci=None);\n",
    "a.set_xticklabels(start[~life.isnull()].dt.year, rotation=90);"
   ]
  },
  {
   "cell_type": "code",
   "execution_count": null,
   "metadata": {
    "collapsed": false
   },
   "outputs": [],
   "source": [
    "# see whether companies tend to have longer or shorter lifespans based on region\n",
    "a=sns.barplot(objs.state_code[~objs.state_code.isnull()], life[~objs.state_code.isnull()], ci=None);\n",
    "a.set_xticklabels(objs.state_code[~objs.state_code.isnull()], rotation=90);"
   ]
  },
  {
   "cell_type": "code",
   "execution_count": null,
   "metadata": {
    "collapsed": true
   },
   "outputs": [],
   "source": []
  }
 ],
 "metadata": {
  "kernelspec": {
   "display_name": "Python 3",
   "language": "python",
   "name": "python3"
  },
  "language_info": {
   "codemirror_mode": {
    "name": "ipython",
    "version": 3
   },
   "file_extension": ".py",
   "mimetype": "text/x-python",
   "name": "python",
   "nbconvert_exporter": "python",
   "pygments_lexer": "ipython3",
   "version": "3.6.0"
  }
 },
 "nbformat": 4,
 "nbformat_minor": 2
}
