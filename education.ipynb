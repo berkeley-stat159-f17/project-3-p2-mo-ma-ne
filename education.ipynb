{
 "cells": [
  {
   "cell_type": "code",
   "execution_count": 1,
   "metadata": {
    "collapsed": true
   },
   "outputs": [],
   "source": [
    "import MySQLdb\n",
    "import seaborn as sns\n",
    "import pandas as pd\n",
    "import numpy as np\n",
    "from matplotlib import pyplot as plt\n",
    "from IPython.display import display"
   ]
  },
  {
   "cell_type": "code",
   "execution_count": 2,
   "metadata": {
    "collapsed": true
   },
   "outputs": [],
   "source": [
    "%matplotlib inline"
   ]
  },
  {
   "cell_type": "code",
   "execution_count": 3,
   "metadata": {
    "collapsed": false
   },
   "outputs": [
    {
     "name": "stdout",
     "output_type": "stream",
     "text": [
      "\u001b[31mcb_acquisitions.sql\u001b[m\u001b[m   \u001b[31mcb_investments.sql\u001b[m\u001b[m    \u001b[31mcb_offices.sql\u001b[m\u001b[m\r\n",
      "\u001b[31mcb_degrees.sql\u001b[m\u001b[m        \u001b[31mcb_ipos.sql\u001b[m\u001b[m           \u001b[31mcb_people.sql\u001b[m\u001b[m\r\n",
      "\u001b[31mcb_funding_rounds.sql\u001b[m\u001b[m \u001b[31mcb_milestones.sql\u001b[m\u001b[m     \u001b[31mcb_relationships.sql\u001b[m\u001b[m\r\n",
      "\u001b[31mcb_funds.sql\u001b[m\u001b[m          \u001b[31mcb_objects.sql\u001b[m\u001b[m        \u001b[31mlicense.txt\u001b[m\u001b[m\r\n"
     ]
    }
   ],
   "source": [
    "!ls data/data"
   ]
  },
  {
   "cell_type": "code",
   "execution_count": 4,
   "metadata": {
    "collapsed": true
   },
   "outputs": [],
   "source": [
    "# variables for database connection\n",
    "dsn_database = \"p3\"   \n",
    "dsn_uid = \"root\"             \n",
    "dsn_pswd = \"I prefer prequels\"            "
   ]
  },
  {
   "cell_type": "code",
   "execution_count": 5,
   "metadata": {
    "collapsed": false
   },
   "outputs": [],
   "source": [
    "def db_connect(dsn_uid,dsn_pswd,dsn_database):\n",
    "    # connect to database\n",
    "    conn = MySQLdb.connect(user=dsn_uid, passwd=dsn_pswd, db=dsn_database)\n",
    "    cursor=conn.cursor()\n",
    "    return conn,cursor"
   ]
  },
  {
   "cell_type": "code",
   "execution_count": 6,
   "metadata": {
    "collapsed": false
   },
   "outputs": [],
   "source": [
    "def db_read(connection,table):\n",
    "    conn,cursor = connection\n",
    "    with conn as cursor:\n",
    "        cursor.execute('SELECT * FROM {}'.format(table))\n",
    "        fields = [item[0] for item in cursor.description]\n",
    "        result = []\n",
    "        columns = tuple( [item[0] for item in cursor.description] )\n",
    "        for row in cursor:\n",
    "            result.append(dict(zip(columns, row)))\n",
    "        result_df = pd.DataFrame(result)\n",
    "    return result_df"
   ]
  },
  {
   "cell_type": "code",
   "execution_count": 7,
   "metadata": {
    "collapsed": false
   },
   "outputs": [
    {
     "name": "stderr",
     "output_type": "stream",
     "text": [
      "/Users/mitch/anaconda/lib/python3.6/site-packages/ipykernel/__main__.py:3: DeprecationWarning: context interface will be changed.  Use explicit conn.commit() or conn.rollback().\n",
      "  app.launch_new_instance()\n"
     ]
    }
   ],
   "source": [
    "connection = db_connect(dsn_uid,dsn_pswd,dsn_database)\n",
    "people = db_read(connection,'cb_people')\n",
    "degrees = db_read(connection,'cb_degrees')\n",
    "funding_rounds = db_read(connection,'cb_funding_rounds')\n",
    "objects = db_read(connection,'cb_objects')"
   ]
  },
  {
   "cell_type": "code",
   "execution_count": 8,
   "metadata": {
    "collapsed": false
   },
   "outputs": [
    {
     "name": "stdout",
     "output_type": "stream",
     "text": [
      "Index(['category_code', 'city', 'closed_at', 'country_code', 'created_at',\n",
      "       'created_by', 'description', 'domain', 'entity_id', 'entity_type',\n",
      "       'first_funding_at', 'first_investment_at', 'first_milestone_at',\n",
      "       'founded_at', 'funding_rounds', 'funding_total_usd', 'homepage_url',\n",
      "       'id', 'invested_companies', 'investment_rounds', 'last_funding_at',\n",
      "       'last_investment_at', 'last_milestone_at', 'logo_height', 'logo_url',\n",
      "       'logo_width', 'milestones', 'name', 'normalized_name', 'overview',\n",
      "       'parent_id', 'permalink', 'region', 'relationships',\n",
      "       'short_description', 'state_code', 'status', 'tag_list',\n",
      "       'twitter_username', 'updated_at'],\n",
      "      dtype='object')\n",
      "Index(['affiliation_name', 'birthplace', 'first_name', 'id', 'last_name',\n",
      "       'object_id'],\n",
      "      dtype='object')\n"
     ]
    }
   ],
   "source": [
    "print(objects.columns)\n",
    "print(people.columns)"
   ]
  },
  {
   "cell_type": "markdown",
   "metadata": {},
   "source": [
    "## The most successful businesses\n",
    "\n",
    "If we consider a successful business to be one that has raised the most capital through a variety of funding rounds, we can sort our dataset accordingly."
   ]
  },
  {
   "cell_type": "markdown",
   "metadata": {},
   "source": [
    "We can get the total raised by a company by using the `funding_total_usd` column in the objects database. Note that we only want to use companies, so we only select those with an `entity_type` of \"company\". We will also reduce the size of our dataframe to include only a couple important metrics."
   ]
  },
  {
   "cell_type": "code",
   "execution_count": 9,
   "metadata": {
    "collapsed": false
   },
   "outputs": [
    {
     "data": {
      "text/html": [
       "<div>\n",
       "<style scoped>\n",
       "    .dataframe tbody tr th:only-of-type {\n",
       "        vertical-align: middle;\n",
       "    }\n",
       "\n",
       "    .dataframe tbody tr th {\n",
       "        vertical-align: top;\n",
       "    }\n",
       "\n",
       "    .dataframe thead th {\n",
       "        text-align: right;\n",
       "    }\n",
       "</style>\n",
       "<table border=\"1\" class=\"dataframe\">\n",
       "  <thead>\n",
       "    <tr style=\"text-align: right;\">\n",
       "      <th></th>\n",
       "      <th>name</th>\n",
       "      <th>entity_id</th>\n",
       "      <th>funding_total_usd</th>\n",
       "      <th>closed_at</th>\n",
       "    </tr>\n",
       "  </thead>\n",
       "  <tbody>\n",
       "    <tr>\n",
       "      <th>4575</th>\n",
       "      <td>Clearwire</td>\n",
       "      <td>13219</td>\n",
       "      <td>5700000000</td>\n",
       "      <td>None</td>\n",
       "    </tr>\n",
       "    <tr>\n",
       "      <th>160023</th>\n",
       "      <td>Verizon Communications, Inc.</td>\n",
       "      <td>4843</td>\n",
       "      <td>3985050000</td>\n",
       "      <td>None</td>\n",
       "    </tr>\n",
       "    <tr>\n",
       "      <th>97784</th>\n",
       "      <td>sigmacare</td>\n",
       "      <td>242735</td>\n",
       "      <td>2600000000</td>\n",
       "      <td>None</td>\n",
       "    </tr>\n",
       "    <tr>\n",
       "      <th>161551</th>\n",
       "      <td>Facebook</td>\n",
       "      <td>5</td>\n",
       "      <td>2425700000</td>\n",
       "      <td>None</td>\n",
       "    </tr>\n",
       "    <tr>\n",
       "      <th>175825</th>\n",
       "      <td>Carestream</td>\n",
       "      <td>64365</td>\n",
       "      <td>2400000000</td>\n",
       "      <td>None</td>\n",
       "    </tr>\n",
       "    <tr>\n",
       "      <th>81001</th>\n",
       "      <td>Solyndra</td>\n",
       "      <td>22568</td>\n",
       "      <td>1765504319</td>\n",
       "      <td>None</td>\n",
       "    </tr>\n",
       "    <tr>\n",
       "      <th>170979</th>\n",
       "      <td>Fisker Automotive</td>\n",
       "      <td>5951</td>\n",
       "      <td>1451000000</td>\n",
       "      <td>None</td>\n",
       "    </tr>\n",
       "    <tr>\n",
       "      <th>151715</th>\n",
       "      <td>O3b Networks</td>\n",
       "      <td>39799</td>\n",
       "      <td>1270283000</td>\n",
       "      <td>None</td>\n",
       "    </tr>\n",
       "    <tr>\n",
       "      <th>101987</th>\n",
       "      <td>Terra-Gen Power</td>\n",
       "      <td>24693</td>\n",
       "      <td>1200000000</td>\n",
       "      <td>None</td>\n",
       "    </tr>\n",
       "    <tr>\n",
       "      <th>2971</th>\n",
       "      <td>Twitter</td>\n",
       "      <td>12</td>\n",
       "      <td>1160166511</td>\n",
       "      <td>None</td>\n",
       "    </tr>\n",
       "    <tr>\n",
       "      <th>2225</th>\n",
       "      <td>Groupon</td>\n",
       "      <td>11391</td>\n",
       "      <td>1147288416</td>\n",
       "      <td>None</td>\n",
       "    </tr>\n",
       "    <tr>\n",
       "      <th>176493</th>\n",
       "      <td>Jd.com</td>\n",
       "      <td>65045</td>\n",
       "      <td>1100000000</td>\n",
       "      <td>None</td>\n",
       "    </tr>\n",
       "    <tr>\n",
       "      <th>181834</th>\n",
       "      <td>Xerox</td>\n",
       "      <td>7060</td>\n",
       "      <td>1100000000</td>\n",
       "      <td>None</td>\n",
       "    </tr>\n",
       "    <tr>\n",
       "      <th>159845</th>\n",
       "      <td>Sirius XM Radio, Inc.</td>\n",
       "      <td>4825</td>\n",
       "      <td>1055750000</td>\n",
       "      <td>None</td>\n",
       "    </tr>\n",
       "    <tr>\n",
       "      <th>42145</th>\n",
       "      <td>Wave Broadband</td>\n",
       "      <td>183447</td>\n",
       "      <td>1050000000</td>\n",
       "      <td>None</td>\n",
       "    </tr>\n",
       "    <tr>\n",
       "      <th>147367</th>\n",
       "      <td>AOL</td>\n",
       "      <td>351</td>\n",
       "      <td>1000000000</td>\n",
       "      <td>None</td>\n",
       "    </tr>\n",
       "    <tr>\n",
       "      <th>163774</th>\n",
       "      <td>Blackberry</td>\n",
       "      <td>5229</td>\n",
       "      <td>1000000000</td>\n",
       "      <td>None</td>\n",
       "    </tr>\n",
       "    <tr>\n",
       "      <th>138933</th>\n",
       "      <td>Bloom Energy</td>\n",
       "      <td>28317</td>\n",
       "      <td>980000000</td>\n",
       "      <td>None</td>\n",
       "    </tr>\n",
       "    <tr>\n",
       "      <th>74335</th>\n",
       "      <td>SurveyMonkey</td>\n",
       "      <td>21875</td>\n",
       "      <td>964999998</td>\n",
       "      <td>None</td>\n",
       "    </tr>\n",
       "    <tr>\n",
       "      <th>194510</th>\n",
       "      <td>LivingSocial</td>\n",
       "      <td>8583</td>\n",
       "      <td>924499965</td>\n",
       "      <td>None</td>\n",
       "    </tr>\n",
       "  </tbody>\n",
       "</table>\n",
       "</div>"
      ],
      "text/plain": [
       "                                name  entity_id funding_total_usd closed_at\n",
       "4575                       Clearwire      13219        5700000000      None\n",
       "160023  Verizon Communications, Inc.       4843        3985050000      None\n",
       "97784                      sigmacare     242735        2600000000      None\n",
       "161551                      Facebook          5        2425700000      None\n",
       "175825                    Carestream      64365        2400000000      None\n",
       "81001                       Solyndra      22568        1765504319      None\n",
       "170979             Fisker Automotive       5951        1451000000      None\n",
       "151715                  O3b Networks      39799        1270283000      None\n",
       "101987               Terra-Gen Power      24693        1200000000      None\n",
       "2971                         Twitter         12        1160166511      None\n",
       "2225                         Groupon      11391        1147288416      None\n",
       "176493                        Jd.com      65045        1100000000      None\n",
       "181834                         Xerox       7060        1100000000      None\n",
       "159845         Sirius XM Radio, Inc.       4825        1055750000      None\n",
       "42145                 Wave Broadband     183447        1050000000      None\n",
       "147367                           AOL        351        1000000000      None\n",
       "163774                    Blackberry       5229        1000000000      None\n",
       "138933                  Bloom Energy      28317         980000000      None\n",
       "74335                   SurveyMonkey      21875         964999998      None\n",
       "194510                  LivingSocial       8583         924499965      None"
      ]
     },
     "metadata": {},
     "output_type": "display_data"
    },
    {
     "name": "stdout",
     "output_type": "stream",
     "text": [
      "There are 27,874 companies in the dataset\n"
     ]
    }
   ],
   "source": [
    "companies = objects[objects.entity_type=='Company'][['name','entity_id','funding_total_usd','closed_at']].copy()\n",
    "# Only select companies who have raised some money\n",
    "companies = companies.dropna(subset=['funding_total_usd'])\n",
    "display(companies.sort_values('funding_total_usd',ascending=False).head(20))\n",
    "\n",
    "comp_tot = len(companies)\n",
    "print('There are {:,} companies in the dataset'.format(comp_tot))"
   ]
  },
  {
   "cell_type": "markdown",
   "metadata": {},
   "source": [
    "Now that we have all of the companies, let's define exactly what we mean by the most successful companies. First, to get a feel for the data visually, let's look at the top 100 companies and their fundraising totals."
   ]
  },
  {
   "cell_type": "code",
   "execution_count": 10,
   "metadata": {
    "collapsed": false
   },
   "outputs": [
    {
     "name": "stderr",
     "output_type": "stream",
     "text": [
      "/Users/mitch/anaconda/lib/python3.6/site-packages/seaborn/categorical.py:1428: FutureWarning: remove_na is deprecated and is a private function. Do not use.\n",
      "  stat_data = remove_na(group_data)\n"
     ]
    },
    {
     "data": {
      "image/png": "[encoded data removed]",
      "text/plain": [
       "<matplotlib.figure.Figure at 0x1a1c687f28>"
      ]
     },
     "metadata": {},
     "output_type": "display_data"
    }
   ],
   "source": [
    "fig,ax = plt.subplots(figsize=(20,10))\n",
    "n_top_companies = 100\n",
    "plotset = companies.sort_values('funding_total_usd',ascending=False).head(n_top_companies)\n",
    "ax = sns.barplot(x='name',y='funding_total_usd',data=plotset)\n",
    "ax.set_title('Funding Totals for the Top {} Companies'.format(n_top_companies),fontsize=22)\n",
    "ax.set_xticklabels(labels=plotset.name,rotation='vertical')\n",
    "ax.set_xlabel('Company',fontsize=18)\n",
    "ax.set_yscale('log')\n",
    "ax.set_ylabel('Funding Total [USD] -- Log Scale',fontsize=18);"
   ]
  },
  {
   "cell_type": "markdown",
   "metadata": {},
   "source": [
    "It appears that only a handful of the companies fundraise greater than \\$1 billion (\\$$10^9$), though many more companies appear to fundraise in the millions. Let's find the exact percent of companies for each order of magnitude."
   ]
  },
  {
   "cell_type": "code",
   "execution_count": 11,
   "metadata": {
    "collapsed": false
   },
   "outputs": [
    {
     "name": "stdout",
     "output_type": "stream",
     "text": [
      "27,854 companies (99.9%) above $1,000\n",
      "27,608 companies (99.0%) above $10,000\n",
      "24,960 companies (89.5%) above $100,000\n",
      "18,112 companies (65.0%) above $1,000,000\n",
      "7,309 companies (26.2%) above $10,000,000\n",
      "630 companies (2.3%) above $100,000,000\n",
      "15 companies (0.1%) above $1,000,000,000\n",
      "0 companies (0.0%) above $10,000,000,000\n"
     ]
    }
   ],
   "source": [
    "I,F = 3,10\n",
    "for i in np.logspace(I,F,F-I+1):\n",
    "    num_above = len(companies[companies['funding_total_usd']>i])\n",
    "    frac = num_above/comp_tot\n",
    "    print('{:,} companies ({}%) above ${:,}'.format(num_above,round(100*frac,1),int(i)))"
   ]
  },
  {
   "cell_type": "markdown",
   "metadata": {},
   "source": [
    "We see from this that only slightly more than 25% of the companies fundraise more than $10 million. Let's define these 7309 companies as the most successful."
   ]
  },
  {
   "cell_type": "markdown",
   "metadata": {},
   "source": [
    "## The people behind the most successful businesses"
   ]
  },
  {
   "cell_type": "markdown",
   "metadata": {},
   "source": [
    "Next, we can use the people database to pair individuals with the company they are affiliated with. Like for the funding rounds data, we don't need all of the information provided in the database of people either. Since we ultimately want to look at educational factors, let's limit the dataset to only a person's name (first and last), `object_id`, and affiliation, in a key that will let us link to the degrees dataset."
   ]
  },
  {
   "cell_type": "code",
   "execution_count": 12,
   "metadata": {
    "collapsed": false,
    "scrolled": false
   },
   "outputs": [
    {
     "data": {
      "text/html": [
       "<div>\n",
       "<style scoped>\n",
       "    .dataframe tbody tr th:only-of-type {\n",
       "        vertical-align: middle;\n",
       "    }\n",
       "\n",
       "    .dataframe tbody tr th {\n",
       "        vertical-align: top;\n",
       "    }\n",
       "\n",
       "    .dataframe thead th {\n",
       "        text-align: right;\n",
       "    }\n",
       "</style>\n",
       "<table border=\"1\" class=\"dataframe\">\n",
       "  <thead>\n",
       "    <tr style=\"text-align: right;\">\n",
       "      <th></th>\n",
       "      <th>affiliation_name</th>\n",
       "      <th>first_name</th>\n",
       "      <th>last_name</th>\n",
       "      <th>object_id</th>\n",
       "    </tr>\n",
       "  </thead>\n",
       "  <tbody>\n",
       "    <tr>\n",
       "      <th>0</th>\n",
       "      <td>Blue Nile</td>\n",
       "      <td>Ben</td>\n",
       "      <td>Elowitz</td>\n",
       "      <td>p:2</td>\n",
       "    </tr>\n",
       "    <tr>\n",
       "      <th>1</th>\n",
       "      <td>Wetpaint</td>\n",
       "      <td>Kevin</td>\n",
       "      <td>Flaherty</td>\n",
       "      <td>p:3</td>\n",
       "    </tr>\n",
       "    <tr>\n",
       "      <th>2</th>\n",
       "      <td>Zoho</td>\n",
       "      <td>Raju</td>\n",
       "      <td>Vegesna</td>\n",
       "      <td>p:4</td>\n",
       "    </tr>\n",
       "    <tr>\n",
       "      <th>3</th>\n",
       "      <td>Zoho</td>\n",
       "      <td>Ian</td>\n",
       "      <td>Wenig</td>\n",
       "      <td>p:5</td>\n",
       "    </tr>\n",
       "    <tr>\n",
       "      <th>4</th>\n",
       "      <td>i/o Ventures</td>\n",
       "      <td>Kevin</td>\n",
       "      <td>Rose</td>\n",
       "      <td>p:6</td>\n",
       "    </tr>\n",
       "    <tr>\n",
       "      <th>5</th>\n",
       "      <td>Digg</td>\n",
       "      <td>Jay</td>\n",
       "      <td>Adelson</td>\n",
       "      <td>p:7</td>\n",
       "    </tr>\n",
       "    <tr>\n",
       "      <th>6</th>\n",
       "      <td>Digg</td>\n",
       "      <td>Owen</td>\n",
       "      <td>Byrne</td>\n",
       "      <td>p:8</td>\n",
       "    </tr>\n",
       "    <tr>\n",
       "      <th>7</th>\n",
       "      <td>Digg</td>\n",
       "      <td>Ron</td>\n",
       "      <td>Gorodetzky</td>\n",
       "      <td>p:9</td>\n",
       "    </tr>\n",
       "    <tr>\n",
       "      <th>8</th>\n",
       "      <td>Facebook</td>\n",
       "      <td>Mark</td>\n",
       "      <td>Zuckerberg</td>\n",
       "      <td>p:10</td>\n",
       "    </tr>\n",
       "    <tr>\n",
       "      <th>9</th>\n",
       "      <td>Facebook</td>\n",
       "      <td>Dustin</td>\n",
       "      <td>Moskovitz</td>\n",
       "      <td>p:11</td>\n",
       "    </tr>\n",
       "  </tbody>\n",
       "</table>\n",
       "</div>"
      ],
      "text/plain": [
       "  affiliation_name first_name   last_name object_id\n",
       "0        Blue Nile        Ben     Elowitz       p:2\n",
       "1         Wetpaint      Kevin    Flaherty       p:3\n",
       "2             Zoho       Raju     Vegesna       p:4\n",
       "3             Zoho        Ian       Wenig       p:5\n",
       "4     i/o Ventures      Kevin        Rose       p:6\n",
       "5             Digg        Jay     Adelson       p:7\n",
       "6             Digg       Owen       Byrne       p:8\n",
       "7             Digg        Ron  Gorodetzky       p:9\n",
       "8         Facebook       Mark  Zuckerberg      p:10\n",
       "9         Facebook     Dustin   Moskovitz      p:11"
      ]
     },
     "metadata": {},
     "output_type": "display_data"
    },
    {
     "name": "stdout",
     "output_type": "stream",
     "text": [
      "There are 226,709 people in the dataset\n"
     ]
    }
   ],
   "source": [
    "people_key = people[['affiliation_name','first_name','last_name','object_id']]\n",
    "display(people_key.head(10))\n",
    "\n",
    "ppl_tot = len(people_key)\n",
    "print('There are {:,} people in the dataset'.format(ppl_tot))"
   ]
  },
  {
   "cell_type": "markdown",
   "metadata": {},
   "source": [
    "Now we merge the two datasets together to get each funded company and people in the crunchbase dataset who were involved."
   ]
  },
  {
   "cell_type": "code",
   "execution_count": 13,
   "metadata": {
    "collapsed": false
   },
   "outputs": [
    {
     "data": {
      "text/html": [
       "<div>\n",
       "<style scoped>\n",
       "    .dataframe tbody tr th:only-of-type {\n",
       "        vertical-align: middle;\n",
       "    }\n",
       "\n",
       "    .dataframe tbody tr th {\n",
       "        vertical-align: top;\n",
       "    }\n",
       "\n",
       "    .dataframe thead th {\n",
       "        text-align: right;\n",
       "    }\n",
       "</style>\n",
       "<table border=\"1\" class=\"dataframe\">\n",
       "  <thead>\n",
       "    <tr style=\"text-align: right;\">\n",
       "      <th></th>\n",
       "      <th>name</th>\n",
       "      <th>entity_id</th>\n",
       "      <th>funding_total_usd</th>\n",
       "      <th>closed_at</th>\n",
       "      <th>first_name</th>\n",
       "      <th>last_name</th>\n",
       "      <th>object_id</th>\n",
       "    </tr>\n",
       "  </thead>\n",
       "  <tbody>\n",
       "    <tr>\n",
       "      <th>0</th>\n",
       "      <td>Wetpaint</td>\n",
       "      <td>1</td>\n",
       "      <td>39750000</td>\n",
       "      <td>None</td>\n",
       "      <td>Kevin</td>\n",
       "      <td>Flaherty</td>\n",
       "      <td>p:3</td>\n",
       "    </tr>\n",
       "    <tr>\n",
       "      <th>1</th>\n",
       "      <td>Wetpaint</td>\n",
       "      <td>1</td>\n",
       "      <td>39750000</td>\n",
       "      <td>None</td>\n",
       "      <td>Alex</td>\n",
       "      <td>Weinstein</td>\n",
       "      <td>p:104800</td>\n",
       "    </tr>\n",
       "    <tr>\n",
       "      <th>2</th>\n",
       "      <td>FriendFeed</td>\n",
       "      <td>1001</td>\n",
       "      <td>5000000</td>\n",
       "      <td>None</td>\n",
       "      <td>Paul</td>\n",
       "      <td>Buchheit</td>\n",
       "      <td>p:640</td>\n",
       "    </tr>\n",
       "    <tr>\n",
       "      <th>3</th>\n",
       "      <td>FriendFeed</td>\n",
       "      <td>1001</td>\n",
       "      <td>5000000</td>\n",
       "      <td>None</td>\n",
       "      <td>Sanjeev</td>\n",
       "      <td>Singh</td>\n",
       "      <td>p:2716</td>\n",
       "    </tr>\n",
       "    <tr>\n",
       "      <th>4</th>\n",
       "      <td>Fitbit</td>\n",
       "      <td>10015</td>\n",
       "      <td>68069200</td>\n",
       "      <td>None</td>\n",
       "      <td>James</td>\n",
       "      <td>Park</td>\n",
       "      <td>p:16930</td>\n",
       "    </tr>\n",
       "  </tbody>\n",
       "</table>\n",
       "</div>"
      ],
      "text/plain": [
       "         name  entity_id funding_total_usd closed_at first_name  last_name  \\\n",
       "0    Wetpaint          1          39750000      None      Kevin   Flaherty   \n",
       "1    Wetpaint          1          39750000      None       Alex  Weinstein   \n",
       "2  FriendFeed       1001           5000000      None       Paul   Buchheit   \n",
       "3  FriendFeed       1001           5000000      None    Sanjeev      Singh   \n",
       "4      Fitbit      10015          68069200      None      James       Park   \n",
       "\n",
       "  object_id  \n",
       "0       p:3  \n",
       "1  p:104800  \n",
       "2     p:640  \n",
       "3    p:2716  \n",
       "4   p:16930  "
      ]
     },
     "metadata": {},
     "output_type": "display_data"
    },
    {
     "name": "stdout",
     "output_type": "stream",
     "text": [
      "There are 12,168 people affiliated with funded companies in the dataset\n"
     ]
    }
   ],
   "source": [
    "company_people = pd.merge(companies,people_key,left_on='name',right_on='affiliation_name').drop(columns='affiliation_name')\n",
    "display(company_people.head())\n",
    "\n",
    "cp_tot = len(company_people)\n",
    "print('There are {:,} people affiliated with funded companies in the dataset'.format(cp_tot))"
   ]
  },
  {
   "cell_type": "markdown",
   "metadata": {},
   "source": [
    "Interestingly, there are significantly fewer people associated with companies than there are people in the dataset."
   ]
  },
  {
   "cell_type": "markdown",
   "metadata": {},
   "source": [
    "We can now repeat the merging process with the dataset of educational information. First, let's limit the degrees dataset to include only degree type, institution, subject, and the id of the corresponding person (`object_id`). Then, we merge this into the database of companies and people."
   ]
  },
  {
   "cell_type": "code",
   "execution_count": 14,
   "metadata": {
    "collapsed": false
   },
   "outputs": [
    {
     "data": {
      "text/html": [
       "<div>\n",
       "<style scoped>\n",
       "    .dataframe tbody tr th:only-of-type {\n",
       "        vertical-align: middle;\n",
       "    }\n",
       "\n",
       "    .dataframe tbody tr th {\n",
       "        vertical-align: top;\n",
       "    }\n",
       "\n",
       "    .dataframe thead th {\n",
       "        text-align: right;\n",
       "    }\n",
       "</style>\n",
       "<table border=\"1\" class=\"dataframe\">\n",
       "  <thead>\n",
       "    <tr style=\"text-align: right;\">\n",
       "      <th></th>\n",
       "      <th>name</th>\n",
       "      <th>entity_id</th>\n",
       "      <th>funding_total_usd</th>\n",
       "      <th>closed_at</th>\n",
       "      <th>first_name</th>\n",
       "      <th>last_name</th>\n",
       "      <th>object_id</th>\n",
       "      <th>institution</th>\n",
       "      <th>degree_type</th>\n",
       "      <th>subject</th>\n",
       "    </tr>\n",
       "  </thead>\n",
       "  <tbody>\n",
       "    <tr>\n",
       "      <th>0</th>\n",
       "      <td>Wetpaint</td>\n",
       "      <td>1</td>\n",
       "      <td>39750000</td>\n",
       "      <td>None</td>\n",
       "      <td>Kevin</td>\n",
       "      <td>Flaherty</td>\n",
       "      <td>p:3</td>\n",
       "      <td>Washington University in St Louis</td>\n",
       "      <td>BBA</td>\n",
       "      <td>None</td>\n",
       "    </tr>\n",
       "    <tr>\n",
       "      <th>1</th>\n",
       "      <td>Wetpaint</td>\n",
       "      <td>1</td>\n",
       "      <td>39750000</td>\n",
       "      <td>None</td>\n",
       "      <td>Kevin</td>\n",
       "      <td>Flaherty</td>\n",
       "      <td>p:3</td>\n",
       "      <td>Indiana University</td>\n",
       "      <td>MBA</td>\n",
       "      <td>None</td>\n",
       "    </tr>\n",
       "    <tr>\n",
       "      <th>2</th>\n",
       "      <td>FriendFeed</td>\n",
       "      <td>1001</td>\n",
       "      <td>5000000</td>\n",
       "      <td>None</td>\n",
       "      <td>Paul</td>\n",
       "      <td>Buchheit</td>\n",
       "      <td>p:640</td>\n",
       "      <td>Case Western Reserve University</td>\n",
       "      <td>MS</td>\n",
       "      <td>Computer Science</td>\n",
       "    </tr>\n",
       "    <tr>\n",
       "      <th>3</th>\n",
       "      <td>FriendFeed</td>\n",
       "      <td>1001</td>\n",
       "      <td>5000000</td>\n",
       "      <td>None</td>\n",
       "      <td>Sanjeev</td>\n",
       "      <td>Singh</td>\n",
       "      <td>p:2716</td>\n",
       "      <td>Stanford University</td>\n",
       "      <td>BS</td>\n",
       "      <td>Computer Science</td>\n",
       "    </tr>\n",
       "    <tr>\n",
       "      <th>4</th>\n",
       "      <td>Fitbit</td>\n",
       "      <td>10015</td>\n",
       "      <td>68069200</td>\n",
       "      <td>None</td>\n",
       "      <td>James</td>\n",
       "      <td>Park</td>\n",
       "      <td>p:16930</td>\n",
       "      <td>Harvard University</td>\n",
       "      <td>DNF</td>\n",
       "      <td>Computer Science</td>\n",
       "    </tr>\n",
       "    <tr>\n",
       "      <th>5</th>\n",
       "      <td>Fitbit</td>\n",
       "      <td>10015</td>\n",
       "      <td>68069200</td>\n",
       "      <td>None</td>\n",
       "      <td>Eric</td>\n",
       "      <td>Friedman</td>\n",
       "      <td>p:16931</td>\n",
       "      <td>George Washington University</td>\n",
       "      <td>BBA</td>\n",
       "      <td>Business Marketing</td>\n",
       "    </tr>\n",
       "    <tr>\n",
       "      <th>6</th>\n",
       "      <td>Fitbit</td>\n",
       "      <td>10015</td>\n",
       "      <td>68069200</td>\n",
       "      <td>None</td>\n",
       "      <td>Meena</td>\n",
       "      <td>Srinivasan</td>\n",
       "      <td>p:89236</td>\n",
       "      <td>India, Certified Public Accountant in California</td>\n",
       "      <td>Chartered Accountant</td>\n",
       "      <td>None</td>\n",
       "    </tr>\n",
       "    <tr>\n",
       "      <th>7</th>\n",
       "      <td>Fitbit</td>\n",
       "      <td>10015</td>\n",
       "      <td>68069200</td>\n",
       "      <td>None</td>\n",
       "      <td>Meena</td>\n",
       "      <td>Srinivasan</td>\n",
       "      <td>p:89236</td>\n",
       "      <td>East Carolina University</td>\n",
       "      <td>MBA</td>\n",
       "      <td>None</td>\n",
       "    </tr>\n",
       "    <tr>\n",
       "      <th>8</th>\n",
       "      <td>Fitbit</td>\n",
       "      <td>10015</td>\n",
       "      <td>68069200</td>\n",
       "      <td>None</td>\n",
       "      <td>Mark</td>\n",
       "      <td>Silverio</td>\n",
       "      <td>p:121130</td>\n",
       "      <td>Boston College</td>\n",
       "      <td>BS</td>\n",
       "      <td>Marketing</td>\n",
       "    </tr>\n",
       "    <tr>\n",
       "      <th>9</th>\n",
       "      <td>Fitbit</td>\n",
       "      <td>10015</td>\n",
       "      <td>68069200</td>\n",
       "      <td>None</td>\n",
       "      <td>Eric</td>\n",
       "      <td>Friedman</td>\n",
       "      <td>p:216979</td>\n",
       "      <td>Yale University</td>\n",
       "      <td>MS</td>\n",
       "      <td>Computer Science</td>\n",
       "    </tr>\n",
       "  </tbody>\n",
       "</table>\n",
       "</div>"
      ],
      "text/plain": [
       "         name  entity_id funding_total_usd closed_at first_name   last_name  \\\n",
       "0    Wetpaint          1          39750000      None      Kevin    Flaherty   \n",
       "1    Wetpaint          1          39750000      None      Kevin    Flaherty   \n",
       "2  FriendFeed       1001           5000000      None       Paul    Buchheit   \n",
       "3  FriendFeed       1001           5000000      None    Sanjeev       Singh   \n",
       "4      Fitbit      10015          68069200      None      James        Park   \n",
       "5      Fitbit      10015          68069200      None       Eric    Friedman   \n",
       "6      Fitbit      10015          68069200      None      Meena  Srinivasan   \n",
       "7      Fitbit      10015          68069200      None      Meena  Srinivasan   \n",
       "8      Fitbit      10015          68069200      None       Mark    Silverio   \n",
       "9      Fitbit      10015          68069200      None       Eric    Friedman   \n",
       "\n",
       "  object_id                                       institution  \\\n",
       "0       p:3                 Washington University in St Louis   \n",
       "1       p:3                                Indiana University   \n",
       "2     p:640                   Case Western Reserve University   \n",
       "3    p:2716                               Stanford University   \n",
       "4   p:16930                                Harvard University   \n",
       "5   p:16931                      George Washington University   \n",
       "6   p:89236  India, Certified Public Accountant in California   \n",
       "7   p:89236                          East Carolina University   \n",
       "8  p:121130                                    Boston College   \n",
       "9  p:216979                                   Yale University   \n",
       "\n",
       "            degree_type             subject  \n",
       "0                   BBA                None  \n",
       "1                   MBA                None  \n",
       "2                    MS    Computer Science  \n",
       "3                    BS    Computer Science  \n",
       "4                   DNF    Computer Science  \n",
       "5                   BBA  Business Marketing  \n",
       "6  Chartered Accountant                None  \n",
       "7                   MBA                None  \n",
       "8                    BS           Marketing  \n",
       "9                    MS    Computer Science  "
      ]
     },
     "metadata": {},
     "output_type": "display_data"
    }
   ],
   "source": [
    "edu = degrees[['object_id','institution','degree_type','subject']].dropna(subset=['institution'])\n",
    "CPE = pd.merge(company_people,edu,on='object_id')\n",
    "display(CPE.head(10))"
   ]
  },
  {
   "cell_type": "markdown",
   "metadata": {},
   "source": [
    "Finally, we filter the dataset of company, people, and education to only those in the most successful businesses (those who fundraised more than $10 million)."
   ]
  },
  {
   "cell_type": "code",
   "execution_count": 15,
   "metadata": {
    "collapsed": false
   },
   "outputs": [
    {
     "data": {
      "text/html": [
       "<div>\n",
       "<style scoped>\n",
       "    .dataframe tbody tr th:only-of-type {\n",
       "        vertical-align: middle;\n",
       "    }\n",
       "\n",
       "    .dataframe tbody tr th {\n",
       "        vertical-align: top;\n",
       "    }\n",
       "\n",
       "    .dataframe thead th {\n",
       "        text-align: right;\n",
       "    }\n",
       "</style>\n",
       "<table border=\"1\" class=\"dataframe\">\n",
       "  <thead>\n",
       "    <tr style=\"text-align: right;\">\n",
       "      <th></th>\n",
       "      <th>name</th>\n",
       "      <th>entity_id</th>\n",
       "      <th>funding_total_usd</th>\n",
       "      <th>closed_at</th>\n",
       "      <th>first_name</th>\n",
       "      <th>last_name</th>\n",
       "      <th>object_id</th>\n",
       "      <th>institution</th>\n",
       "      <th>degree_type</th>\n",
       "      <th>subject</th>\n",
       "    </tr>\n",
       "  </thead>\n",
       "  <tbody>\n",
       "    <tr>\n",
       "      <th>0</th>\n",
       "      <td>Wetpaint</td>\n",
       "      <td>1</td>\n",
       "      <td>39750000</td>\n",
       "      <td>None</td>\n",
       "      <td>Kevin</td>\n",
       "      <td>Flaherty</td>\n",
       "      <td>p:3</td>\n",
       "      <td>Washington University in St Louis</td>\n",
       "      <td>BBA</td>\n",
       "      <td>None</td>\n",
       "    </tr>\n",
       "    <tr>\n",
       "      <th>1</th>\n",
       "      <td>Wetpaint</td>\n",
       "      <td>1</td>\n",
       "      <td>39750000</td>\n",
       "      <td>None</td>\n",
       "      <td>Kevin</td>\n",
       "      <td>Flaherty</td>\n",
       "      <td>p:3</td>\n",
       "      <td>Indiana University</td>\n",
       "      <td>MBA</td>\n",
       "      <td>None</td>\n",
       "    </tr>\n",
       "    <tr>\n",
       "      <th>2</th>\n",
       "      <td>FriendFeed</td>\n",
       "      <td>1001</td>\n",
       "      <td>5000000</td>\n",
       "      <td>None</td>\n",
       "      <td>Paul</td>\n",
       "      <td>Buchheit</td>\n",
       "      <td>p:640</td>\n",
       "      <td>Case Western Reserve University</td>\n",
       "      <td>MS</td>\n",
       "      <td>Computer Science</td>\n",
       "    </tr>\n",
       "    <tr>\n",
       "      <th>3</th>\n",
       "      <td>FriendFeed</td>\n",
       "      <td>1001</td>\n",
       "      <td>5000000</td>\n",
       "      <td>None</td>\n",
       "      <td>Sanjeev</td>\n",
       "      <td>Singh</td>\n",
       "      <td>p:2716</td>\n",
       "      <td>Stanford University</td>\n",
       "      <td>BS</td>\n",
       "      <td>Computer Science</td>\n",
       "    </tr>\n",
       "    <tr>\n",
       "      <th>4</th>\n",
       "      <td>Fitbit</td>\n",
       "      <td>10015</td>\n",
       "      <td>68069200</td>\n",
       "      <td>None</td>\n",
       "      <td>James</td>\n",
       "      <td>Park</td>\n",
       "      <td>p:16930</td>\n",
       "      <td>Harvard University</td>\n",
       "      <td>DNF</td>\n",
       "      <td>Computer Science</td>\n",
       "    </tr>\n",
       "  </tbody>\n",
       "</table>\n",
       "</div>"
      ],
      "text/plain": [
       "         name  entity_id funding_total_usd closed_at first_name last_name  \\\n",
       "0    Wetpaint          1          39750000      None      Kevin  Flaherty   \n",
       "1    Wetpaint          1          39750000      None      Kevin  Flaherty   \n",
       "2  FriendFeed       1001           5000000      None       Paul  Buchheit   \n",
       "3  FriendFeed       1001           5000000      None    Sanjeev     Singh   \n",
       "4      Fitbit      10015          68069200      None      James      Park   \n",
       "\n",
       "  object_id                        institution degree_type           subject  \n",
       "0       p:3  Washington University in St Louis         BBA              None  \n",
       "1       p:3                 Indiana University         MBA              None  \n",
       "2     p:640    Case Western Reserve University          MS  Computer Science  \n",
       "3    p:2716                Stanford University          BS  Computer Science  \n",
       "4   p:16930                 Harvard University         DNF  Computer Science  "
      ]
     },
     "metadata": {},
     "output_type": "display_data"
    },
    {
     "name": "stdout",
     "output_type": "stream",
     "text": [
      "There are 10,823 entries in the dataset, and 6,768 unique people in the dataset.\n",
      "On average, successful businesses involve people with an average of 1.6 degrees.\n"
     ]
    }
   ],
   "source": [
    "successful_CPE = CPE[CPE['funding_total_usd']>10_000]\n",
    "display(successful_CPE.head())\n",
    "\n",
    "n_entries = len(CPE)\n",
    "n_unique_ppl = CPE['object_id'].nunique()\n",
    "print('There are {:,} entries in the dataset, and {:,} unique people in the dataset.'.format(n_entries,n_unique_ppl))\n",
    "print('On average, successful businesses involve people with an average of {} degrees.'.format(round(n_entries/n_unique_ppl,1)))"
   ]
  },
  {
   "cell_type": "markdown",
   "metadata": {},
   "source": [
    "We see that out of the 12,168 people in the full dataset, more than half are associated with well performing businesses. We also see that it is quite common for those at successful businesses to have multiple degrees."
   ]
  },
  {
   "cell_type": "markdown",
   "metadata": {},
   "source": [
    "# (Not so) humble beginnings\n",
    "\n",
    "Next we take a look at the institutions who have produced the people affiliated with the successful businesses. If we were to take a closer look at the table above, you would see that many of the institutions are duplicated, but often with slight variations for each school."
   ]
  },
  {
   "cell_type": "code",
   "execution_count": 35,
   "metadata": {
    "collapsed": false
   },
   "outputs": [],
   "source": [
    "#for inst in np.sort(CPE['institution'].unique()):\n",
    "#    print(inst)"
   ]
  },
  {
   "cell_type": "markdown",
   "metadata": {},
   "source": [
    "We will try to eliminate some of these duplicates, while at the same time reducing the names in such a way that we can properly aggregate a school when it is named alternatively."
   ]
  },
  {
   "cell_type": "code",
   "execution_count": 37,
   "metadata": {
    "collapsed": true
   },
   "outputs": [],
   "source": [
    "# Define stopwords, punctuation and word stems\n",
    "stopwords = ['of','the','at','in','i','y','and','de','@']\n",
    "stoppunc = [',','\\.',';',':','-','&','(',')','/']\n",
    "stems = ['poly','tec','cal','inst','agri','coll']\n",
    "delstems = ['univ','school','law','business']"
   ]
  },
  {
   "cell_type": "code",
   "execution_count": 36,
   "metadata": {
    "collapsed": true
   },
   "outputs": [],
   "source": [
    "# Also define some famous keywords or alternate names that clearly identify a specific school\n",
    "famous_keywords=['wharton','yale','harvard','mit','henley','berkeley','gurion','duke',\n",
    "             'babson','bentley','canberra','boulder','stanford','northwestern','usc',\n",
    "             'ucla','nyu','bowling green','baldwin wallace','boston coll','cal culinary',\n",
    "             'virginia commonwealth','virginia poly','stony brook','georgia tec']\n",
    "famous_altnames={'cal':'berkeley','pennsylvania':'penn','wharton':'penn','virginia poly':'virginia tec',\n",
    "                 'chicago booth':'chicago','massachusetts inst tec':'mit'}"
   ]
  },
  {
   "cell_type": "code",
   "execution_count": 32,
   "metadata": {
    "collapsed": false
   },
   "outputs": [],
   "source": [
    "# Make all words lowercase\n",
    "inst=CPE['institution'].str.lower()\n",
    "\n",
    "#Remove stopwords\n",
    "for word in stopwords:\n",
    "    inst = inst.str.replace(' '+word+' ',' ')\n",
    "inst = inst.str.replace('\\Athe ','')\n",
    "\n",
    "# Remove punctuation\n",
    "for punc in stoppunc:\n",
    "    inst = inst.str.replace(punc,' ')\n",
    "inst = inst.str.strip()\n",
    "\n",
    "# Replace common stems with just the stem, delete others, and replace keywords and nicknames with a common title.\n",
    "inst = inst.str.split()\n",
    "for school_i in range(len(inst)):\n",
    "    # Delete superfluous words\n",
    "    del_word_inds = []\n",
    "    for word_i in range(len(inst[school_i])):\n",
    "        for delstem in delstems:\n",
    "            if inst[school_i][word_i][:len(delstem)]==delstem:\n",
    "                del_word_inds.append(word_i)\n",
    "    for word_i in del_word_inds[::-1]:\n",
    "        del(inst[school_i][word_i])\n",
    "    # Reduce words to their stems\n",
    "    for word_i in range(len(inst[school_i])):\n",
    "        for stem in stems:\n",
    "            if inst[school_i][word_i][:len(stem)]==stem:\n",
    "                inst[school_i][word_i]=stem\n",
    "    # Replace names with a common name when a keyword is present\n",
    "    for name in famous_keywords:\n",
    "        match_counter = 0 \n",
    "        names = name.split()\n",
    "        for word in names:\n",
    "            if word in inst[school_i]:\n",
    "                match_counter += 1\n",
    "            if match_counter == len(names):\n",
    "                inst[school_i]=names\n",
    "    # Replace a nickname with a common name if a nickname is given\n",
    "    for name in famous_altnames:\n",
    "        match_counter = 0\n",
    "        names = name.split()\n",
    "        for word in names:\n",
    "            if word in inst[school_i]:\n",
    "                match_counter +=1\n",
    "        if match_counter == len(inst[school_i]) and match_counter == len(names):\n",
    "            inst[school_i]=[famous_altnames[name]]\n",
    "            break       \n",
    "CPE.institution=inst.str.join(' ')"
   ]
  },
  {
   "cell_type": "markdown",
   "metadata": {},
   "source": [
    "This dataset is still quite large by itself. To reduce it's size, we will only focus on those schools which have contributed more than 10 people to successful businesses."
   ]
  },
  {
   "cell_type": "code",
   "execution_count": 41,
   "metadata": {
    "collapsed": false
   },
   "outputs": [
    {
     "data": {
      "text/html": [
       "<div>\n",
       "<style scoped>\n",
       "    .dataframe tbody tr th:only-of-type {\n",
       "        vertical-align: middle;\n",
       "    }\n",
       "\n",
       "    .dataframe tbody tr th {\n",
       "        vertical-align: top;\n",
       "    }\n",
       "\n",
       "    .dataframe thead th {\n",
       "        text-align: right;\n",
       "    }\n",
       "</style>\n",
       "<table border=\"1\" class=\"dataframe\">\n",
       "  <thead>\n",
       "    <tr style=\"text-align: right;\">\n",
       "      <th></th>\n",
       "      <th>name</th>\n",
       "      <th>entity_id</th>\n",
       "      <th>funding_total_usd</th>\n",
       "      <th>closed_at</th>\n",
       "      <th>first_name</th>\n",
       "      <th>last_name</th>\n",
       "      <th>object_id</th>\n",
       "      <th>institution</th>\n",
       "      <th>degree_type</th>\n",
       "      <th>subject</th>\n",
       "      <th>count</th>\n",
       "    </tr>\n",
       "  </thead>\n",
       "  <tbody>\n",
       "    <tr>\n",
       "      <th>10541</th>\n",
       "      <td>Mozilla</td>\n",
       "      <td>900</td>\n",
       "      <td>2300000</td>\n",
       "      <td>None</td>\n",
       "      <td>Ellen</td>\n",
       "      <td>Siminoff</td>\n",
       "      <td>p:13067</td>\n",
       "      <td>stanford</td>\n",
       "      <td>MBA</td>\n",
       "      <td>Business</td>\n",
       "      <td>618</td>\n",
       "    </tr>\n",
       "    <tr>\n",
       "      <th>6854</th>\n",
       "      <td>Strutta</td>\n",
       "      <td>4363</td>\n",
       "      <td>1583167</td>\n",
       "      <td>None</td>\n",
       "      <td>Ben</td>\n",
       "      <td>Pickering</td>\n",
       "      <td>p:42348</td>\n",
       "      <td>stanford</td>\n",
       "      <td>MBA</td>\n",
       "      <td>None</td>\n",
       "      <td>618</td>\n",
       "    </tr>\n",
       "    <tr>\n",
       "      <th>6863</th>\n",
       "      <td>TokBox</td>\n",
       "      <td>437</td>\n",
       "      <td>26000000</td>\n",
       "      <td>None</td>\n",
       "      <td>Badri</td>\n",
       "      <td>Rajasekar</td>\n",
       "      <td>p:55381</td>\n",
       "      <td>stanford</td>\n",
       "      <td>MS</td>\n",
       "      <td>Computer Science</td>\n",
       "      <td>618</td>\n",
       "    </tr>\n",
       "    <tr>\n",
       "      <th>6919</th>\n",
       "      <td>Counsyl</td>\n",
       "      <td>44089</td>\n",
       "      <td>65200000</td>\n",
       "      <td>None</td>\n",
       "      <td>Eric</td>\n",
       "      <td>Evans</td>\n",
       "      <td>p:160991</td>\n",
       "      <td>stanford</td>\n",
       "      <td>PhD</td>\n",
       "      <td>Genetics</td>\n",
       "      <td>618</td>\n",
       "    </tr>\n",
       "    <tr>\n",
       "      <th>6921</th>\n",
       "      <td>Counsyl</td>\n",
       "      <td>44089</td>\n",
       "      <td>65200000</td>\n",
       "      <td>None</td>\n",
       "      <td>Rishi</td>\n",
       "      <td>Kacker</td>\n",
       "      <td>p:167982</td>\n",
       "      <td>stanford</td>\n",
       "      <td>BS</td>\n",
       "      <td>Computer Science</td>\n",
       "      <td>618</td>\n",
       "    </tr>\n",
       "  </tbody>\n",
       "</table>\n",
       "</div>"
      ],
      "text/plain": [
       "          name  entity_id funding_total_usd closed_at first_name  last_name  \\\n",
       "10541  Mozilla        900           2300000      None      Ellen   Siminoff   \n",
       "6854   Strutta       4363           1583167      None        Ben  Pickering   \n",
       "6863    TokBox        437          26000000      None      Badri  Rajasekar   \n",
       "6919   Counsyl      44089          65200000      None       Eric      Evans   \n",
       "6921   Counsyl      44089          65200000      None      Rishi     Kacker   \n",
       "\n",
       "      object_id institution degree_type           subject  count  \n",
       "10541   p:13067    stanford         MBA          Business    618  \n",
       "6854    p:42348    stanford         MBA              None    618  \n",
       "6863    p:55381    stanford          MS  Computer Science    618  \n",
       "6919   p:160991    stanford         PhD          Genetics    618  \n",
       "6921   p:167982    stanford          BS  Computer Science    618  "
      ]
     },
     "execution_count": 41,
     "metadata": {},
     "output_type": "execute_result"
    }
   ],
   "source": [
    "people_contributed_min = 10\n",
    "inst_counts = pd.DataFrame(CPE.institution.value_counts())\n",
    "inst_mult = inst_counts[inst_counts.institution>people_contributed_min]\n",
    "inst_mult = inst_mult.rename(columns={'institution':'count'})\n",
    "CPE_count = pd.merge(CPE,inst_mult,left_on='institution',right_index=True).sort_values('count',ascending=False)\n",
    "CPE_count.head()"
   ]
  },
  {
   "cell_type": "markdown",
   "metadata": {},
   "source": [
    "To make more sense of this dataset, we will plot according to universities which have contributed the most people to successful businesses."
   ]
  },
  {
   "cell_type": "code",
   "execution_count": 44,
   "metadata": {
    "collapsed": false
   },
   "outputs": [
    {
     "name": "stderr",
     "output_type": "stream",
     "text": [
      "/Users/mitch/anaconda/lib/python3.6/site-packages/seaborn/categorical.py:1428: FutureWarning: remove_na is deprecated and is a private function. Do not use.\n",
      "  stat_data = remove_na(group_data)\n"
     ]
    },
    {
     "data": {
      "image/png": "[encoded data removed]",
      "text/plain": [
       "<matplotlib.figure.Figure at 0x1a4c3e7ef0>"
      ]
     },
     "metadata": {},
     "output_type": "display_data"
    }
   ],
   "source": [
    "fig,edu_ax = plt.subplots(figsize=(20,10))\n",
    "edu_ax = sns.barplot(x='institution',y='count',data=CPE_count)\n",
    "edu_ax.set_title('Graduates contributed to the most successful businesses by college',fontsize=22)\n",
    "edu_ax.tick_params(labelsize=18)\n",
    "edu_ax.set_xticklabels(labels=CPE_count.institution.unique(),rotation='vertical',fontsize=12)\n",
    "edu_ax.set_xlabel('School',fontsize=18)\n",
    "edu_ax.set_ylabel('Number of graduates',fontsize=18);"
   ]
  },
  {
   "cell_type": "code",
   "execution_count": null,
   "metadata": {
    "collapsed": true
   },
   "outputs": [],
   "source": []
  }
 ],
 "metadata": {
  "kernelspec": {
   "display_name": "Python 3",
   "language": "python",
   "name": "python3"
  },
  "language_info": {
   "codemirror_mode": {
    "name": "ipython",
    "version": 3
   },
   "file_extension": ".py",
   "mimetype": "text/x-python",
   "name": "python",
   "nbconvert_exporter": "python",
   "pygments_lexer": "ipython3",
   "version": "3.6.0"
  }
 },
 "nbformat": 4,
 "nbformat_minor": 2
}
