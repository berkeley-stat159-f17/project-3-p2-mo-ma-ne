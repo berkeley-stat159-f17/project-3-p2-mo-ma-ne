{
 "cells": [
  {
   "cell_type": "markdown",
   "metadata": {},
   "source": [
    "# So you want to start a company..."
   ]
  },
  {
   "cell_type": "markdown",
   "metadata": {},
   "source": [
    "The leaders of the world's top businesses have to start somewhere. Using the Crunchbase data, we take a look at where these business leaders received their educations. Is it true that you need to attend a world class institution to be successful, or is the business world much more varied in terms of educational backgrounds?"
   ]
  },
  {
   "cell_type": "code",
   "execution_count": 1,
   "metadata": {
    "collapsed": true
   },
   "outputs": [],
   "source": [
    "% matplotlib inline\n",
    "# Overhead\n",
    "import MySQLdb\n",
    "import seaborn as sns\n",
    "import pandas as pd\n",
    "import numpy as np\n",
    "from matplotlib import pyplot as plt\n",
    "from IPython.display import display\n",
    "from modules import *"
   ]
  },
  {
   "cell_type": "markdown",
   "metadata": {},
   "source": [
    "Since the crunchbase data is in the form of MySQL database dumps, we have already loaded this information into a MySQL database locally. See ___________ for instructions if you have not done this already. \n",
    "\n",
    "Next, we connect to that database and save a couple information tables locally as pandas DataFrames."
   ]
  },
  {
   "cell_type": "code",
   "execution_count": 2,
   "metadata": {
    "scrolled": true
   },
   "outputs": [
    {
     "ename": "OperationalError",
     "evalue": "(1045, \"Access denied for user 'root'@'localhost' (using password: NO)\")",
     "output_type": "error",
     "traceback": [
      "\u001b[0;31m---------------------------------------------------------------------------\u001b[0m",
      "\u001b[0;31mOperationalError\u001b[0m                          Traceback (most recent call last)",
      "\u001b[0;32m<ipython-input-2-c605ce7244db>\u001b[0m in \u001b[0;36m<module>\u001b[0;34m()\u001b[0m\n\u001b[0;32m----> 1\u001b[0;31m \u001b[0mconn\u001b[0m \u001b[0;34m=\u001b[0m \u001b[0mdbConnect\u001b[0m\u001b[0;34m(\u001b[0m\u001b[0;34m)\u001b[0m\u001b[0;34m\u001b[0m\u001b[0m\n\u001b[0m\u001b[1;32m      2\u001b[0m \u001b[0mpeople\u001b[0m \u001b[0;34m=\u001b[0m \u001b[0mdbTableToDataFrame\u001b[0m\u001b[0;34m(\u001b[0m\u001b[0mconn\u001b[0m\u001b[0;34m,\u001b[0m\u001b[0;34m'cb_people'\u001b[0m\u001b[0;34m)\u001b[0m\u001b[0;34m\u001b[0m\u001b[0m\n\u001b[1;32m      3\u001b[0m \u001b[0mdegrees\u001b[0m \u001b[0;34m=\u001b[0m \u001b[0mdbTableToDataFrame\u001b[0m\u001b[0;34m(\u001b[0m\u001b[0mconn\u001b[0m\u001b[0;34m,\u001b[0m\u001b[0;34m'cb_degrees'\u001b[0m\u001b[0;34m)\u001b[0m\u001b[0;34m\u001b[0m\u001b[0m\n\u001b[1;32m      4\u001b[0m \u001b[0mfunding_rounds\u001b[0m \u001b[0;34m=\u001b[0m \u001b[0mdbTableToDataFrame\u001b[0m\u001b[0;34m(\u001b[0m\u001b[0mconn\u001b[0m\u001b[0;34m,\u001b[0m\u001b[0;34m'cb_funding_rounds'\u001b[0m\u001b[0;34m)\u001b[0m\u001b[0;34m\u001b[0m\u001b[0m\n\u001b[1;32m      5\u001b[0m \u001b[0mobjects\u001b[0m \u001b[0;34m=\u001b[0m \u001b[0mdbTableToDataFrame\u001b[0m\u001b[0;34m(\u001b[0m\u001b[0mconn\u001b[0m\u001b[0;34m,\u001b[0m\u001b[0;34m'cb_objects'\u001b[0m\u001b[0;34m)\u001b[0m\u001b[0;34m\u001b[0m\u001b[0m\n",
      "\u001b[0;32m/Users/mitch/Documents/Cal/3_2017_Fall/STAT259–Reproducible_and_Collaborative_Statistical_Data_Science/p3-mo-ma-ne/modules.py\u001b[0m in \u001b[0;36mdbConnect\u001b[0;34m()\u001b[0m\n\u001b[1;32m     21\u001b[0m     \u001b[0mdsn_uid\u001b[0m \u001b[0;34m=\u001b[0m \u001b[0;34m'root'\u001b[0m\u001b[0;34m\u001b[0m\u001b[0m\n\u001b[1;32m     22\u001b[0m     \u001b[0mdsn_pwd\u001b[0m \u001b[0;34m=\u001b[0m \u001b[0;34m''\u001b[0m\u001b[0;34m\u001b[0m\u001b[0m\n\u001b[0;32m---> 23\u001b[0;31m     \u001b[0mconn\u001b[0m \u001b[0;34m=\u001b[0m \u001b[0mMySQLdb\u001b[0m\u001b[0;34m.\u001b[0m\u001b[0mconnect\u001b[0m\u001b[0;34m(\u001b[0m\u001b[0muser\u001b[0m\u001b[0;34m=\u001b[0m\u001b[0mdsn_uid\u001b[0m\u001b[0;34m,\u001b[0m \u001b[0mpasswd\u001b[0m\u001b[0;34m=\u001b[0m\u001b[0mdsn_pwd\u001b[0m\u001b[0;34m,\u001b[0m \u001b[0mdb\u001b[0m\u001b[0;34m=\u001b[0m\u001b[0mdsn_database\u001b[0m\u001b[0;34m)\u001b[0m\u001b[0;34m\u001b[0m\u001b[0m\n\u001b[0m\u001b[1;32m     24\u001b[0m     \u001b[0;32mreturn\u001b[0m \u001b[0mconn\u001b[0m\u001b[0;34m\u001b[0m\u001b[0m\n\u001b[1;32m     25\u001b[0m \u001b[0;34m\u001b[0m\u001b[0m\n",
      "\u001b[0;32m/Users/mitch/anaconda/envs/cb/lib/python3.6/site-packages/MySQLdb/__init__.py\u001b[0m in \u001b[0;36mConnect\u001b[0;34m(*args, **kwargs)\u001b[0m\n\u001b[1;32m     84\u001b[0m     \u001b[0;34m\"\"\"Factory function for connections.Connection.\"\"\"\u001b[0m\u001b[0;34m\u001b[0m\u001b[0m\n\u001b[1;32m     85\u001b[0m     \u001b[0;32mfrom\u001b[0m \u001b[0mMySQLdb\u001b[0m\u001b[0;34m.\u001b[0m\u001b[0mconnections\u001b[0m \u001b[0;32mimport\u001b[0m \u001b[0mConnection\u001b[0m\u001b[0;34m\u001b[0m\u001b[0m\n\u001b[0;32m---> 86\u001b[0;31m     \u001b[0;32mreturn\u001b[0m \u001b[0mConnection\u001b[0m\u001b[0;34m(\u001b[0m\u001b[0;34m*\u001b[0m\u001b[0margs\u001b[0m\u001b[0;34m,\u001b[0m \u001b[0;34m**\u001b[0m\u001b[0mkwargs\u001b[0m\u001b[0;34m)\u001b[0m\u001b[0;34m\u001b[0m\u001b[0m\n\u001b[0m\u001b[1;32m     87\u001b[0m \u001b[0;34m\u001b[0m\u001b[0m\n\u001b[1;32m     88\u001b[0m \u001b[0mconnect\u001b[0m \u001b[0;34m=\u001b[0m \u001b[0mConnection\u001b[0m \u001b[0;34m=\u001b[0m \u001b[0mConnect\u001b[0m\u001b[0;34m\u001b[0m\u001b[0m\n",
      "\u001b[0;32m/Users/mitch/anaconda/envs/cb/lib/python3.6/site-packages/MySQLdb/connections.py\u001b[0m in \u001b[0;36m__init__\u001b[0;34m(self, *args, **kwargs)\u001b[0m\n\u001b[1;32m    202\u001b[0m         \u001b[0mself\u001b[0m\u001b[0;34m.\u001b[0m\u001b[0mwaiter\u001b[0m \u001b[0;34m=\u001b[0m \u001b[0mkwargs2\u001b[0m\u001b[0;34m.\u001b[0m\u001b[0mpop\u001b[0m\u001b[0;34m(\u001b[0m\u001b[0;34m'waiter'\u001b[0m\u001b[0;34m,\u001b[0m \u001b[0;32mNone\u001b[0m\u001b[0;34m)\u001b[0m\u001b[0;34m\u001b[0m\u001b[0m\n\u001b[1;32m    203\u001b[0m \u001b[0;34m\u001b[0m\u001b[0m\n\u001b[0;32m--> 204\u001b[0;31m         \u001b[0msuper\u001b[0m\u001b[0;34m(\u001b[0m\u001b[0mConnection\u001b[0m\u001b[0;34m,\u001b[0m \u001b[0mself\u001b[0m\u001b[0;34m)\u001b[0m\u001b[0;34m.\u001b[0m\u001b[0m__init__\u001b[0m\u001b[0;34m(\u001b[0m\u001b[0;34m*\u001b[0m\u001b[0margs\u001b[0m\u001b[0;34m,\u001b[0m \u001b[0;34m**\u001b[0m\u001b[0mkwargs2\u001b[0m\u001b[0;34m)\u001b[0m\u001b[0;34m\u001b[0m\u001b[0m\n\u001b[0m\u001b[1;32m    205\u001b[0m         \u001b[0mself\u001b[0m\u001b[0;34m.\u001b[0m\u001b[0mcursorclass\u001b[0m \u001b[0;34m=\u001b[0m \u001b[0mcursorclass\u001b[0m\u001b[0;34m\u001b[0m\u001b[0m\n\u001b[1;32m    206\u001b[0m         self.encoders = dict([ (k, v) for k, v in conv.items()\n",
      "\u001b[0;31mOperationalError\u001b[0m: (1045, \"Access denied for user 'root'@'localhost' (using password: NO)\")"
     ]
    }
   ],
   "source": [
    "conn = dbConnect()\n",
    "people = dbTableToDataFrame(conn,'cb_people')\n",
    "degrees = dbTableToDataFrame(conn,'cb_degrees')\n",
    "funding_rounds = dbTableToDataFrame(conn,'cb_funding_rounds')\n",
    "objects = dbTableToDataFrame(conn,'cb_objects')\n",
    "conn.close()"
   ]
  },
  {
   "cell_type": "markdown",
   "metadata": {},
   "source": [
    "## The most successful businesses\n",
    "\n",
    "If we consider a successful business to be one that has raised the most capital through a variety of funding rounds, we can sort our dataset accordingly."
   ]
  },
  {
   "cell_type": "markdown",
   "metadata": {},
   "source": [
    "We can get the total raised by a company by using the `funding_total_usd` column in the objects database. Note that we only want to use companies, so we only select those with an `entity_type` of \"company\". We will also reduce the size of our dataframe to include only a couple important metrics."
   ]
  },
  {
   "cell_type": "code",
   "execution_count": null,
   "metadata": {},
   "outputs": [],
   "source": [
    "companies = objects[objects.entity_type=='Company'][['name','entity_id','funding_total_usd','closed_at']].copy()\n",
    "# Only select companies who have raised some money\n",
    "companies = companies.dropna(subset=['funding_total_usd'])\n",
    "display(companies.sort_values('funding_total_usd',ascending=False).head(10))\n",
    "\n",
    "comp_tot = len(companies)\n",
    "print('There are {:,} companies in the dataset'.format(comp_tot))"
   ]
  },
  {
   "cell_type": "markdown",
   "metadata": {},
   "source": [
    "Now that we have all of the companies, let's define exactly what we mean by the most successful companies. First, to get a feel for the data visually, let's look at the top 100 companies and their fundraising totals."
   ]
  },
  {
   "cell_type": "code",
   "execution_count": null,
   "metadata": {},
   "outputs": [],
   "source": [
    "fig,ax = plt.subplots(figsize=(20,20))\n",
    "n_top_companies = 100\n",
    "plotset = companies.sort_values('funding_total_usd',ascending=False).head(n_top_companies)\n",
    "ax = sns.barplot(x='funding_total_usd',y='name',data=plotset)\n",
    "ax.set_title('Funding Totals for the Top {} Companies'.format(n_top_companies),fontsize=22)\n",
    "ax.set_xscale('log')\n",
    "ax.set_xlabel('Funding Total [USD] -- Log Scale',fontsize=18);\n",
    "ax.set_yticklabels(labels=plotset.name)\n",
    "ax.set_ylabel('Company',fontsize=18)\n",
    "plt.savefig('results/funding_totals.png')"
   ]
  },
  {
   "cell_type": "markdown",
   "metadata": {},
   "source": [
    "Note that the y-axis is on a logarithmic scale, and so the visible trend is dramatically underexaggerated.\n",
    "\n",
    "It appears that only a handful of the companies fundraise greater than \\$1 billion (\\$$10^9$), though many more companies appear to fundraise in the millions. Let's find the exact percent of companies for each order of magnitude."
   ]
  },
  {
   "cell_type": "code",
   "execution_count": null,
   "metadata": {},
   "outputs": [],
   "source": [
    "I,F = 3,10\n",
    "for i in np.logspace(I,F,F-I+1):\n",
    "    num_above = len(companies[companies['funding_total_usd']>i])\n",
    "    frac = num_above/comp_tot\n",
    "    print('{:,} companies ({}%) above ${:,}'.format(num_above,round(100*frac,1),int(i)))"
   ]
  },
  {
   "cell_type": "markdown",
   "metadata": {},
   "source": [
    "We see from this that only slightly more than 25% of the companies fundraise more than $10 million. Let's define these 7309 companies as the most successful."
   ]
  },
  {
   "cell_type": "markdown",
   "metadata": {},
   "source": [
    "## The people behind the most successful businesses"
   ]
  },
  {
   "cell_type": "markdown",
   "metadata": {},
   "source": [
    "Next, we can use the people database to pair individuals with the company they are affiliated with. Like for the funding rounds data, we don't need all of the information provided in the database of people either. Since we ultimately want to look at educational factors, let's limit the dataset to only a person's name (first and last), `object_id`, and affiliation, in a key that will let us link to the degrees dataset."
   ]
  },
  {
   "cell_type": "code",
   "execution_count": null,
   "metadata": {
    "scrolled": false
   },
   "outputs": [],
   "source": [
    "people_key = people[['affiliation_name','first_name','last_name','object_id']]\n",
    "display(people_key.head(10))\n",
    "\n",
    "ppl_tot = len(people_key)\n",
    "print('There are {:,} people in the dataset'.format(ppl_tot))"
   ]
  },
  {
   "cell_type": "markdown",
   "metadata": {},
   "source": [
    "Now we merge the two datasets together to get each funded company and people in the crunchbase dataset who were involved."
   ]
  },
  {
   "cell_type": "code",
   "execution_count": null,
   "metadata": {},
   "outputs": [],
   "source": [
    "company_people = pd.merge(companies,people_key,left_on='name',right_on='affiliation_name').drop('affiliation_name',axis=1)\n",
    "display(company_people.head())\n",
    "\n",
    "cp_tot = len(company_people)\n",
    "print('There are {:,} people affiliated with funded companies in the dataset'.format(cp_tot))"
   ]
  },
  {
   "cell_type": "markdown",
   "metadata": {},
   "source": [
    "Interestingly, there are significantly fewer people associated with companies than there are people in the dataset."
   ]
  },
  {
   "cell_type": "markdown",
   "metadata": {},
   "source": [
    "We can now repeat the merging process with the dataset of educational information. First, let's limit the degrees dataset to include only degree type, institution, subject, and the id of the corresponding person (`object_id`). Then, we merge this into the database of companies and people."
   ]
  },
  {
   "cell_type": "code",
   "execution_count": null,
   "metadata": {},
   "outputs": [],
   "source": [
    "edu = degrees[['object_id','institution','degree_type','subject']].dropna(subset=['institution'])\n",
    "CPE = pd.merge(company_people,edu,on='object_id')\n",
    "display(CPE.head(10))"
   ]
  },
  {
   "cell_type": "markdown",
   "metadata": {},
   "source": [
    "Finally, we filter the dataset of company, people, and education to only those in the most successful businesses (those who fundraised more than $10 million)."
   ]
  },
  {
   "cell_type": "code",
   "execution_count": null,
   "metadata": {},
   "outputs": [],
   "source": [
    "successful_CPE = CPE[CPE['funding_total_usd']>10_000]\n",
    "display(successful_CPE.head())\n",
    "\n",
    "n_entries = len(CPE)\n",
    "n_unique_ppl = CPE['object_id'].nunique()\n",
    "print('There are {:,} entries in the dataset, and {:,} unique people in the dataset.'.format(n_entries,n_unique_ppl))\n",
    "print('On average, successful businesses involve people with an average of {} degrees.'.format(round(n_entries/n_unique_ppl,1)))"
   ]
  },
  {
   "cell_type": "markdown",
   "metadata": {},
   "source": [
    "We see that out of the 12,168 people in the full dataset, more than half are associated with well performing businesses. We also see that it is quite common for those at successful businesses to have multiple degrees."
   ]
  },
  {
   "cell_type": "markdown",
   "metadata": {},
   "source": [
    "# (Not so) humble beginnings\n",
    "\n",
    "Next we take a look at the institutions who have produced the people affiliated with the successful businesses. If we were to take a closer look at the table above, you would see that many of the institutions are duplicated, but often with slight variations for each school."
   ]
  },
  {
   "cell_type": "code",
   "execution_count": null,
   "metadata": {},
   "outputs": [],
   "source": [
    "for inst in CPE['institution'].sort_values().unique()[2660:2680]:\n",
    "    print(inst)"
   ]
  },
  {
   "cell_type": "markdown",
   "metadata": {},
   "source": [
    "We will try to eliminate some of these duplicates, while at the same time reducing the names in such a way that we can properly aggregate a school when it is named alternatively. We will do this by defining a function which processes a list of school names, removes punctuation and superfluous word (often we are not interested in specific business schools or law schools, and we want inputs like \"University of California–Berkeley\" and \"University of California, Berkeley\" to be treated the same. Note: the function defined here relies on a more complicated \"SchoolTools\" class which is contained in the `modules` module."
   ]
  },
  {
   "cell_type": "code",
   "execution_count": null,
   "metadata": {
    "collapsed": true
   },
   "outputs": [],
   "source": [
    "def identify_institutions(institutions):\n",
    "    '''\n",
    "    Identify institutions using a common name.\n",
    "    \n",
    "    Each person in the database has a university which was input by a user. \n",
    "    These inputs are not uniform, and so names are inconsistent for some schools.\n",
    "    (e.g. Berkeley could be UC Berkeley, Cal, or The University of California)\n",
    "    \n",
    "    Parameters\n",
    "    ----------\n",
    "    institutions : Series\n",
    "        A series giving a list of institutions to be identified.\n",
    "        \n",
    "    Returns\n",
    "    -------\n",
    "    inst : Series\n",
    "        A series where insitutions have been commonly identified.\n",
    "    \n",
    "    '''\n",
    "    ST = SchoolTools()\n",
    "    # Make all words lowercase\n",
    "    inst=institutions.str.lower()\n",
    "    #Remove stopwords\n",
    "    inst = ST.remove_stopwords(inst)\n",
    "    # Remove punctuation\n",
    "    inst = ST.remove_punctuation(inst)\n",
    "    # Replace common stems with just the stem, delete others, and replace keywords and nicknames with a common title.\n",
    "    inst = ST.identify_schools(inst)\n",
    "    return inst.str.title() "
   ]
  },
  {
   "cell_type": "code",
   "execution_count": null,
   "metadata": {
    "collapsed": true
   },
   "outputs": [],
   "source": [
    "cpe = CPE.copy()\n",
    "cpe.institution=identify_institutions(cpe.institution)"
   ]
  },
  {
   "cell_type": "markdown",
   "metadata": {},
   "source": [
    "This dataset is still quite large by itself. To reduce it's size, we will only focus on those schools which have contributed 15 or more people to successful businesses."
   ]
  },
  {
   "cell_type": "code",
   "execution_count": null,
   "metadata": {},
   "outputs": [],
   "source": [
    "people_contributed_min = 15\n",
    "inst_counts = pd.DataFrame(cpe.institution.value_counts())\n",
    "inst_counts = inst_counts.rename(columns={'institution':'total'})\n",
    "inst_mult = inst_counts[inst_counts.total>=people_contributed_min]\n",
    "cpe_count = pd.merge(cpe,inst_mult,left_on='institution',right_index=True).sort_values('total',ascending=False)\n",
    "cpe_count.head()"
   ]
  },
  {
   "cell_type": "markdown",
   "metadata": {},
   "source": [
    "To make more sense of this dataset, we will plot according to universities which have contributed the most people to successful businesses."
   ]
  },
  {
   "cell_type": "code",
   "execution_count": null,
   "metadata": {},
   "outputs": [],
   "source": [
    "fig,edu_ax = plt.subplots(figsize=(16,25))\n",
    "fig.suptitle('Graduates contributed to the most successful businesses by college',fontsize=22,x=0.55,y=1.01)\n",
    "\n",
    "edu_ax = sns.barplot(x='total',y='institution',data=cpe_count)\n",
    "edu_ax.tick_params(labelsize=18)\n",
    "edu_ax.xaxis.tick_top()\n",
    "edu_ax.set_xlabel('Number of graduates',fontsize=18);\n",
    "edu_ax.xaxis.set_label_position('top') \n",
    "edu_ax.set_yticklabels(labels=cpe_count.institution.unique(),fontsize=12)\n",
    "edu_ax.set_ylabel('School',fontsize=18)\n",
    "\n",
    "fig.tight_layout()\n",
    "plt.savefig('results/affiliates_by_school.png')"
   ]
  },
  {
   "cell_type": "markdown",
   "metadata": {
    "collapsed": true
   },
   "source": [
    "We can see that there are several universities contributing far more graduates to the top businesses than the rest. Just the top three schools (Stanford, Harvard, and UC Berkeley) produce more than 13% of executives and founders of these companies."
   ]
  },
  {
   "cell_type": "code",
   "execution_count": null,
   "metadata": {},
   "outputs": [],
   "source": [
    "cum_frac = 0\n",
    "for top_school in ['Stanford','Harvard','Berkeley']:\n",
    "    frac = inst_counts.total.loc[top_school]/inst_counts.total.sum()\n",
    "    cum_frac += frac\n",
    "    print('{} has {}% of the total graduates in top businesses.'.format(top_school,round(100*frac,1)))\n",
    "print('Together, these three schools produced {}% of the total graduates in top businesses.'.format(round(100*cum_frac,1)))"
   ]
  }
 ],
 "metadata": {
  "kernelspec": {
   "display_name": "Python 3",
   "language": "python",
   "name": "python3"
  },
  "language_info": {
   "codemirror_mode": {
    "name": "ipython",
    "version": 3
   },
   "file_extension": ".py",
   "mimetype": "text/x-python",
   "name": "python",
   "nbconvert_exporter": "python",
   "pygments_lexer": "ipython3",
   "version": "3.6.1"
  }
 },
 "nbformat": 4,
 "nbformat_minor": 2
}
